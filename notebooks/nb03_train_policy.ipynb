{
 "cells": [
  {
   "cell_type": "markdown",
   "metadata": {},
   "source": [
    "### Train a Policy Network\n",
    "\n",
    "This notebook trains a policy network, which can predict next move from current features."
   ]
  },
  {
   "cell_type": "code",
   "execution_count": 1,
   "metadata": {},
   "outputs": [],
   "source": [
    "import glob\n",
    "import os\n",
    "import numpy as np\n",
    "import tensorflow as tf\n",
    "\n",
    "from tensorflow import keras\n",
    "from tensorflow.keras import optimizers\n",
    "from tensorflow.keras.callbacks import ModelCheckpoint\n",
    "from tensorflow.keras.layers import Activation, Conv2D, Dense, Dropout, Flatten, Input, MaxPooling2D\n",
    "from tensorflow.keras.models import load_model\n",
    "\n",
    "from visualization import SvgGoBoard\n",
    "from train_utils import ParseForPolicy, ParseForPolicy, CreateDataset\n",
    "\n",
    "tf.enable_eager_execution()"
   ]
  },
  {
   "cell_type": "code",
   "execution_count": 5,
   "metadata": {},
   "outputs": [],
   "source": [
    "BOARD_SIZE = 19\n",
    "NUM_CHANNELS = 7\n",
    "BATCH_SIZE = 64\n",
    "SHUFFLE_BUFFER = 12800\n",
    "\n",
    "\n",
    "def BuildModel():\n",
    "    input = Input(shape=(BOARD_SIZE, BOARD_SIZE, NUM_CHANNELS), name=\"go_input\")\n",
    "    x = Conv2D(filters=64, kernel_size=(7,7), activation=\"relu\", padding=\"same\",\n",
    "               data_format='channels_last')(input)\n",
    "    x = Conv2D(filters=64, kernel_size=(7,7), activation=\"relu\", padding=\"same\",\n",
    "               data_format='channels_last')(x)\n",
    "    x = Conv2D(filters=32, kernel_size=(5,5), activation=\"relu\", padding=\"same\",\n",
    "               data_format='channels_last')(x)\n",
    "    x = Conv2D(filters=32, kernel_size=(5,5), activation=\"relu\", padding=\"same\",\n",
    "               data_format='channels_last')(x)\n",
    "    x = Dropout(0.5)(x)\n",
    "    x = Conv2D(filters=32, kernel_size=(5,5), activation=\"relu\", padding=\"same\",\n",
    "               data_format='channels_last')(x)\n",
    "    x = Flatten()(x)\n",
    "    x = Dropout(0.5)(x)\n",
    "    x = Dense(512)(x)\n",
    "    x = Dense(BOARD_SIZE*BOARD_SIZE)(x)\n",
    "    policy_output = Activation(\"softmax\", name=\"policy_output\")(x)\n",
    "\n",
    "    model = keras.models.Model(inputs=input, outputs=[policy_output])\n",
    "    return model"
   ]
  },
  {
   "cell_type": "code",
   "execution_count": 6,
   "metadata": {},
   "outputs": [],
   "source": [
    "def CompileModel(model):\n",
    "    model.compile(optimizer=\"sgd\", loss=\"sparse_categorical_crossentropy\", metrics=[\"accuracy\"])\n",
    "    print(model.summary())\n",
    "    return model"
   ]
  },
  {
   "cell_type": "code",
   "execution_count": 7,
   "metadata": {},
   "outputs": [
    {
     "name": "stdout",
     "output_type": "stream",
     "text": [
      "_________________________________________________________________\n",
      "Layer (type)                 Output Shape              Param #   \n",
      "=================================================================\n",
      "go_input (InputLayer)        (None, 19, 19, 7)         0         \n",
      "_________________________________________________________________\n",
      "conv2d_5 (Conv2D)            (None, 19, 19, 64)        22016     \n",
      "_________________________________________________________________\n",
      "conv2d_6 (Conv2D)            (None, 19, 19, 64)        200768    \n",
      "_________________________________________________________________\n",
      "conv2d_7 (Conv2D)            (None, 19, 19, 32)        51232     \n",
      "_________________________________________________________________\n",
      "conv2d_8 (Conv2D)            (None, 19, 19, 32)        25632     \n",
      "_________________________________________________________________\n",
      "dropout_2 (Dropout)          (None, 19, 19, 32)        0         \n",
      "_________________________________________________________________\n",
      "conv2d_9 (Conv2D)            (None, 19, 19, 32)        25632     \n",
      "_________________________________________________________________\n",
      "flatten_1 (Flatten)          (None, 11552)             0         \n",
      "_________________________________________________________________\n",
      "dropout_3 (Dropout)          (None, 11552)             0         \n",
      "_________________________________________________________________\n",
      "dense_2 (Dense)              (None, 512)               5915136   \n",
      "_________________________________________________________________\n",
      "dense_3 (Dense)              (None, 361)               185193    \n",
      "_________________________________________________________________\n",
      "policy_output (Activation)   (None, 361)               0         \n",
      "=================================================================\n",
      "Total params: 6,425,609\n",
      "Trainable params: 6,425,609\n",
      "Non-trainable params: 0\n",
      "_________________________________________________________________\n",
      "None\n",
      "_________________________________________________________________\n",
      "Layer (type)                 Output Shape              Param #   \n",
      "=================================================================\n",
      "go_input (InputLayer)        (None, 19, 19, 7)         0         \n",
      "_________________________________________________________________\n",
      "conv2d_5 (Conv2D)            (None, 19, 19, 64)        22016     \n",
      "_________________________________________________________________\n",
      "conv2d_6 (Conv2D)            (None, 19, 19, 64)        200768    \n",
      "_________________________________________________________________\n",
      "conv2d_7 (Conv2D)            (None, 19, 19, 32)        51232     \n",
      "_________________________________________________________________\n",
      "conv2d_8 (Conv2D)            (None, 19, 19, 32)        25632     \n",
      "_________________________________________________________________\n",
      "dropout_2 (Dropout)          (None, 19, 19, 32)        0         \n",
      "_________________________________________________________________\n",
      "conv2d_9 (Conv2D)            (None, 19, 19, 32)        25632     \n",
      "_________________________________________________________________\n",
      "flatten_1 (Flatten)          (None, 11552)             0         \n",
      "_________________________________________________________________\n",
      "dropout_3 (Dropout)          (None, 11552)             0         \n",
      "_________________________________________________________________\n",
      "dense_2 (Dense)              (None, 512)               5915136   \n",
      "_________________________________________________________________\n",
      "dense_3 (Dense)              (None, 361)               185193    \n",
      "_________________________________________________________________\n",
      "policy_output (Activation)   (None, 361)               0         \n",
      "=================================================================\n",
      "Total params: 6,425,609\n",
      "Trainable params: 6,425,609\n",
      "Non-trainable params: 0\n",
      "_________________________________________________________________\n"
     ]
    }
   ],
   "source": [
    "model = BuildModel()\n",
    "model = CompileModel(model)\n",
    "model.summary()"
   ]
  },
  {
   "cell_type": "code",
   "execution_count": 8,
   "metadata": {},
   "outputs": [],
   "source": [
    "train_set = CreateDataset(glob.glob(\"/home/tc/SGF/rio/training/data-0000.rio\"), BATCH_SIZE)\n",
    "train_set = train_set.shuffle(buffer_size=SHUFFLE_BUFFER)"
   ]
  },
  {
   "cell_type": "code",
   "execution_count": 9,
   "metadata": {},
   "outputs": [
    {
     "name": "stdout",
     "output_type": "stream",
     "text": [
      "Epoch 1/10\n",
      "1000/1000 [==============================] - 21s 21ms/step - loss: 5.8856 - acc: 0.0032\n",
      "Epoch 2/10\n",
      "1000/1000 [==============================] - 20s 20ms/step - loss: 5.8670 - acc: 0.0034\n",
      "Epoch 3/10\n",
      "1000/1000 [==============================] - 20s 20ms/step - loss: 5.7925 - acc: 0.0052\n",
      "Epoch 4/10\n",
      "1000/1000 [==============================] - 20s 20ms/step - loss: 5.7321 - acc: 0.0059\n",
      "Epoch 5/10\n",
      "1000/1000 [==============================] - 20s 20ms/step - loss: 5.7039 - acc: 0.0057\n",
      "Epoch 6/10\n",
      "1000/1000 [==============================] - 20s 20ms/step - loss: 5.6902 - acc: 0.0058\n",
      "Epoch 7/10\n",
      "1000/1000 [==============================] - 20s 20ms/step - loss: 5.6524 - acc: 0.0065\n",
      "Epoch 8/10\n",
      "1000/1000 [==============================] - 20s 20ms/step - loss: 5.6441 - acc: 0.0066\n",
      "Epoch 9/10\n",
      "1000/1000 [==============================] - 20s 20ms/step - loss: 5.6397 - acc: 0.0070\n",
      "Epoch 10/10\n",
      "1000/1000 [==============================] - 20s 20ms/step - loss: 5.6110 - acc: 0.0077\n"
     ]
    },
    {
     "data": {
      "text/plain": [
       "<tensorflow.python.keras.callbacks.History at 0x7f72502fe128>"
      ]
     },
     "execution_count": 9,
     "metadata": {},
     "output_type": "execute_result"
    }
   ],
   "source": [
    "model.fit(train_set, epochs=10, steps_per_epoch=1000)"
   ]
  },
  {
   "cell_type": "code",
   "execution_count": 10,
   "metadata": {},
   "outputs": [
    {
     "name": "stdout",
     "output_type": "stream",
     "text": [
      "1000/1000 [==============================] - 12s 12ms/step - loss: 5.6651 - acc: 0.0082\n",
      "test loss: 5.665090\n",
      "test accuracy: 0.008234\n"
     ]
    }
   ],
   "source": [
    "test_set = CreateDataset([\"/home/tc/SGF/rio/test/data-0000.rio\"], BATCH_SIZE)\n",
    "loss, acc = model.evaluate(test_set, steps=1000)\n",
    "print(\"test loss: %f\" % loss)\n",
    "print(\"test accuracy: %f\" % acc)"
   ]
  }
 ],
 "metadata": {
  "kernelspec": {
   "display_name": "Python 3",
   "language": "python",
   "name": "python3"
  },
  "language_info": {
   "codemirror_mode": {
    "name": "ipython",
    "version": 3
   },
   "file_extension": ".py",
   "mimetype": "text/x-python",
   "name": "python",
   "nbconvert_exporter": "python",
   "pygments_lexer": "ipython3",
   "version": "3.6.7"
  }
 },
 "nbformat": 4,
 "nbformat_minor": 2
}
