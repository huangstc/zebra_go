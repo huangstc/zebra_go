{
 "cells": [
  {
   "cell_type": "markdown",
   "metadata": {
    "slideshow": {
     "slide_type": "-"
    }
   },
   "source": [
    "### Train a Policy Network\n",
    "\n",
    "This notebook trains a policy network, which can predict next move from current features."
   ]
  },
  {
   "cell_type": "code",
   "execution_count": 1,
   "metadata": {
    "slideshow": {
     "slide_type": "-"
    }
   },
   "outputs": [],
   "source": [
    "import glob\n",
    "import os\n",
    "import numpy as np\n",
    "import tensorflow as tf\n",
    "\n",
    "from tensorflow import keras\n",
    "from tensorflow.keras import optimizers\n",
    "from tensorflow.keras.callbacks import ModelCheckpoint\n",
    "from tensorflow.keras.layers import Activation, Conv2D, Dense, Dropout, Flatten, Input, MaxPooling2D\n",
    "from tensorflow.keras.models import load_model\n",
    "\n",
    "from visualization import SvgGoBoard\n",
    "from train_utils import ParseForPolicy, ParseForPolicy, CreateDataset\n",
    "\n",
    "tf.enable_eager_execution()"
   ]
  },
  {
   "cell_type": "code",
   "execution_count": 2,
   "metadata": {
    "slideshow": {
     "slide_type": "-"
    }
   },
   "outputs": [],
   "source": [
    "BOARD_SIZE = 19\n",
    "NUM_CHANNELS = 7\n",
    "BATCH_SIZE = 64\n",
    "SHUFFLE_BUFFER = 12800\n",
    "\n",
    "\n",
    "def BuildModel():\n",
    "    input = Input(shape=(BOARD_SIZE, BOARD_SIZE, NUM_CHANNELS), name=\"go_input\")\n",
    "    x = Conv2D(filters=64, kernel_size=(7,7), activation=\"relu\", padding=\"same\",\n",
    "               data_format='channels_last')(input)\n",
    "    x = Conv2D(filters=64, kernel_size=(7,7), activation=\"relu\", padding=\"same\",\n",
    "               data_format='channels_last')(x)\n",
    "    x = Conv2D(filters=32, kernel_size=(5,5), activation=\"relu\", padding=\"same\",\n",
    "               data_format='channels_last')(x)\n",
    "    x = Conv2D(filters=32, kernel_size=(5,5), activation=\"relu\", padding=\"same\",\n",
    "               data_format='channels_last')(x)\n",
    "    x = Dropout(0.5)(x)\n",
    "    x = Conv2D(filters=32, kernel_size=(5,5), activation=\"relu\", padding=\"same\",\n",
    "               data_format='channels_last')(x)\n",
    "    x = Flatten()(x)\n",
    "    x = Dropout(0.5)(x)\n",
    "    x = Dense(512)(x)\n",
    "    x = Dense(BOARD_SIZE*BOARD_SIZE)(x)\n",
    "    policy_output = Activation(\"softmax\", name=\"policy_output\")(x)\n",
    "\n",
    "    model = keras.models.Model(inputs=input, outputs=[policy_output])\n",
    "    return model"
   ]
  },
  {
   "cell_type": "code",
   "execution_count": 3,
   "metadata": {
    "slideshow": {
     "slide_type": "-"
    }
   },
   "outputs": [],
   "source": [
    "def CompileModel(model):\n",
    "    model.compile(optimizer=\"sgd\", loss=\"sparse_categorical_crossentropy\", metrics=[\"accuracy\"])\n",
    "    print(model.summary())\n",
    "    return model"
   ]
  },
  {
   "cell_type": "code",
   "execution_count": null,
   "metadata": {
    "slideshow": {
     "slide_type": "-"
    }
   },
   "outputs": [],
   "source": [
    "model = BuildModel()\n",
    "model = CompileModel(model)\n",
    "model.summary()"
   ]
  },
  {
   "cell_type": "code",
   "execution_count": 5,
   "metadata": {
    "slideshow": {
     "slide_type": "-"
    }
   },
   "outputs": [],
   "source": [
    "train_set = CreateDataset(glob.glob(\"/home/tc/SGF/mini/rio/training/data-0000.rio\"), BATCH_SIZE)\n",
    "train_set = train_set.shuffle(buffer_size=SHUFFLE_BUFFER)"
   ]
  },
  {
   "cell_type": "code",
   "execution_count": 6,
   "metadata": {
    "slideshow": {
     "slide_type": "-"
    }
   },
   "outputs": [
    {
     "name": "stdout",
     "output_type": "stream",
     "text": [
      "Epoch 1/10\n",
      "1000/1000 [==============================] - 93s 93ms/step - loss: 5.8797 - acc: 0.0030\n",
      "Epoch 2/10\n",
      "1000/1000 [==============================] - 20s 20ms/step - loss: 5.8392 - acc: 0.0034\n",
      "Epoch 3/10\n",
      "1000/1000 [==============================] - 20s 20ms/step - loss: 5.7624 - acc: 0.0055\n",
      "Epoch 4/10\n",
      "1000/1000 [==============================] - 20s 20ms/step - loss: 5.7223 - acc: 0.0055\n",
      "Epoch 5/10\n",
      "1000/1000 [==============================] - 20s 20ms/step - loss: 5.6952 - acc: 0.0065\n",
      "Epoch 6/10\n",
      "1000/1000 [==============================] - 20s 20ms/step - loss: 5.6627 - acc: 0.0067\n",
      "Epoch 7/10\n",
      "1000/1000 [==============================] - 20s 20ms/step - loss: 5.6363 - acc: 0.0075\n",
      "Epoch 8/10\n",
      "1000/1000 [==============================] - 20s 20ms/step - loss: 5.6339 - acc: 0.0083\n",
      "Epoch 9/10\n",
      "1000/1000 [==============================] - 20s 20ms/step - loss: 5.6208 - acc: 0.0080\n",
      "Epoch 10/10\n",
      "1000/1000 [==============================] - 20s 20ms/step - loss: 5.5926 - acc: 0.0088\n"
     ]
    },
    {
     "data": {
      "text/plain": [
       "<tensorflow.python.keras.callbacks.History at 0x7fcc7032c400>"
      ]
     },
     "execution_count": 6,
     "metadata": {},
     "output_type": "execute_result"
    }
   ],
   "source": [
    "model.fit(train_set, epochs=10, steps_per_epoch=1000)"
   ]
  },
  {
   "cell_type": "code",
   "execution_count": 9,
   "metadata": {
    "slideshow": {
     "slide_type": "-"
    }
   },
   "outputs": [
    {
     "name": "stdout",
     "output_type": "stream",
     "text": [
      "1000/1000 [==============================] - 12s 12ms/step - loss: 5.5862 - acc: 0.0087\n",
      "test loss: 5.586160\n",
      "test accuracy: 0.008703\n"
     ]
    }
   ],
   "source": [
    "test_set = CreateDataset([\"/home/tc/SGF/mini/rio/test/data-0000.rio\"], BATCH_SIZE)\n",
    "loss, acc = model.evaluate(test_set, steps=1000)\n",
    "print(\"test loss: %f\" % loss)\n",
    "print(\"test accuracy: %f\" % acc)"
   ]
  },
  {
   "cell_type": "code",
   "execution_count": null,
   "metadata": {},
   "outputs": [],
   "source": []
  }
 ],
 "metadata": {
  "kernelspec": {
   "display_name": "Python 3",
   "language": "python",
   "name": "python3"
  },
  "language_info": {
   "codemirror_mode": {
    "name": "ipython",
    "version": 3
   },
   "file_extension": ".py",
   "mimetype": "text/x-python",
   "name": "python",
   "nbconvert_exporter": "python",
   "pygments_lexer": "ipython3",
   "version": "3.6.7"
  }
 },
 "nbformat": 4,
 "nbformat_minor": 2
}
