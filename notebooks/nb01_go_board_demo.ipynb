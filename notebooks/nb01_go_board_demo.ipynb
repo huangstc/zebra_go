{
 "cells": [
  {
   "cell_type": "markdown",
   "metadata": {},
   "source": [
    "### SvgGoBoard\n",
    "\n",
    "This document demonstrates the usage of SvgGoBoard that can draw a Go board in a Jupyter Notebook.\n",
    "\n",
    "The class has three methods:\n",
    "* Constructor: ``` SvgGoBoard(width, height, coord_stype)```, where ```coord_style``` can be ```'A1'``` or ```'00'```;\n",
    "* ```AddStone(x, y, color)```: adds a stone to the board, where ```color=1``` for a black stone or ```color=-1``` for a white stone;\n",
    "* ```AddSquare(x, y, number)```: adds a highlighted square with a number to the board."
   ]
  },
  {
   "cell_type": "code",
   "execution_count": 1,
   "metadata": {},
   "outputs": [
    {
     "data": {
      "image/svg+xml": [
       "b'<svg height=\"530\" version=\"1.1\" width=\"530\" xmlns=\"http://www.w3.org/2000/svg\"><g style=\"fill-opacity:1.0; stroke:black; stroke-width:1;\"><rect height=\"530\" style=\"fill:wheat;\" width=\"530\" x=\"0\" y=\"0\" /><line x1=\"40\" x2=\"40\" y1=\"40\" y2=\"490\" /><line x1=\"65\" x2=\"65\" y1=\"40\" y2=\"490\" /><line x1=\"90\" x2=\"90\" y1=\"40\" y2=\"490\" /><line x1=\"115\" x2=\"115\" y1=\"40\" y2=\"490\" /><line x1=\"140\" x2=\"140\" y1=\"40\" y2=\"490\" /><line x1=\"165\" x2=\"165\" y1=\"40\" y2=\"490\" /><line x1=\"190\" x2=\"190\" y1=\"40\" y2=\"490\" /><line x1=\"215\" x2=\"215\" y1=\"40\" y2=\"490\" /><line x1=\"240\" x2=\"240\" y1=\"40\" y2=\"490\" /><line x1=\"265\" x2=\"265\" y1=\"40\" y2=\"490\" /><line x1=\"290\" x2=\"290\" y1=\"40\" y2=\"490\" /><line x1=\"315\" x2=\"315\" y1=\"40\" y2=\"490\" /><line x1=\"340\" x2=\"340\" y1=\"40\" y2=\"490\" /><line x1=\"365\" x2=\"365\" y1=\"40\" y2=\"490\" /><line x1=\"390\" x2=\"390\" y1=\"40\" y2=\"490\" /><line x1=\"415\" x2=\"415\" y1=\"40\" y2=\"490\" /><line x1=\"440\" x2=\"440\" y1=\"40\" y2=\"490\" /><line x1=\"465\" x2=\"465\" y1=\"40\" y2=\"490\" /><line x1=\"490\" x2=\"490\" y1=\"40\" y2=\"490\" /><line x1=\"40\" x2=\"490\" y1=\"40\" y2=\"40\" /><line x1=\"40\" x2=\"490\" y1=\"65\" y2=\"65\" /><line x1=\"40\" x2=\"490\" y1=\"90\" y2=\"90\" /><line x1=\"40\" x2=\"490\" y1=\"115\" y2=\"115\" /><line x1=\"40\" x2=\"490\" y1=\"140\" y2=\"140\" /><line x1=\"40\" x2=\"490\" y1=\"165\" y2=\"165\" /><line x1=\"40\" x2=\"490\" y1=\"190\" y2=\"190\" /><line x1=\"40\" x2=\"490\" y1=\"215\" y2=\"215\" /><line x1=\"40\" x2=\"490\" y1=\"240\" y2=\"240\" /><line x1=\"40\" x2=\"490\" y1=\"265\" y2=\"265\" /><line x1=\"40\" x2=\"490\" y1=\"290\" y2=\"290\" /><line x1=\"40\" x2=\"490\" y1=\"315\" y2=\"315\" /><line x1=\"40\" x2=\"490\" y1=\"340\" y2=\"340\" /><line x1=\"40\" x2=\"490\" y1=\"365\" y2=\"365\" /><line x1=\"40\" x2=\"490\" y1=\"390\" y2=\"390\" /><line x1=\"40\" x2=\"490\" y1=\"415\" y2=\"415\" /><line x1=\"40\" x2=\"490\" y1=\"440\" y2=\"440\" /><line x1=\"40\" x2=\"490\" y1=\"465\" y2=\"465\" /><line x1=\"40\" x2=\"490\" y1=\"490\" y2=\"490\" /><text font-size=\"15\" font-weight=\"lighter\" x=\"36\" y=\"18\">A</text><text font-size=\"15\" font-weight=\"lighter\" x=\"36\" y=\"520\">A</text><text font-size=\"15\" font-weight=\"lighter\" x=\"61\" y=\"18\">B</text><text font-size=\"15\" font-weight=\"lighter\" x=\"61\" y=\"520\">B</text><text font-size=\"15\" font-weight=\"lighter\" x=\"86\" y=\"18\">C</text><text font-size=\"15\" font-weight=\"lighter\" x=\"86\" y=\"520\">C</text><text font-size=\"15\" font-weight=\"lighter\" x=\"111\" y=\"18\">D</text><text font-size=\"15\" font-weight=\"lighter\" x=\"111\" y=\"520\">D</text><text font-size=\"15\" font-weight=\"lighter\" x=\"136\" y=\"18\">E</text><text font-size=\"15\" font-weight=\"lighter\" x=\"136\" y=\"520\">E</text><text font-size=\"15\" font-weight=\"lighter\" x=\"161\" y=\"18\">F</text><text font-size=\"15\" font-weight=\"lighter\" x=\"161\" y=\"520\">F</text><text font-size=\"15\" font-weight=\"lighter\" x=\"186\" y=\"18\">G</text><text font-size=\"15\" font-weight=\"lighter\" x=\"186\" y=\"520\">G</text><text font-size=\"15\" font-weight=\"lighter\" x=\"211\" y=\"18\">H</text><text font-size=\"15\" font-weight=\"lighter\" x=\"211\" y=\"520\">H</text><text font-size=\"15\" font-weight=\"lighter\" x=\"236\" y=\"18\">J</text><text font-size=\"15\" font-weight=\"lighter\" x=\"236\" y=\"520\">J</text><text font-size=\"15\" font-weight=\"lighter\" x=\"261\" y=\"18\">K</text><text font-size=\"15\" font-weight=\"lighter\" x=\"261\" y=\"520\">K</text><text font-size=\"15\" font-weight=\"lighter\" x=\"286\" y=\"18\">L</text><text font-size=\"15\" font-weight=\"lighter\" x=\"286\" y=\"520\">L</text><text font-size=\"15\" font-weight=\"lighter\" x=\"311\" y=\"18\">M</text><text font-size=\"15\" font-weight=\"lighter\" x=\"311\" y=\"520\">M</text><text font-size=\"15\" font-weight=\"lighter\" x=\"336\" y=\"18\">N</text><text font-size=\"15\" font-weight=\"lighter\" x=\"336\" y=\"520\">N</text><text font-size=\"15\" font-weight=\"lighter\" x=\"361\" y=\"18\">O</text><text font-size=\"15\" font-weight=\"lighter\" x=\"361\" y=\"520\">O</text><text font-size=\"15\" font-weight=\"lighter\" x=\"386\" y=\"18\">P</text><text font-size=\"15\" font-weight=\"lighter\" x=\"386\" y=\"520\">P</text><text font-size=\"15\" font-weight=\"lighter\" x=\"411\" y=\"18\">Q</text><text font-size=\"15\" font-weight=\"lighter\" x=\"411\" y=\"520\">Q</text><text font-size=\"15\" font-weight=\"lighter\" x=\"436\" y=\"18\">R</text><text font-size=\"15\" font-weight=\"lighter\" x=\"436\" y=\"520\">R</text><text font-size=\"15\" font-weight=\"lighter\" x=\"461\" y=\"18\">S</text><text font-size=\"15\" font-weight=\"lighter\" x=\"461\" y=\"520\">S</text><text font-size=\"15\" font-weight=\"lighter\" x=\"486\" y=\"18\">T</text><text font-size=\"15\" font-weight=\"lighter\" x=\"486\" y=\"520\">T</text><text font-size=\"15\" font-weight=\"lighter\" x=\"7\" y=\"46\">1</text><text font-size=\"15\" font-weight=\"lighter\" x=\"508\" y=\"46\">1</text><text font-size=\"15\" font-weight=\"lighter\" x=\"7\" y=\"71\">2</text><text font-size=\"15\" font-weight=\"lighter\" x=\"508\" y=\"71\">2</text><text font-size=\"15\" font-weight=\"lighter\" x=\"7\" y=\"96\">3</text><text font-size=\"15\" font-weight=\"lighter\" x=\"508\" y=\"96\">3</text><text font-size=\"15\" font-weight=\"lighter\" x=\"7\" y=\"121\">4</text><text font-size=\"15\" font-weight=\"lighter\" x=\"508\" y=\"121\">4</text><text font-size=\"15\" font-weight=\"lighter\" x=\"7\" y=\"146\">5</text><text font-size=\"15\" font-weight=\"lighter\" x=\"508\" y=\"146\">5</text><text font-size=\"15\" font-weight=\"lighter\" x=\"7\" y=\"171\">6</text><text font-size=\"15\" font-weight=\"lighter\" x=\"508\" y=\"171\">6</text><text font-size=\"15\" font-weight=\"lighter\" x=\"7\" y=\"196\">7</text><text font-size=\"15\" font-weight=\"lighter\" x=\"508\" y=\"196\">7</text><text font-size=\"15\" font-weight=\"lighter\" x=\"7\" y=\"221\">8</text><text font-size=\"15\" font-weight=\"lighter\" x=\"508\" y=\"221\">8</text><text font-size=\"15\" font-weight=\"lighter\" x=\"7\" y=\"246\">9</text><text font-size=\"15\" font-weight=\"lighter\" x=\"508\" y=\"246\">9</text><text font-size=\"15\" font-weight=\"lighter\" x=\"7\" y=\"271\">10</text><text font-size=\"15\" font-weight=\"lighter\" x=\"508\" y=\"271\">10</text><text font-size=\"15\" font-weight=\"lighter\" x=\"7\" y=\"296\">11</text><text font-size=\"15\" font-weight=\"lighter\" x=\"508\" y=\"296\">11</text><text font-size=\"15\" font-weight=\"lighter\" x=\"7\" y=\"321\">12</text><text font-size=\"15\" font-weight=\"lighter\" x=\"508\" y=\"321\">12</text><text font-size=\"15\" font-weight=\"lighter\" x=\"7\" y=\"346\">13</text><text font-size=\"15\" font-weight=\"lighter\" x=\"508\" y=\"346\">13</text><text font-size=\"15\" font-weight=\"lighter\" x=\"7\" y=\"371\">14</text><text font-size=\"15\" font-weight=\"lighter\" x=\"508\" y=\"371\">14</text><text font-size=\"15\" font-weight=\"lighter\" x=\"7\" y=\"396\">15</text><text font-size=\"15\" font-weight=\"lighter\" x=\"508\" y=\"396\">15</text><text font-size=\"15\" font-weight=\"lighter\" x=\"7\" y=\"421\">16</text><text font-size=\"15\" font-weight=\"lighter\" x=\"508\" y=\"421\">16</text><text font-size=\"15\" font-weight=\"lighter\" x=\"7\" y=\"446\">17</text><text font-size=\"15\" font-weight=\"lighter\" x=\"508\" y=\"446\">17</text><text font-size=\"15\" font-weight=\"lighter\" x=\"7\" y=\"471\">18</text><text font-size=\"15\" font-weight=\"lighter\" x=\"508\" y=\"471\">18</text><text font-size=\"15\" font-weight=\"lighter\" x=\"7\" y=\"496\">19</text><text font-size=\"15\" font-weight=\"lighter\" x=\"508\" y=\"496\">19</text><circle cx=\"115\" cy=\"415\" r=\"2\" style=\"fill:black;\" /><circle cx=\"265\" cy=\"415\" r=\"2\" style=\"fill:black;\" /><circle cx=\"390\" cy=\"415\" r=\"2\" style=\"fill:black;\" /><circle cx=\"115\" cy=\"265\" r=\"2\" style=\"fill:black;\" /><circle cx=\"115\" cy=\"140\" r=\"2\" style=\"fill:black;\" /><circle cx=\"265\" cy=\"415\" r=\"2\" style=\"fill:black;\" /><circle cx=\"265\" cy=\"140\" r=\"2\" style=\"fill:black;\" /><circle cx=\"390\" cy=\"415\" r=\"2\" style=\"fill:black;\" /><circle cx=\"390\" cy=\"140\" r=\"2\" style=\"fill:black;\" /><circle cx=\"265.0\" cy=\"265.0\" r=\"2\" style=\"fill:black;\" /><circle cx=\"40\" cy=\"40\" r=\"11\" style=\"fill:black;\" /><circle cx=\"65\" cy=\"40\" r=\"11\" style=\"fill:white;\" /><circle cx=\"40\" cy=\"65\" r=\"11\" style=\"fill:white;\" /><circle cx=\"65\" cy=\"65\" r=\"11\" style=\"fill:black;\" /><circle cx=\"465\" cy=\"40\" r=\"11\" style=\"fill:black;\" /><circle cx=\"490\" cy=\"40\" r=\"11\" style=\"fill:white;\" /><circle cx=\"465\" cy=\"65\" r=\"11\" style=\"fill:white;\" /><circle cx=\"490\" cy=\"65\" r=\"11\" style=\"fill:black;\" /><circle cx=\"40\" cy=\"465\" r=\"11\" style=\"fill:black;\" /><circle cx=\"40\" cy=\"490\" r=\"11\" style=\"fill:white;\" /><circle cx=\"65\" cy=\"465\" r=\"11\" style=\"fill:white;\" /><circle cx=\"65\" cy=\"490\" r=\"11\" style=\"fill:black;\" /><circle cx=\"465\" cy=\"465\" r=\"11\" style=\"fill:black;\" /><circle cx=\"490\" cy=\"465\" r=\"11\" style=\"fill:white;\" /><circle cx=\"465\" cy=\"490\" r=\"11\" style=\"fill:white;\" /><circle cx=\"490\" cy=\"490\" r=\"11\" style=\"fill:black;\" /><circle cx=\"265\" cy=\"265\" r=\"11\" style=\"fill:black;\" /><rect fill=\"yellow\" height=\"16\" width=\"16\" x=\"257\" y=\"282\" /><text font-size=\"15\" font-weight=\"lighter\" x=\"260\" y=\"295\">3</text></g></svg>'"
      ],
      "text/plain": [
       "<visualization.SvgGoBoard at 0x7f65b4b11400>"
      ]
     },
     "execution_count": 1,
     "metadata": {},
     "output_type": "execute_result"
    }
   ],
   "source": [
    "from visualization import SvgGoBoard\n",
    "\n",
    "bb = SvgGoBoard(19, 19, coord_style='A1')\n",
    "bb.AddStone(0, 0, 1)\n",
    "bb.AddStone(1, 0, -1)\n",
    "bb.AddStone(0, 1, -1)\n",
    "bb.AddStone(1, 1, 1)\n",
    "bb.AddStone(17, 0, 1)\n",
    "bb.AddStone(18, 0, -1)\n",
    "bb.AddStone(17, 1, -1)\n",
    "bb.AddStone(18, 1, 1)\n",
    "bb.AddStone(0, 17, 1)\n",
    "bb.AddStone(0, 18, -1)\n",
    "bb.AddStone(1, 17, -1)\n",
    "bb.AddStone(1, 18, 1)\n",
    "bb.AddStone(17, 17, 1)\n",
    "bb.AddStone(18, 17, -1)\n",
    "bb.AddStone(17, 18, -1)\n",
    "bb.AddStone(18, 18, 1) \n",
    "bb.AddStone(9, 9, 1)\n",
    "bb.AddSquare(9, 10, 3)\n",
    "bb"
   ]
  },
  {
   "cell_type": "code",
   "execution_count": 2,
   "metadata": {},
   "outputs": [
    {
     "data": {
      "image/svg+xml": [
       "b'<svg height=\"280\" version=\"1.1\" width=\"280\" xmlns=\"http://www.w3.org/2000/svg\"><g style=\"fill-opacity:1.0; stroke:black; stroke-width:1;\"><rect height=\"280\" style=\"fill:wheat;\" width=\"280\" x=\"0\" y=\"0\" /><line x1=\"40\" x2=\"40\" y1=\"40\" y2=\"240\" /><line x1=\"65\" x2=\"65\" y1=\"40\" y2=\"240\" /><line x1=\"90\" x2=\"90\" y1=\"40\" y2=\"240\" /><line x1=\"115\" x2=\"115\" y1=\"40\" y2=\"240\" /><line x1=\"140\" x2=\"140\" y1=\"40\" y2=\"240\" /><line x1=\"165\" x2=\"165\" y1=\"40\" y2=\"240\" /><line x1=\"190\" x2=\"190\" y1=\"40\" y2=\"240\" /><line x1=\"215\" x2=\"215\" y1=\"40\" y2=\"240\" /><line x1=\"240\" x2=\"240\" y1=\"40\" y2=\"240\" /><line x1=\"40\" x2=\"240\" y1=\"40\" y2=\"40\" /><line x1=\"40\" x2=\"240\" y1=\"65\" y2=\"65\" /><line x1=\"40\" x2=\"240\" y1=\"90\" y2=\"90\" /><line x1=\"40\" x2=\"240\" y1=\"115\" y2=\"115\" /><line x1=\"40\" x2=\"240\" y1=\"140\" y2=\"140\" /><line x1=\"40\" x2=\"240\" y1=\"165\" y2=\"165\" /><line x1=\"40\" x2=\"240\" y1=\"190\" y2=\"190\" /><line x1=\"40\" x2=\"240\" y1=\"215\" y2=\"215\" /><line x1=\"40\" x2=\"240\" y1=\"240\" y2=\"240\" /><text font-size=\"15\" font-weight=\"lighter\" x=\"36\" y=\"18\">0</text><text font-size=\"15\" font-weight=\"lighter\" x=\"36\" y=\"270\">0</text><text font-size=\"15\" font-weight=\"lighter\" x=\"61\" y=\"18\">1</text><text font-size=\"15\" font-weight=\"lighter\" x=\"61\" y=\"270\">1</text><text font-size=\"15\" font-weight=\"lighter\" x=\"86\" y=\"18\">2</text><text font-size=\"15\" font-weight=\"lighter\" x=\"86\" y=\"270\">2</text><text font-size=\"15\" font-weight=\"lighter\" x=\"111\" y=\"18\">3</text><text font-size=\"15\" font-weight=\"lighter\" x=\"111\" y=\"270\">3</text><text font-size=\"15\" font-weight=\"lighter\" x=\"136\" y=\"18\">4</text><text font-size=\"15\" font-weight=\"lighter\" x=\"136\" y=\"270\">4</text><text font-size=\"15\" font-weight=\"lighter\" x=\"161\" y=\"18\">5</text><text font-size=\"15\" font-weight=\"lighter\" x=\"161\" y=\"270\">5</text><text font-size=\"15\" font-weight=\"lighter\" x=\"186\" y=\"18\">6</text><text font-size=\"15\" font-weight=\"lighter\" x=\"186\" y=\"270\">6</text><text font-size=\"15\" font-weight=\"lighter\" x=\"211\" y=\"18\">7</text><text font-size=\"15\" font-weight=\"lighter\" x=\"211\" y=\"270\">7</text><text font-size=\"15\" font-weight=\"lighter\" x=\"236\" y=\"18\">8</text><text font-size=\"15\" font-weight=\"lighter\" x=\"236\" y=\"270\">8</text><text font-size=\"15\" font-weight=\"lighter\" x=\"7\" y=\"46\">0</text><text font-size=\"15\" font-weight=\"lighter\" x=\"258\" y=\"46\">0</text><text font-size=\"15\" font-weight=\"lighter\" x=\"7\" y=\"71\">1</text><text font-size=\"15\" font-weight=\"lighter\" x=\"258\" y=\"71\">1</text><text font-size=\"15\" font-weight=\"lighter\" x=\"7\" y=\"96\">2</text><text font-size=\"15\" font-weight=\"lighter\" x=\"258\" y=\"96\">2</text><text font-size=\"15\" font-weight=\"lighter\" x=\"7\" y=\"121\">3</text><text font-size=\"15\" font-weight=\"lighter\" x=\"258\" y=\"121\">3</text><text font-size=\"15\" font-weight=\"lighter\" x=\"7\" y=\"146\">4</text><text font-size=\"15\" font-weight=\"lighter\" x=\"258\" y=\"146\">4</text><text font-size=\"15\" font-weight=\"lighter\" x=\"7\" y=\"171\">5</text><text font-size=\"15\" font-weight=\"lighter\" x=\"258\" y=\"171\">5</text><text font-size=\"15\" font-weight=\"lighter\" x=\"7\" y=\"196\">6</text><text font-size=\"15\" font-weight=\"lighter\" x=\"258\" y=\"196\">6</text><text font-size=\"15\" font-weight=\"lighter\" x=\"7\" y=\"221\">7</text><text font-size=\"15\" font-weight=\"lighter\" x=\"258\" y=\"221\">7</text><text font-size=\"15\" font-weight=\"lighter\" x=\"7\" y=\"246\">8</text><text font-size=\"15\" font-weight=\"lighter\" x=\"258\" y=\"246\">8</text><circle cx=\"140.0\" cy=\"140.0\" r=\"2\" style=\"fill:black;\" /><circle cx=\"115\" cy=\"140\" r=\"11\" style=\"fill:black;\" /><circle cx=\"90\" cy=\"165\" r=\"11\" style=\"fill:white;\" /><rect fill=\"yellow\" height=\"16\" width=\"16\" x=\"132\" y=\"157\" /><text font-size=\"15\" font-weight=\"lighter\" x=\"135\" y=\"170\">1</text></g></svg>'"
      ],
      "text/plain": [
       "<visualization.SvgGoBoard at 0x7fde88710c50>"
      ]
     },
     "execution_count": 2,
     "metadata": {},
     "output_type": "execute_result"
    }
   ],
   "source": [
    "from visualization import SvgGoBoard\n",
    "\n",
    "bb = SvgGoBoard(9, 9, coord_style='00')\n",
    "bb.AddStone(3, 4, 1)\n",
    "bb.AddStone(2, 5, -1)\n",
    "bb.AddSquare(4, 5, 1)\n",
    "bb"
   ]
  },
  {
   "cell_type": "code",
   "execution_count": null,
   "metadata": {},
   "outputs": [],
   "source": []
  },
  {
   "cell_type": "code",
   "execution_count": null,
   "metadata": {},
   "outputs": [],
   "source": []
  },
  {
   "cell_type": "code",
   "execution_count": null,
   "metadata": {},
   "outputs": [],
   "source": []
  }
 ],
 "metadata": {
  "kernelspec": {
   "display_name": "Python 3",
   "language": "python",
   "name": "python3"
  },
  "language_info": {
   "codemirror_mode": {
    "name": "ipython",
    "version": 3
   },
   "file_extension": ".py",
   "mimetype": "text/x-python",
   "name": "python",
   "nbconvert_exporter": "python",
   "pygments_lexer": "ipython3",
   "version": "3.6.7"
  }
 },
 "nbformat": 4,
 "nbformat_minor": 2
}
