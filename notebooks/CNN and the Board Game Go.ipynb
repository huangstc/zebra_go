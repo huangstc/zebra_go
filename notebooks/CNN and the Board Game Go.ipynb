{
 "cells": [
  {
   "cell_type": "code",
   "execution_count": 118,
   "metadata": {
    "slideshow": {
     "slide_type": "notes"
    }
   },
   "outputs": [],
   "source": [
    "import numpy as np\n",
    "import tensorflow as tf\n",
    "\n",
    "from tensorflow import keras\n",
    "from visualization import SvgGoBoard\n",
    "from train_utils import LabelToCoord, ParseForPolicy, DrawGoBoard\n",
    "from tensorflow.keras.layers import Activation, Conv2D, Dense, Dropout, Flatten, Input, MaxPooling2D\n",
    "\n",
    "tf.enable_eager_execution()"
   ]
  },
  {
   "cell_type": "code",
   "execution_count": 119,
   "metadata": {
    "slideshow": {
     "slide_type": "notes"
    }
   },
   "outputs": [],
   "source": [
    "def ReadExamplesFromTFRecords(filename, max_num_examples=1000):\n",
    "    \"\"\" Reads the first N examples from a TFRecord file.\n",
    "    \"\"\"\n",
    "    # The file is compressed, by ../model/gen_dataset\n",
    "    dataset = tf.data.TFRecordDataset([filename], 'ZLIB')\n",
    "    examples = []\n",
    "    examples_in_proto = []\n",
    "    \n",
    "    for ex in dataset:\n",
    "        examples.append(ex)\n",
    "        examples_in_proto.append(tf.train.Example.FromString(ex.numpy()))\n",
    "        \n",
    "    return examples, examples_in_proto"
   ]
  },
  {
   "cell_type": "code",
   "execution_count": 120,
   "metadata": {
    "slideshow": {
     "slide_type": "notes"
    }
   },
   "outputs": [
    {
     "data": {
      "text/plain": [
       "235"
      ]
     },
     "execution_count": 120,
     "metadata": {},
     "output_type": "execute_result"
    }
   ],
   "source": [
    "shusai_game, _ = ReadExamplesFromTFRecords('shusai_19380626.rio')\n",
    "len(shusai_game)"
   ]
  },
  {
   "cell_type": "markdown",
   "metadata": {
    "slideshow": {
     "slide_type": "slide"
    }
   },
   "source": [
    "\n",
    "## Basic Rules of Go\n",
    "\n",
    "* Board, Players and Stones\n",
    "\n",
    "* Liberties and Capturing\n",
    "\n",
    "* End of Game"
   ]
  },
  {
   "cell_type": "markdown",
   "metadata": {
    "slideshow": {
     "slide_type": "slide"
    }
   },
   "source": [
    "## How to Play Go\n",
    "\n",
    "* Exhaustive Search\n",
    "\n",
    "* Reducing Search Width\n",
    "\n",
    "* Reducing Search Depth"
   ]
  },
  {
   "cell_type": "markdown",
   "metadata": {
    "slideshow": {
     "slide_type": "slide"
    }
   },
   "source": [
    "## CNN and Go\n",
    "\n",
    "* CNN\n",
    "\n",
    "* Policy Network and Value Network\n",
    "\n",
    "* Feature Set\n",
    "\n",
    "* Search with Policy Network\n",
    "\n",
    "* Monte-Carlo Tree Search with Value Network"
   ]
  },
  {
   "cell_type": "markdown",
   "metadata": {
    "slideshow": {
     "slide_type": "slide"
    }
   },
   "source": [
    "### Board, Players and Stones\n",
    "\n",
    "* $N\\times N$ board (standard size: $19\\times 19$)\n",
    "\n",
    "\n",
    "\n",
    "* Two players (black and white) place stones alternatively on crosspoints\n",
    "\n",
    "\n",
    "\n",
    "* Stones are not movable (but can be taken away if they are captured)."
   ]
  },
  {
   "cell_type": "code",
   "execution_count": 121,
   "metadata": {
    "slideshow": {
     "slide_type": "notes"
    }
   },
   "outputs": [],
   "source": [
    "def RenderBasicBoard():\n",
    "    bb = SvgGoBoard(9, 9, coord_style='A1')\n",
    "    bb.AddStone(3, 3, 1)\n",
    "    bb.AddStone(2, 2, -1)\n",
    "    bb.AddStone(3, 2, 1)\n",
    "    bb.AddStone(2, 3, -1)\n",
    "    bb.AddStone(2, 4, 1)\n",
    "    return bb"
   ]
  },
  {
   "cell_type": "code",
   "execution_count": 122,
   "metadata": {
    "slideshow": {
     "slide_type": "subslide"
    }
   },
   "outputs": [
    {
     "data": {
      "image/svg+xml": [
       "b'<svg height=\"280\" version=\"1.1\" width=\"280\" xmlns=\"http://www.w3.org/2000/svg\"><g style=\"fill-opacity:1.0; stroke:black; stroke-width:1;\"><rect height=\"280\" style=\"fill:wheat;\" width=\"280\" x=\"0\" y=\"0\" /><line x1=\"40\" x2=\"40\" y1=\"40\" y2=\"240\" /><line x1=\"65\" x2=\"65\" y1=\"40\" y2=\"240\" /><line x1=\"90\" x2=\"90\" y1=\"40\" y2=\"240\" /><line x1=\"115\" x2=\"115\" y1=\"40\" y2=\"240\" /><line x1=\"140\" x2=\"140\" y1=\"40\" y2=\"240\" /><line x1=\"165\" x2=\"165\" y1=\"40\" y2=\"240\" /><line x1=\"190\" x2=\"190\" y1=\"40\" y2=\"240\" /><line x1=\"215\" x2=\"215\" y1=\"40\" y2=\"240\" /><line x1=\"240\" x2=\"240\" y1=\"40\" y2=\"240\" /><line x1=\"40\" x2=\"240\" y1=\"40\" y2=\"40\" /><line x1=\"40\" x2=\"240\" y1=\"65\" y2=\"65\" /><line x1=\"40\" x2=\"240\" y1=\"90\" y2=\"90\" /><line x1=\"40\" x2=\"240\" y1=\"115\" y2=\"115\" /><line x1=\"40\" x2=\"240\" y1=\"140\" y2=\"140\" /><line x1=\"40\" x2=\"240\" y1=\"165\" y2=\"165\" /><line x1=\"40\" x2=\"240\" y1=\"190\" y2=\"190\" /><line x1=\"40\" x2=\"240\" y1=\"215\" y2=\"215\" /><line x1=\"40\" x2=\"240\" y1=\"240\" y2=\"240\" /><text font-size=\"15\" font-weight=\"lighter\" x=\"36\" y=\"18\">A</text><text font-size=\"15\" font-weight=\"lighter\" x=\"36\" y=\"270\">A</text><text font-size=\"15\" font-weight=\"lighter\" x=\"61\" y=\"18\">B</text><text font-size=\"15\" font-weight=\"lighter\" x=\"61\" y=\"270\">B</text><text font-size=\"15\" font-weight=\"lighter\" x=\"86\" y=\"18\">C</text><text font-size=\"15\" font-weight=\"lighter\" x=\"86\" y=\"270\">C</text><text font-size=\"15\" font-weight=\"lighter\" x=\"111\" y=\"18\">D</text><text font-size=\"15\" font-weight=\"lighter\" x=\"111\" y=\"270\">D</text><text font-size=\"15\" font-weight=\"lighter\" x=\"136\" y=\"18\">E</text><text font-size=\"15\" font-weight=\"lighter\" x=\"136\" y=\"270\">E</text><text font-size=\"15\" font-weight=\"lighter\" x=\"161\" y=\"18\">F</text><text font-size=\"15\" font-weight=\"lighter\" x=\"161\" y=\"270\">F</text><text font-size=\"15\" font-weight=\"lighter\" x=\"186\" y=\"18\">G</text><text font-size=\"15\" font-weight=\"lighter\" x=\"186\" y=\"270\">G</text><text font-size=\"15\" font-weight=\"lighter\" x=\"211\" y=\"18\">H</text><text font-size=\"15\" font-weight=\"lighter\" x=\"211\" y=\"270\">H</text><text font-size=\"15\" font-weight=\"lighter\" x=\"236\" y=\"18\">J</text><text font-size=\"15\" font-weight=\"lighter\" x=\"236\" y=\"270\">J</text><text font-size=\"15\" font-weight=\"lighter\" x=\"7\" y=\"46\">1</text><text font-size=\"15\" font-weight=\"lighter\" x=\"258\" y=\"46\">1</text><text font-size=\"15\" font-weight=\"lighter\" x=\"7\" y=\"71\">2</text><text font-size=\"15\" font-weight=\"lighter\" x=\"258\" y=\"71\">2</text><text font-size=\"15\" font-weight=\"lighter\" x=\"7\" y=\"96\">3</text><text font-size=\"15\" font-weight=\"lighter\" x=\"258\" y=\"96\">3</text><text font-size=\"15\" font-weight=\"lighter\" x=\"7\" y=\"121\">4</text><text font-size=\"15\" font-weight=\"lighter\" x=\"258\" y=\"121\">4</text><text font-size=\"15\" font-weight=\"lighter\" x=\"7\" y=\"146\">5</text><text font-size=\"15\" font-weight=\"lighter\" x=\"258\" y=\"146\">5</text><text font-size=\"15\" font-weight=\"lighter\" x=\"7\" y=\"171\">6</text><text font-size=\"15\" font-weight=\"lighter\" x=\"258\" y=\"171\">6</text><text font-size=\"15\" font-weight=\"lighter\" x=\"7\" y=\"196\">7</text><text font-size=\"15\" font-weight=\"lighter\" x=\"258\" y=\"196\">7</text><text font-size=\"15\" font-weight=\"lighter\" x=\"7\" y=\"221\">8</text><text font-size=\"15\" font-weight=\"lighter\" x=\"258\" y=\"221\">8</text><text font-size=\"15\" font-weight=\"lighter\" x=\"7\" y=\"246\">9</text><text font-size=\"15\" font-weight=\"lighter\" x=\"258\" y=\"246\">9</text><circle cx=\"140.0\" cy=\"140.0\" r=\"2\" style=\"fill:black;\" /><circle cx=\"115\" cy=\"115\" r=\"11\" style=\"fill:black;\" /><circle cx=\"90\" cy=\"90\" r=\"11\" style=\"fill:white;\" /><circle cx=\"115\" cy=\"90\" r=\"11\" style=\"fill:black;\" /><circle cx=\"90\" cy=\"115\" r=\"11\" style=\"fill:white;\" /><circle cx=\"90\" cy=\"140\" r=\"11\" style=\"fill:black;\" /></g></svg>'"
      ],
      "text/plain": [
       "<visualization.SvgGoBoard at 0x7f5cf03349e8>"
      ]
     },
     "execution_count": 122,
     "metadata": {},
     "output_type": "execute_result"
    }
   ],
   "source": [
    "bb = RenderBasicBoard()\n",
    "bb"
   ]
  },
  {
   "cell_type": "markdown",
   "metadata": {
    "slideshow": {
     "slide_type": "slide"
    }
   },
   "source": [
    "### Liberties and Capturing\n",
    "\n",
    "* Adjacent stones of the same color form a chain\n",
    "\n",
    "\n",
    "* An unoccupied adjacent point of a chain is its __liberty__.\n",
    "\n",
    "\n",
    "* A chain having no liberties is dead, and will be removed from the board immediately."
   ]
  },
  {
   "cell_type": "code",
   "execution_count": 123,
   "metadata": {
    "slideshow": {
     "slide_type": "notes"
    }
   },
   "outputs": [],
   "source": [
    "def RenderLiberty():\n",
    "    bb = SvgGoBoard(9, 9, coord_style='A1')\n",
    "    bb.AddStone(3, 3, 1)\n",
    "    bb.AddStone(2, 2, -1)\n",
    "    bb.AddStone(3, 2, 1)\n",
    "    bb.AddStone(2, 3, -1)\n",
    "    bb.AddStone(2, 4, 1)\n",
    "    bb.AddSquare(2, 1, 0)\n",
    "    bb.AddSquare(1, 2, 0)\n",
    "    bb.AddSquare(1, 3, 0)\n",
    "    return bb"
   ]
  },
  {
   "cell_type": "code",
   "execution_count": 124,
   "metadata": {
    "slideshow": {
     "slide_type": "subslide"
    }
   },
   "outputs": [
    {
     "data": {
      "image/svg+xml": [
       "b'<svg height=\"280\" version=\"1.1\" width=\"280\" xmlns=\"http://www.w3.org/2000/svg\"><g style=\"fill-opacity:1.0; stroke:black; stroke-width:1;\"><rect height=\"280\" style=\"fill:wheat;\" width=\"280\" x=\"0\" y=\"0\" /><line x1=\"40\" x2=\"40\" y1=\"40\" y2=\"240\" /><line x1=\"65\" x2=\"65\" y1=\"40\" y2=\"240\" /><line x1=\"90\" x2=\"90\" y1=\"40\" y2=\"240\" /><line x1=\"115\" x2=\"115\" y1=\"40\" y2=\"240\" /><line x1=\"140\" x2=\"140\" y1=\"40\" y2=\"240\" /><line x1=\"165\" x2=\"165\" y1=\"40\" y2=\"240\" /><line x1=\"190\" x2=\"190\" y1=\"40\" y2=\"240\" /><line x1=\"215\" x2=\"215\" y1=\"40\" y2=\"240\" /><line x1=\"240\" x2=\"240\" y1=\"40\" y2=\"240\" /><line x1=\"40\" x2=\"240\" y1=\"40\" y2=\"40\" /><line x1=\"40\" x2=\"240\" y1=\"65\" y2=\"65\" /><line x1=\"40\" x2=\"240\" y1=\"90\" y2=\"90\" /><line x1=\"40\" x2=\"240\" y1=\"115\" y2=\"115\" /><line x1=\"40\" x2=\"240\" y1=\"140\" y2=\"140\" /><line x1=\"40\" x2=\"240\" y1=\"165\" y2=\"165\" /><line x1=\"40\" x2=\"240\" y1=\"190\" y2=\"190\" /><line x1=\"40\" x2=\"240\" y1=\"215\" y2=\"215\" /><line x1=\"40\" x2=\"240\" y1=\"240\" y2=\"240\" /><text font-size=\"15\" font-weight=\"lighter\" x=\"36\" y=\"18\">A</text><text font-size=\"15\" font-weight=\"lighter\" x=\"36\" y=\"270\">A</text><text font-size=\"15\" font-weight=\"lighter\" x=\"61\" y=\"18\">B</text><text font-size=\"15\" font-weight=\"lighter\" x=\"61\" y=\"270\">B</text><text font-size=\"15\" font-weight=\"lighter\" x=\"86\" y=\"18\">C</text><text font-size=\"15\" font-weight=\"lighter\" x=\"86\" y=\"270\">C</text><text font-size=\"15\" font-weight=\"lighter\" x=\"111\" y=\"18\">D</text><text font-size=\"15\" font-weight=\"lighter\" x=\"111\" y=\"270\">D</text><text font-size=\"15\" font-weight=\"lighter\" x=\"136\" y=\"18\">E</text><text font-size=\"15\" font-weight=\"lighter\" x=\"136\" y=\"270\">E</text><text font-size=\"15\" font-weight=\"lighter\" x=\"161\" y=\"18\">F</text><text font-size=\"15\" font-weight=\"lighter\" x=\"161\" y=\"270\">F</text><text font-size=\"15\" font-weight=\"lighter\" x=\"186\" y=\"18\">G</text><text font-size=\"15\" font-weight=\"lighter\" x=\"186\" y=\"270\">G</text><text font-size=\"15\" font-weight=\"lighter\" x=\"211\" y=\"18\">H</text><text font-size=\"15\" font-weight=\"lighter\" x=\"211\" y=\"270\">H</text><text font-size=\"15\" font-weight=\"lighter\" x=\"236\" y=\"18\">J</text><text font-size=\"15\" font-weight=\"lighter\" x=\"236\" y=\"270\">J</text><text font-size=\"15\" font-weight=\"lighter\" x=\"7\" y=\"46\">1</text><text font-size=\"15\" font-weight=\"lighter\" x=\"258\" y=\"46\">1</text><text font-size=\"15\" font-weight=\"lighter\" x=\"7\" y=\"71\">2</text><text font-size=\"15\" font-weight=\"lighter\" x=\"258\" y=\"71\">2</text><text font-size=\"15\" font-weight=\"lighter\" x=\"7\" y=\"96\">3</text><text font-size=\"15\" font-weight=\"lighter\" x=\"258\" y=\"96\">3</text><text font-size=\"15\" font-weight=\"lighter\" x=\"7\" y=\"121\">4</text><text font-size=\"15\" font-weight=\"lighter\" x=\"258\" y=\"121\">4</text><text font-size=\"15\" font-weight=\"lighter\" x=\"7\" y=\"146\">5</text><text font-size=\"15\" font-weight=\"lighter\" x=\"258\" y=\"146\">5</text><text font-size=\"15\" font-weight=\"lighter\" x=\"7\" y=\"171\">6</text><text font-size=\"15\" font-weight=\"lighter\" x=\"258\" y=\"171\">6</text><text font-size=\"15\" font-weight=\"lighter\" x=\"7\" y=\"196\">7</text><text font-size=\"15\" font-weight=\"lighter\" x=\"258\" y=\"196\">7</text><text font-size=\"15\" font-weight=\"lighter\" x=\"7\" y=\"221\">8</text><text font-size=\"15\" font-weight=\"lighter\" x=\"258\" y=\"221\">8</text><text font-size=\"15\" font-weight=\"lighter\" x=\"7\" y=\"246\">9</text><text font-size=\"15\" font-weight=\"lighter\" x=\"258\" y=\"246\">9</text><circle cx=\"140.0\" cy=\"140.0\" r=\"2\" style=\"fill:black;\" /><circle cx=\"115\" cy=\"115\" r=\"11\" style=\"fill:black;\" /><circle cx=\"90\" cy=\"90\" r=\"11\" style=\"fill:white;\" /><circle cx=\"115\" cy=\"90\" r=\"11\" style=\"fill:black;\" /><circle cx=\"90\" cy=\"115\" r=\"11\" style=\"fill:white;\" /><circle cx=\"90\" cy=\"140\" r=\"11\" style=\"fill:black;\" /><rect fill=\"yellow\" height=\"16\" width=\"16\" x=\"82\" y=\"57\" /><text font-size=\"15\" font-weight=\"lighter\" x=\"85\" y=\"70\">0</text><rect fill=\"yellow\" height=\"16\" width=\"16\" x=\"57\" y=\"82\" /><text font-size=\"15\" font-weight=\"lighter\" x=\"60\" y=\"95\">0</text><rect fill=\"yellow\" height=\"16\" width=\"16\" x=\"57\" y=\"107\" /><text font-size=\"15\" font-weight=\"lighter\" x=\"60\" y=\"120\">0</text></g></svg>'"
      ],
      "text/plain": [
       "<visualization.SvgGoBoard at 0x7f5d4da37a20>"
      ]
     },
     "execution_count": 124,
     "metadata": {},
     "output_type": "execute_result"
    }
   ],
   "source": [
    "bb = RenderLiberty()\n",
    "bb"
   ]
  },
  {
   "cell_type": "code",
   "execution_count": 125,
   "metadata": {
    "slideshow": {
     "slide_type": "notes"
    }
   },
   "outputs": [],
   "source": [
    "def RenderCapture():\n",
    "    bb = SvgGoBoard(9, 9, coord_style='A1')\n",
    "    bb.AddStone(3, 3, 1)\n",
    "    bb.AddStone(2, 2, -1)\n",
    "    bb.AddStone(3, 2, 1)\n",
    "    bb.AddStone(2, 3, -1)\n",
    "    bb.AddStone(2, 4, 1)\n",
    "    bb.AddSquare(2, 1, 0)\n",
    "    bb.AddStone(5, 5, -1)\n",
    "    bb.AddStone(6, 6, -1)\n",
    "    bb.AddStone(1, 2, 1)\n",
    "    bb.AddStone(1, 3, 1)\n",
    "    return bb"
   ]
  },
  {
   "cell_type": "code",
   "execution_count": 126,
   "metadata": {
    "slideshow": {
     "slide_type": "subslide"
    }
   },
   "outputs": [
    {
     "data": {
      "image/svg+xml": [
       "b'<svg height=\"280\" version=\"1.1\" width=\"280\" xmlns=\"http://www.w3.org/2000/svg\"><g style=\"fill-opacity:1.0; stroke:black; stroke-width:1;\"><rect height=\"280\" style=\"fill:wheat;\" width=\"280\" x=\"0\" y=\"0\" /><line x1=\"40\" x2=\"40\" y1=\"40\" y2=\"240\" /><line x1=\"65\" x2=\"65\" y1=\"40\" y2=\"240\" /><line x1=\"90\" x2=\"90\" y1=\"40\" y2=\"240\" /><line x1=\"115\" x2=\"115\" y1=\"40\" y2=\"240\" /><line x1=\"140\" x2=\"140\" y1=\"40\" y2=\"240\" /><line x1=\"165\" x2=\"165\" y1=\"40\" y2=\"240\" /><line x1=\"190\" x2=\"190\" y1=\"40\" y2=\"240\" /><line x1=\"215\" x2=\"215\" y1=\"40\" y2=\"240\" /><line x1=\"240\" x2=\"240\" y1=\"40\" y2=\"240\" /><line x1=\"40\" x2=\"240\" y1=\"40\" y2=\"40\" /><line x1=\"40\" x2=\"240\" y1=\"65\" y2=\"65\" /><line x1=\"40\" x2=\"240\" y1=\"90\" y2=\"90\" /><line x1=\"40\" x2=\"240\" y1=\"115\" y2=\"115\" /><line x1=\"40\" x2=\"240\" y1=\"140\" y2=\"140\" /><line x1=\"40\" x2=\"240\" y1=\"165\" y2=\"165\" /><line x1=\"40\" x2=\"240\" y1=\"190\" y2=\"190\" /><line x1=\"40\" x2=\"240\" y1=\"215\" y2=\"215\" /><line x1=\"40\" x2=\"240\" y1=\"240\" y2=\"240\" /><text font-size=\"15\" font-weight=\"lighter\" x=\"36\" y=\"18\">A</text><text font-size=\"15\" font-weight=\"lighter\" x=\"36\" y=\"270\">A</text><text font-size=\"15\" font-weight=\"lighter\" x=\"61\" y=\"18\">B</text><text font-size=\"15\" font-weight=\"lighter\" x=\"61\" y=\"270\">B</text><text font-size=\"15\" font-weight=\"lighter\" x=\"86\" y=\"18\">C</text><text font-size=\"15\" font-weight=\"lighter\" x=\"86\" y=\"270\">C</text><text font-size=\"15\" font-weight=\"lighter\" x=\"111\" y=\"18\">D</text><text font-size=\"15\" font-weight=\"lighter\" x=\"111\" y=\"270\">D</text><text font-size=\"15\" font-weight=\"lighter\" x=\"136\" y=\"18\">E</text><text font-size=\"15\" font-weight=\"lighter\" x=\"136\" y=\"270\">E</text><text font-size=\"15\" font-weight=\"lighter\" x=\"161\" y=\"18\">F</text><text font-size=\"15\" font-weight=\"lighter\" x=\"161\" y=\"270\">F</text><text font-size=\"15\" font-weight=\"lighter\" x=\"186\" y=\"18\">G</text><text font-size=\"15\" font-weight=\"lighter\" x=\"186\" y=\"270\">G</text><text font-size=\"15\" font-weight=\"lighter\" x=\"211\" y=\"18\">H</text><text font-size=\"15\" font-weight=\"lighter\" x=\"211\" y=\"270\">H</text><text font-size=\"15\" font-weight=\"lighter\" x=\"236\" y=\"18\">J</text><text font-size=\"15\" font-weight=\"lighter\" x=\"236\" y=\"270\">J</text><text font-size=\"15\" font-weight=\"lighter\" x=\"7\" y=\"46\">1</text><text font-size=\"15\" font-weight=\"lighter\" x=\"258\" y=\"46\">1</text><text font-size=\"15\" font-weight=\"lighter\" x=\"7\" y=\"71\">2</text><text font-size=\"15\" font-weight=\"lighter\" x=\"258\" y=\"71\">2</text><text font-size=\"15\" font-weight=\"lighter\" x=\"7\" y=\"96\">3</text><text font-size=\"15\" font-weight=\"lighter\" x=\"258\" y=\"96\">3</text><text font-size=\"15\" font-weight=\"lighter\" x=\"7\" y=\"121\">4</text><text font-size=\"15\" font-weight=\"lighter\" x=\"258\" y=\"121\">4</text><text font-size=\"15\" font-weight=\"lighter\" x=\"7\" y=\"146\">5</text><text font-size=\"15\" font-weight=\"lighter\" x=\"258\" y=\"146\">5</text><text font-size=\"15\" font-weight=\"lighter\" x=\"7\" y=\"171\">6</text><text font-size=\"15\" font-weight=\"lighter\" x=\"258\" y=\"171\">6</text><text font-size=\"15\" font-weight=\"lighter\" x=\"7\" y=\"196\">7</text><text font-size=\"15\" font-weight=\"lighter\" x=\"258\" y=\"196\">7</text><text font-size=\"15\" font-weight=\"lighter\" x=\"7\" y=\"221\">8</text><text font-size=\"15\" font-weight=\"lighter\" x=\"258\" y=\"221\">8</text><text font-size=\"15\" font-weight=\"lighter\" x=\"7\" y=\"246\">9</text><text font-size=\"15\" font-weight=\"lighter\" x=\"258\" y=\"246\">9</text><circle cx=\"140.0\" cy=\"140.0\" r=\"2\" style=\"fill:black;\" /><circle cx=\"115\" cy=\"115\" r=\"11\" style=\"fill:black;\" /><circle cx=\"90\" cy=\"90\" r=\"11\" style=\"fill:white;\" /><circle cx=\"115\" cy=\"90\" r=\"11\" style=\"fill:black;\" /><circle cx=\"90\" cy=\"115\" r=\"11\" style=\"fill:white;\" /><circle cx=\"90\" cy=\"140\" r=\"11\" style=\"fill:black;\" /><circle cx=\"165\" cy=\"165\" r=\"11\" style=\"fill:white;\" /><circle cx=\"190\" cy=\"190\" r=\"11\" style=\"fill:white;\" /><circle cx=\"65\" cy=\"90\" r=\"11\" style=\"fill:black;\" /><circle cx=\"65\" cy=\"115\" r=\"11\" style=\"fill:black;\" /><rect fill=\"yellow\" height=\"16\" width=\"16\" x=\"82\" y=\"57\" /><text font-size=\"15\" font-weight=\"lighter\" x=\"85\" y=\"70\">0</text></g></svg>'"
      ],
      "text/plain": [
       "<visualization.SvgGoBoard at 0x7f5cf02cb2b0>"
      ]
     },
     "execution_count": 126,
     "metadata": {},
     "output_type": "execute_result"
    }
   ],
   "source": [
    "bb = RenderCapture()\n",
    "bb"
   ]
  },
  {
   "cell_type": "code",
   "execution_count": 127,
   "metadata": {
    "slideshow": {
     "slide_type": "notes"
    }
   },
   "outputs": [],
   "source": [
    "def RenderCaptured():\n",
    "    bb = SvgGoBoard(9, 9, coord_style='A1')\n",
    "    bb.AddStone(3, 3, 1)\n",
    "    bb.AddStone(2, 1, 1)\n",
    "    bb.AddStone(2, 4, 1)\n",
    "    bb.AddStone(3, 2, 1)    \n",
    "    bb.AddStone(5, 5, -1)\n",
    "    bb.AddStone(6, 6, -1)\n",
    "    bb.AddStone(1, 2, 1)\n",
    "    bb.AddStone(1, 3, 1)\n",
    "    return bb"
   ]
  },
  {
   "cell_type": "code",
   "execution_count": 128,
   "metadata": {
    "slideshow": {
     "slide_type": "subslide"
    }
   },
   "outputs": [
    {
     "data": {
      "image/svg+xml": [
       "b'<svg height=\"280\" version=\"1.1\" width=\"280\" xmlns=\"http://www.w3.org/2000/svg\"><g style=\"fill-opacity:1.0; stroke:black; stroke-width:1;\"><rect height=\"280\" style=\"fill:wheat;\" width=\"280\" x=\"0\" y=\"0\" /><line x1=\"40\" x2=\"40\" y1=\"40\" y2=\"240\" /><line x1=\"65\" x2=\"65\" y1=\"40\" y2=\"240\" /><line x1=\"90\" x2=\"90\" y1=\"40\" y2=\"240\" /><line x1=\"115\" x2=\"115\" y1=\"40\" y2=\"240\" /><line x1=\"140\" x2=\"140\" y1=\"40\" y2=\"240\" /><line x1=\"165\" x2=\"165\" y1=\"40\" y2=\"240\" /><line x1=\"190\" x2=\"190\" y1=\"40\" y2=\"240\" /><line x1=\"215\" x2=\"215\" y1=\"40\" y2=\"240\" /><line x1=\"240\" x2=\"240\" y1=\"40\" y2=\"240\" /><line x1=\"40\" x2=\"240\" y1=\"40\" y2=\"40\" /><line x1=\"40\" x2=\"240\" y1=\"65\" y2=\"65\" /><line x1=\"40\" x2=\"240\" y1=\"90\" y2=\"90\" /><line x1=\"40\" x2=\"240\" y1=\"115\" y2=\"115\" /><line x1=\"40\" x2=\"240\" y1=\"140\" y2=\"140\" /><line x1=\"40\" x2=\"240\" y1=\"165\" y2=\"165\" /><line x1=\"40\" x2=\"240\" y1=\"190\" y2=\"190\" /><line x1=\"40\" x2=\"240\" y1=\"215\" y2=\"215\" /><line x1=\"40\" x2=\"240\" y1=\"240\" y2=\"240\" /><text font-size=\"15\" font-weight=\"lighter\" x=\"36\" y=\"18\">A</text><text font-size=\"15\" font-weight=\"lighter\" x=\"36\" y=\"270\">A</text><text font-size=\"15\" font-weight=\"lighter\" x=\"61\" y=\"18\">B</text><text font-size=\"15\" font-weight=\"lighter\" x=\"61\" y=\"270\">B</text><text font-size=\"15\" font-weight=\"lighter\" x=\"86\" y=\"18\">C</text><text font-size=\"15\" font-weight=\"lighter\" x=\"86\" y=\"270\">C</text><text font-size=\"15\" font-weight=\"lighter\" x=\"111\" y=\"18\">D</text><text font-size=\"15\" font-weight=\"lighter\" x=\"111\" y=\"270\">D</text><text font-size=\"15\" font-weight=\"lighter\" x=\"136\" y=\"18\">E</text><text font-size=\"15\" font-weight=\"lighter\" x=\"136\" y=\"270\">E</text><text font-size=\"15\" font-weight=\"lighter\" x=\"161\" y=\"18\">F</text><text font-size=\"15\" font-weight=\"lighter\" x=\"161\" y=\"270\">F</text><text font-size=\"15\" font-weight=\"lighter\" x=\"186\" y=\"18\">G</text><text font-size=\"15\" font-weight=\"lighter\" x=\"186\" y=\"270\">G</text><text font-size=\"15\" font-weight=\"lighter\" x=\"211\" y=\"18\">H</text><text font-size=\"15\" font-weight=\"lighter\" x=\"211\" y=\"270\">H</text><text font-size=\"15\" font-weight=\"lighter\" x=\"236\" y=\"18\">J</text><text font-size=\"15\" font-weight=\"lighter\" x=\"236\" y=\"270\">J</text><text font-size=\"15\" font-weight=\"lighter\" x=\"7\" y=\"46\">1</text><text font-size=\"15\" font-weight=\"lighter\" x=\"258\" y=\"46\">1</text><text font-size=\"15\" font-weight=\"lighter\" x=\"7\" y=\"71\">2</text><text font-size=\"15\" font-weight=\"lighter\" x=\"258\" y=\"71\">2</text><text font-size=\"15\" font-weight=\"lighter\" x=\"7\" y=\"96\">3</text><text font-size=\"15\" font-weight=\"lighter\" x=\"258\" y=\"96\">3</text><text font-size=\"15\" font-weight=\"lighter\" x=\"7\" y=\"121\">4</text><text font-size=\"15\" font-weight=\"lighter\" x=\"258\" y=\"121\">4</text><text font-size=\"15\" font-weight=\"lighter\" x=\"7\" y=\"146\">5</text><text font-size=\"15\" font-weight=\"lighter\" x=\"258\" y=\"146\">5</text><text font-size=\"15\" font-weight=\"lighter\" x=\"7\" y=\"171\">6</text><text font-size=\"15\" font-weight=\"lighter\" x=\"258\" y=\"171\">6</text><text font-size=\"15\" font-weight=\"lighter\" x=\"7\" y=\"196\">7</text><text font-size=\"15\" font-weight=\"lighter\" x=\"258\" y=\"196\">7</text><text font-size=\"15\" font-weight=\"lighter\" x=\"7\" y=\"221\">8</text><text font-size=\"15\" font-weight=\"lighter\" x=\"258\" y=\"221\">8</text><text font-size=\"15\" font-weight=\"lighter\" x=\"7\" y=\"246\">9</text><text font-size=\"15\" font-weight=\"lighter\" x=\"258\" y=\"246\">9</text><circle cx=\"140.0\" cy=\"140.0\" r=\"2\" style=\"fill:black;\" /><circle cx=\"115\" cy=\"115\" r=\"11\" style=\"fill:black;\" /><circle cx=\"90\" cy=\"65\" r=\"11\" style=\"fill:black;\" /><circle cx=\"90\" cy=\"140\" r=\"11\" style=\"fill:black;\" /><circle cx=\"115\" cy=\"90\" r=\"11\" style=\"fill:black;\" /><circle cx=\"165\" cy=\"165\" r=\"11\" style=\"fill:white;\" /><circle cx=\"190\" cy=\"190\" r=\"11\" style=\"fill:white;\" /><circle cx=\"65\" cy=\"90\" r=\"11\" style=\"fill:black;\" /><circle cx=\"65\" cy=\"115\" r=\"11\" style=\"fill:black;\" /></g></svg>'"
      ],
      "text/plain": [
       "<visualization.SvgGoBoard at 0x7f5cf043b160>"
      ]
     },
     "execution_count": 128,
     "metadata": {},
     "output_type": "execute_result"
    }
   ],
   "source": [
    "bb = RenderCaptured()\n",
    "bb"
   ]
  },
  {
   "cell_type": "markdown",
   "metadata": {
    "slideshow": {
     "slide_type": "slide"
    }
   },
   "source": [
    "### Win or Loss\n",
    "\n",
    "* A game ends when both players pass;\n",
    "\n",
    "* The player who __controls__ more points wins the game.\n",
    "\n"
   ]
  },
  {
   "cell_type": "code",
   "execution_count": 129,
   "metadata": {
    "slideshow": {
     "slide_type": "notes"
    }
   },
   "outputs": [],
   "source": [
    "def RenderGameEnding():\n",
    "    bb = SvgGoBoard(9, 9, coord_style='A1')\n",
    "    for k in range(9):\n",
    "        bb.AddStone(k, 4, 1)\n",
    "        bb.AddStone(k, 5, -1)\n",
    "    bb.AddStone(2, 2, 1)\n",
    "    bb.AddStone(5, 2, 1)\n",
    "    bb.AddStone(7, 2, 1)\n",
    "    bb.AddStone(1, 7, -1)\n",
    "    bb.AddStone(3, 7, -1)\n",
    "    bb.AddStone(6, 7, -1)\n",
    "    return bb"
   ]
  },
  {
   "cell_type": "code",
   "execution_count": 130,
   "metadata": {
    "slideshow": {
     "slide_type": "subslide"
    }
   },
   "outputs": [
    {
     "data": {
      "image/svg+xml": [
       "b'<svg height=\"280\" version=\"1.1\" width=\"280\" xmlns=\"http://www.w3.org/2000/svg\"><g style=\"fill-opacity:1.0; stroke:black; stroke-width:1;\"><rect height=\"280\" style=\"fill:wheat;\" width=\"280\" x=\"0\" y=\"0\" /><line x1=\"40\" x2=\"40\" y1=\"40\" y2=\"240\" /><line x1=\"65\" x2=\"65\" y1=\"40\" y2=\"240\" /><line x1=\"90\" x2=\"90\" y1=\"40\" y2=\"240\" /><line x1=\"115\" x2=\"115\" y1=\"40\" y2=\"240\" /><line x1=\"140\" x2=\"140\" y1=\"40\" y2=\"240\" /><line x1=\"165\" x2=\"165\" y1=\"40\" y2=\"240\" /><line x1=\"190\" x2=\"190\" y1=\"40\" y2=\"240\" /><line x1=\"215\" x2=\"215\" y1=\"40\" y2=\"240\" /><line x1=\"240\" x2=\"240\" y1=\"40\" y2=\"240\" /><line x1=\"40\" x2=\"240\" y1=\"40\" y2=\"40\" /><line x1=\"40\" x2=\"240\" y1=\"65\" y2=\"65\" /><line x1=\"40\" x2=\"240\" y1=\"90\" y2=\"90\" /><line x1=\"40\" x2=\"240\" y1=\"115\" y2=\"115\" /><line x1=\"40\" x2=\"240\" y1=\"140\" y2=\"140\" /><line x1=\"40\" x2=\"240\" y1=\"165\" y2=\"165\" /><line x1=\"40\" x2=\"240\" y1=\"190\" y2=\"190\" /><line x1=\"40\" x2=\"240\" y1=\"215\" y2=\"215\" /><line x1=\"40\" x2=\"240\" y1=\"240\" y2=\"240\" /><text font-size=\"15\" font-weight=\"lighter\" x=\"36\" y=\"18\">A</text><text font-size=\"15\" font-weight=\"lighter\" x=\"36\" y=\"270\">A</text><text font-size=\"15\" font-weight=\"lighter\" x=\"61\" y=\"18\">B</text><text font-size=\"15\" font-weight=\"lighter\" x=\"61\" y=\"270\">B</text><text font-size=\"15\" font-weight=\"lighter\" x=\"86\" y=\"18\">C</text><text font-size=\"15\" font-weight=\"lighter\" x=\"86\" y=\"270\">C</text><text font-size=\"15\" font-weight=\"lighter\" x=\"111\" y=\"18\">D</text><text font-size=\"15\" font-weight=\"lighter\" x=\"111\" y=\"270\">D</text><text font-size=\"15\" font-weight=\"lighter\" x=\"136\" y=\"18\">E</text><text font-size=\"15\" font-weight=\"lighter\" x=\"136\" y=\"270\">E</text><text font-size=\"15\" font-weight=\"lighter\" x=\"161\" y=\"18\">F</text><text font-size=\"15\" font-weight=\"lighter\" x=\"161\" y=\"270\">F</text><text font-size=\"15\" font-weight=\"lighter\" x=\"186\" y=\"18\">G</text><text font-size=\"15\" font-weight=\"lighter\" x=\"186\" y=\"270\">G</text><text font-size=\"15\" font-weight=\"lighter\" x=\"211\" y=\"18\">H</text><text font-size=\"15\" font-weight=\"lighter\" x=\"211\" y=\"270\">H</text><text font-size=\"15\" font-weight=\"lighter\" x=\"236\" y=\"18\">J</text><text font-size=\"15\" font-weight=\"lighter\" x=\"236\" y=\"270\">J</text><text font-size=\"15\" font-weight=\"lighter\" x=\"7\" y=\"46\">1</text><text font-size=\"15\" font-weight=\"lighter\" x=\"258\" y=\"46\">1</text><text font-size=\"15\" font-weight=\"lighter\" x=\"7\" y=\"71\">2</text><text font-size=\"15\" font-weight=\"lighter\" x=\"258\" y=\"71\">2</text><text font-size=\"15\" font-weight=\"lighter\" x=\"7\" y=\"96\">3</text><text font-size=\"15\" font-weight=\"lighter\" x=\"258\" y=\"96\">3</text><text font-size=\"15\" font-weight=\"lighter\" x=\"7\" y=\"121\">4</text><text font-size=\"15\" font-weight=\"lighter\" x=\"258\" y=\"121\">4</text><text font-size=\"15\" font-weight=\"lighter\" x=\"7\" y=\"146\">5</text><text font-size=\"15\" font-weight=\"lighter\" x=\"258\" y=\"146\">5</text><text font-size=\"15\" font-weight=\"lighter\" x=\"7\" y=\"171\">6</text><text font-size=\"15\" font-weight=\"lighter\" x=\"258\" y=\"171\">6</text><text font-size=\"15\" font-weight=\"lighter\" x=\"7\" y=\"196\">7</text><text font-size=\"15\" font-weight=\"lighter\" x=\"258\" y=\"196\">7</text><text font-size=\"15\" font-weight=\"lighter\" x=\"7\" y=\"221\">8</text><text font-size=\"15\" font-weight=\"lighter\" x=\"258\" y=\"221\">8</text><text font-size=\"15\" font-weight=\"lighter\" x=\"7\" y=\"246\">9</text><text font-size=\"15\" font-weight=\"lighter\" x=\"258\" y=\"246\">9</text><circle cx=\"140.0\" cy=\"140.0\" r=\"2\" style=\"fill:black;\" /><circle cx=\"40\" cy=\"140\" r=\"11\" style=\"fill:black;\" /><circle cx=\"40\" cy=\"165\" r=\"11\" style=\"fill:white;\" /><circle cx=\"65\" cy=\"140\" r=\"11\" style=\"fill:black;\" /><circle cx=\"65\" cy=\"165\" r=\"11\" style=\"fill:white;\" /><circle cx=\"90\" cy=\"140\" r=\"11\" style=\"fill:black;\" /><circle cx=\"90\" cy=\"165\" r=\"11\" style=\"fill:white;\" /><circle cx=\"115\" cy=\"140\" r=\"11\" style=\"fill:black;\" /><circle cx=\"115\" cy=\"165\" r=\"11\" style=\"fill:white;\" /><circle cx=\"140\" cy=\"140\" r=\"11\" style=\"fill:black;\" /><circle cx=\"140\" cy=\"165\" r=\"11\" style=\"fill:white;\" /><circle cx=\"165\" cy=\"140\" r=\"11\" style=\"fill:black;\" /><circle cx=\"165\" cy=\"165\" r=\"11\" style=\"fill:white;\" /><circle cx=\"190\" cy=\"140\" r=\"11\" style=\"fill:black;\" /><circle cx=\"190\" cy=\"165\" r=\"11\" style=\"fill:white;\" /><circle cx=\"215\" cy=\"140\" r=\"11\" style=\"fill:black;\" /><circle cx=\"215\" cy=\"165\" r=\"11\" style=\"fill:white;\" /><circle cx=\"240\" cy=\"140\" r=\"11\" style=\"fill:black;\" /><circle cx=\"240\" cy=\"165\" r=\"11\" style=\"fill:white;\" /><circle cx=\"90\" cy=\"90\" r=\"11\" style=\"fill:black;\" /><circle cx=\"165\" cy=\"90\" r=\"11\" style=\"fill:black;\" /><circle cx=\"215\" cy=\"90\" r=\"11\" style=\"fill:black;\" /><circle cx=\"65\" cy=\"215\" r=\"11\" style=\"fill:white;\" /><circle cx=\"115\" cy=\"215\" r=\"11\" style=\"fill:white;\" /><circle cx=\"190\" cy=\"215\" r=\"11\" style=\"fill:white;\" /></g></svg>'"
      ],
      "text/plain": [
       "<visualization.SvgGoBoard at 0x7f5cf02cb1d0>"
      ]
     },
     "execution_count": 130,
     "metadata": {},
     "output_type": "execute_result"
    }
   ],
   "source": [
    "bb = RenderGameEnding()\n",
    "bb"
   ]
  },
  {
   "cell_type": "code",
   "execution_count": 131,
   "metadata": {
    "slideshow": {
     "slide_type": "notes"
    }
   },
   "outputs": [],
   "source": [
    "def RenderRealExample():\n",
    "    planes, label = ParseForPolicy(shusai_game[234])\n",
    "    orig = planes.numpy()[:,:,0]\n",
    "    bb = DrawGoBoard(orig)\n",
    "    return bb"
   ]
  },
  {
   "cell_type": "code",
   "execution_count": 132,
   "metadata": {
    "slideshow": {
     "slide_type": "subslide"
    }
   },
   "outputs": [
    {
     "data": {
      "image/svg+xml": [
       "b'<svg height=\"530\" version=\"1.1\" width=\"530\" xmlns=\"http://www.w3.org/2000/svg\"><g style=\"fill-opacity:1.0; stroke:black; stroke-width:1;\"><rect height=\"530\" style=\"fill:wheat;\" width=\"530\" x=\"0\" y=\"0\" /><line x1=\"40\" x2=\"40\" y1=\"40\" y2=\"490\" /><line x1=\"65\" x2=\"65\" y1=\"40\" y2=\"490\" /><line x1=\"90\" x2=\"90\" y1=\"40\" y2=\"490\" /><line x1=\"115\" x2=\"115\" y1=\"40\" y2=\"490\" /><line x1=\"140\" x2=\"140\" y1=\"40\" y2=\"490\" /><line x1=\"165\" x2=\"165\" y1=\"40\" y2=\"490\" /><line x1=\"190\" x2=\"190\" y1=\"40\" y2=\"490\" /><line x1=\"215\" x2=\"215\" y1=\"40\" y2=\"490\" /><line x1=\"240\" x2=\"240\" y1=\"40\" y2=\"490\" /><line x1=\"265\" x2=\"265\" y1=\"40\" y2=\"490\" /><line x1=\"290\" x2=\"290\" y1=\"40\" y2=\"490\" /><line x1=\"315\" x2=\"315\" y1=\"40\" y2=\"490\" /><line x1=\"340\" x2=\"340\" y1=\"40\" y2=\"490\" /><line x1=\"365\" x2=\"365\" y1=\"40\" y2=\"490\" /><line x1=\"390\" x2=\"390\" y1=\"40\" y2=\"490\" /><line x1=\"415\" x2=\"415\" y1=\"40\" y2=\"490\" /><line x1=\"440\" x2=\"440\" y1=\"40\" y2=\"490\" /><line x1=\"465\" x2=\"465\" y1=\"40\" y2=\"490\" /><line x1=\"490\" x2=\"490\" y1=\"40\" y2=\"490\" /><line x1=\"40\" x2=\"490\" y1=\"40\" y2=\"40\" /><line x1=\"40\" x2=\"490\" y1=\"65\" y2=\"65\" /><line x1=\"40\" x2=\"490\" y1=\"90\" y2=\"90\" /><line x1=\"40\" x2=\"490\" y1=\"115\" y2=\"115\" /><line x1=\"40\" x2=\"490\" y1=\"140\" y2=\"140\" /><line x1=\"40\" x2=\"490\" y1=\"165\" y2=\"165\" /><line x1=\"40\" x2=\"490\" y1=\"190\" y2=\"190\" /><line x1=\"40\" x2=\"490\" y1=\"215\" y2=\"215\" /><line x1=\"40\" x2=\"490\" y1=\"240\" y2=\"240\" /><line x1=\"40\" x2=\"490\" y1=\"265\" y2=\"265\" /><line x1=\"40\" x2=\"490\" y1=\"290\" y2=\"290\" /><line x1=\"40\" x2=\"490\" y1=\"315\" y2=\"315\" /><line x1=\"40\" x2=\"490\" y1=\"340\" y2=\"340\" /><line x1=\"40\" x2=\"490\" y1=\"365\" y2=\"365\" /><line x1=\"40\" x2=\"490\" y1=\"390\" y2=\"390\" /><line x1=\"40\" x2=\"490\" y1=\"415\" y2=\"415\" /><line x1=\"40\" x2=\"490\" y1=\"440\" y2=\"440\" /><line x1=\"40\" x2=\"490\" y1=\"465\" y2=\"465\" /><line x1=\"40\" x2=\"490\" y1=\"490\" y2=\"490\" /><text font-size=\"15\" font-weight=\"lighter\" x=\"36\" y=\"18\">0</text><text font-size=\"15\" font-weight=\"lighter\" x=\"36\" y=\"520\">0</text><text font-size=\"15\" font-weight=\"lighter\" x=\"61\" y=\"18\">1</text><text font-size=\"15\" font-weight=\"lighter\" x=\"61\" y=\"520\">1</text><text font-size=\"15\" font-weight=\"lighter\" x=\"86\" y=\"18\">2</text><text font-size=\"15\" font-weight=\"lighter\" x=\"86\" y=\"520\">2</text><text font-size=\"15\" font-weight=\"lighter\" x=\"111\" y=\"18\">3</text><text font-size=\"15\" font-weight=\"lighter\" x=\"111\" y=\"520\">3</text><text font-size=\"15\" font-weight=\"lighter\" x=\"136\" y=\"18\">4</text><text font-size=\"15\" font-weight=\"lighter\" x=\"136\" y=\"520\">4</text><text font-size=\"15\" font-weight=\"lighter\" x=\"161\" y=\"18\">5</text><text font-size=\"15\" font-weight=\"lighter\" x=\"161\" y=\"520\">5</text><text font-size=\"15\" font-weight=\"lighter\" x=\"186\" y=\"18\">6</text><text font-size=\"15\" font-weight=\"lighter\" x=\"186\" y=\"520\">6</text><text font-size=\"15\" font-weight=\"lighter\" x=\"211\" y=\"18\">7</text><text font-size=\"15\" font-weight=\"lighter\" x=\"211\" y=\"520\">7</text><text font-size=\"15\" font-weight=\"lighter\" x=\"236\" y=\"18\">8</text><text font-size=\"15\" font-weight=\"lighter\" x=\"236\" y=\"520\">8</text><text font-size=\"15\" font-weight=\"lighter\" x=\"261\" y=\"18\">9</text><text font-size=\"15\" font-weight=\"lighter\" x=\"261\" y=\"520\">9</text><text font-size=\"15\" font-weight=\"lighter\" x=\"286\" y=\"18\">10</text><text font-size=\"15\" font-weight=\"lighter\" x=\"286\" y=\"520\">10</text><text font-size=\"15\" font-weight=\"lighter\" x=\"311\" y=\"18\">11</text><text font-size=\"15\" font-weight=\"lighter\" x=\"311\" y=\"520\">11</text><text font-size=\"15\" font-weight=\"lighter\" x=\"336\" y=\"18\">12</text><text font-size=\"15\" font-weight=\"lighter\" x=\"336\" y=\"520\">12</text><text font-size=\"15\" font-weight=\"lighter\" x=\"361\" y=\"18\">13</text><text font-size=\"15\" font-weight=\"lighter\" x=\"361\" y=\"520\">13</text><text font-size=\"15\" font-weight=\"lighter\" x=\"386\" y=\"18\">14</text><text font-size=\"15\" font-weight=\"lighter\" x=\"386\" y=\"520\">14</text><text font-size=\"15\" font-weight=\"lighter\" x=\"411\" y=\"18\">15</text><text font-size=\"15\" font-weight=\"lighter\" x=\"411\" y=\"520\">15</text><text font-size=\"15\" font-weight=\"lighter\" x=\"436\" y=\"18\">16</text><text font-size=\"15\" font-weight=\"lighter\" x=\"436\" y=\"520\">16</text><text font-size=\"15\" font-weight=\"lighter\" x=\"461\" y=\"18\">17</text><text font-size=\"15\" font-weight=\"lighter\" x=\"461\" y=\"520\">17</text><text font-size=\"15\" font-weight=\"lighter\" x=\"486\" y=\"18\">18</text><text font-size=\"15\" font-weight=\"lighter\" x=\"486\" y=\"520\">18</text><text font-size=\"15\" font-weight=\"lighter\" x=\"7\" y=\"46\">0</text><text font-size=\"15\" font-weight=\"lighter\" x=\"508\" y=\"46\">0</text><text font-size=\"15\" font-weight=\"lighter\" x=\"7\" y=\"71\">1</text><text font-size=\"15\" font-weight=\"lighter\" x=\"508\" y=\"71\">1</text><text font-size=\"15\" font-weight=\"lighter\" x=\"7\" y=\"96\">2</text><text font-size=\"15\" font-weight=\"lighter\" x=\"508\" y=\"96\">2</text><text font-size=\"15\" font-weight=\"lighter\" x=\"7\" y=\"121\">3</text><text font-size=\"15\" font-weight=\"lighter\" x=\"508\" y=\"121\">3</text><text font-size=\"15\" font-weight=\"lighter\" x=\"7\" y=\"146\">4</text><text font-size=\"15\" font-weight=\"lighter\" x=\"508\" y=\"146\">4</text><text font-size=\"15\" font-weight=\"lighter\" x=\"7\" y=\"171\">5</text><text font-size=\"15\" font-weight=\"lighter\" x=\"508\" y=\"171\">5</text><text font-size=\"15\" font-weight=\"lighter\" x=\"7\" y=\"196\">6</text><text font-size=\"15\" font-weight=\"lighter\" x=\"508\" y=\"196\">6</text><text font-size=\"15\" font-weight=\"lighter\" x=\"7\" y=\"221\">7</text><text font-size=\"15\" font-weight=\"lighter\" x=\"508\" y=\"221\">7</text><text font-size=\"15\" font-weight=\"lighter\" x=\"7\" y=\"246\">8</text><text font-size=\"15\" font-weight=\"lighter\" x=\"508\" y=\"246\">8</text><text font-size=\"15\" font-weight=\"lighter\" x=\"7\" y=\"271\">9</text><text font-size=\"15\" font-weight=\"lighter\" x=\"508\" y=\"271\">9</text><text font-size=\"15\" font-weight=\"lighter\" x=\"7\" y=\"296\">10</text><text font-size=\"15\" font-weight=\"lighter\" x=\"508\" y=\"296\">10</text><text font-size=\"15\" font-weight=\"lighter\" x=\"7\" y=\"321\">11</text><text font-size=\"15\" font-weight=\"lighter\" x=\"508\" y=\"321\">11</text><text font-size=\"15\" font-weight=\"lighter\" x=\"7\" y=\"346\">12</text><text font-size=\"15\" font-weight=\"lighter\" x=\"508\" y=\"346\">12</text><text font-size=\"15\" font-weight=\"lighter\" x=\"7\" y=\"371\">13</text><text font-size=\"15\" font-weight=\"lighter\" x=\"508\" y=\"371\">13</text><text font-size=\"15\" font-weight=\"lighter\" x=\"7\" y=\"396\">14</text><text font-size=\"15\" font-weight=\"lighter\" x=\"508\" y=\"396\">14</text><text font-size=\"15\" font-weight=\"lighter\" x=\"7\" y=\"421\">15</text><text font-size=\"15\" font-weight=\"lighter\" x=\"508\" y=\"421\">15</text><text font-size=\"15\" font-weight=\"lighter\" x=\"7\" y=\"446\">16</text><text font-size=\"15\" font-weight=\"lighter\" x=\"508\" y=\"446\">16</text><text font-size=\"15\" font-weight=\"lighter\" x=\"7\" y=\"471\">17</text><text font-size=\"15\" font-weight=\"lighter\" x=\"508\" y=\"471\">17</text><text font-size=\"15\" font-weight=\"lighter\" x=\"7\" y=\"496\">18</text><text font-size=\"15\" font-weight=\"lighter\" x=\"508\" y=\"496\">18</text><circle cx=\"115\" cy=\"415\" r=\"2\" style=\"fill:black;\" /><circle cx=\"265\" cy=\"415\" r=\"2\" style=\"fill:black;\" /><circle cx=\"390\" cy=\"415\" r=\"2\" style=\"fill:black;\" /><circle cx=\"115\" cy=\"265\" r=\"2\" style=\"fill:black;\" /><circle cx=\"115\" cy=\"140\" r=\"2\" style=\"fill:black;\" /><circle cx=\"265\" cy=\"415\" r=\"2\" style=\"fill:black;\" /><circle cx=\"265\" cy=\"140\" r=\"2\" style=\"fill:black;\" /><circle cx=\"390\" cy=\"415\" r=\"2\" style=\"fill:black;\" /><circle cx=\"390\" cy=\"140\" r=\"2\" style=\"fill:black;\" /><circle cx=\"265.0\" cy=\"265.0\" r=\"2\" style=\"fill:black;\" /><circle cx=\"40\" cy=\"115\" r=\"11\" style=\"fill:black;\" /><circle cx=\"40\" cy=\"140\" r=\"11\" style=\"fill:black;\" /><circle cx=\"40\" cy=\"165\" r=\"11\" style=\"fill:white;\" /><circle cx=\"40\" cy=\"190\" r=\"11\" style=\"fill:white;\" /><circle cx=\"40\" cy=\"390\" r=\"11\" style=\"fill:white;\" /><circle cx=\"40\" cy=\"415\" r=\"11\" style=\"fill:white;\" /><circle cx=\"40\" cy=\"440\" r=\"11\" style=\"fill:black;\" /><circle cx=\"65\" cy=\"40\" r=\"11\" style=\"fill:black;\" /><circle cx=\"65\" cy=\"90\" r=\"11\" style=\"fill:black;\" /><circle cx=\"65\" cy=\"115\" r=\"11\" style=\"fill:black;\" /><circle cx=\"65\" cy=\"140\" r=\"11\" style=\"fill:white;\" /><circle cx=\"65\" cy=\"165\" r=\"11\" style=\"fill:white;\" /><circle cx=\"65\" cy=\"215\" r=\"11\" style=\"fill:white;\" /><circle cx=\"65\" cy=\"315\" r=\"11\" style=\"fill:white;\" /><circle cx=\"65\" cy=\"390\" r=\"11\" style=\"fill:white;\" /><circle cx=\"65\" cy=\"415\" r=\"11\" style=\"fill:black;\" /><circle cx=\"65\" cy=\"440\" r=\"11\" style=\"fill:black;\" /><circle cx=\"90\" cy=\"90\" r=\"11\" style=\"fill:black;\" /><circle cx=\"90\" cy=\"115\" r=\"11\" style=\"fill:white;\" /><circle cx=\"90\" cy=\"140\" r=\"11\" style=\"fill:white;\" /><circle cx=\"90\" cy=\"165\" r=\"11\" style=\"fill:white;\" /><circle cx=\"90\" cy=\"190\" r=\"11\" style=\"fill:white;\" /><circle cx=\"90\" cy=\"215\" r=\"11\" style=\"fill:white;\" /><circle cx=\"90\" cy=\"240\" r=\"11\" style=\"fill:white;\" /><circle cx=\"90\" cy=\"265\" r=\"11\" style=\"fill:white;\" /><circle cx=\"90\" cy=\"290\" r=\"11\" style=\"fill:white;\" /><circle cx=\"90\" cy=\"315\" r=\"11\" style=\"fill:black;\" /><circle cx=\"90\" cy=\"340\" r=\"11\" style=\"fill:white;\" /><circle cx=\"90\" cy=\"365\" r=\"11\" style=\"fill:white;\" /><circle cx=\"90\" cy=\"390\" r=\"11\" style=\"fill:white;\" /><circle cx=\"90\" cy=\"415\" r=\"11\" style=\"fill:white;\" /><circle cx=\"90\" cy=\"440\" r=\"11\" style=\"fill:black;\" /><circle cx=\"115\" cy=\"40\" r=\"11\" style=\"fill:black;\" /><circle cx=\"115\" cy=\"90\" r=\"11\" style=\"fill:black;\" /><circle cx=\"115\" cy=\"115\" r=\"11\" style=\"fill:black;\" /><circle cx=\"115\" cy=\"140\" r=\"11\" style=\"fill:white;\" /><circle cx=\"115\" cy=\"165\" r=\"11\" style=\"fill:black;\" /><circle cx=\"115\" cy=\"190\" r=\"11\" style=\"fill:white;\" /><circle cx=\"115\" cy=\"215\" r=\"11\" style=\"fill:black;\" /><circle cx=\"115\" cy=\"240\" r=\"11\" style=\"fill:black;\" /><circle cx=\"115\" cy=\"265\" r=\"11\" style=\"fill:black;\" /><circle cx=\"115\" cy=\"290\" r=\"11\" style=\"fill:black;\" /><circle cx=\"115\" cy=\"315\" r=\"11\" style=\"fill:black;\" /><circle cx=\"115\" cy=\"340\" r=\"11\" style=\"fill:black;\" /><circle cx=\"115\" cy=\"365\" r=\"11\" style=\"fill:black;\" /><circle cx=\"115\" cy=\"390\" r=\"11\" style=\"fill:white;\" /><circle cx=\"115\" cy=\"440\" r=\"11\" style=\"fill:black;\" /><circle cx=\"140\" cy=\"40\" r=\"11\" style=\"fill:white;\" /><circle cx=\"140\" cy=\"65\" r=\"11\" style=\"fill:black;\" /><circle cx=\"140\" cy=\"90\" r=\"11\" style=\"fill:black;\" /><circle cx=\"140\" cy=\"115\" r=\"11\" style=\"fill:white;\" /><circle cx=\"140\" cy=\"140\" r=\"11\" style=\"fill:white;\" /><circle cx=\"140\" cy=\"165\" r=\"11\" style=\"fill:black;\" /><circle cx=\"140\" cy=\"215\" r=\"11\" style=\"fill:black;\" /><circle cx=\"140\" cy=\"240\" r=\"11\" style=\"fill:black;\" /><circle cx=\"140\" cy=\"290\" r=\"11\" style=\"fill:black;\" /><circle cx=\"140\" cy=\"365\" r=\"11\" style=\"fill:black;\" /><circle cx=\"140\" cy=\"390\" r=\"11\" style=\"fill:black;\" /><circle cx=\"140\" cy=\"415\" r=\"11\" style=\"fill:black;\" /><circle cx=\"165\" cy=\"40\" r=\"11\" style=\"fill:white;\" /><circle cx=\"165\" cy=\"65\" r=\"11\" style=\"fill:white;\" /><circle cx=\"165\" cy=\"90\" r=\"11\" style=\"fill:white;\" /><circle cx=\"165\" cy=\"115\" r=\"11\" style=\"fill:black;\" /><circle cx=\"165\" cy=\"140\" r=\"11\" style=\"fill:black;\" /><circle cx=\"165\" cy=\"165\" r=\"11\" style=\"fill:black;\" /><circle cx=\"165\" cy=\"215\" r=\"11\" style=\"fill:white;\" /><circle cx=\"165\" cy=\"240\" r=\"11\" style=\"fill:black;\" /><circle cx=\"165\" cy=\"265\" r=\"11\" style=\"fill:black;\" /><circle cx=\"165\" cy=\"290\" r=\"11\" style=\"fill:black;\" /><circle cx=\"165\" cy=\"315\" r=\"11\" style=\"fill:black;\" /><circle cx=\"165\" cy=\"340\" r=\"11\" style=\"fill:black;\" /><circle cx=\"165\" cy=\"365\" r=\"11\" style=\"fill:white;\" /><circle cx=\"165\" cy=\"390\" r=\"11\" style=\"fill:black;\" /><circle cx=\"165\" cy=\"440\" r=\"11\" style=\"fill:black;\" /><circle cx=\"190\" cy=\"65\" r=\"11\" style=\"fill:white;\" /><circle cx=\"190\" cy=\"115\" r=\"11\" style=\"fill:white;\" /><circle cx=\"190\" cy=\"190\" r=\"11\" style=\"fill:white;\" /><circle cx=\"190\" cy=\"240\" r=\"11\" style=\"fill:white;\" /><circle cx=\"190\" cy=\"265\" r=\"11\" style=\"fill:black;\" /><circle cx=\"190\" cy=\"290\" r=\"11\" style=\"fill:white;\" /><circle cx=\"190\" cy=\"315\" r=\"11\" style=\"fill:black;\" /><circle cx=\"190\" cy=\"340\" r=\"11\" style=\"fill:white;\" /><circle cx=\"190\" cy=\"365\" r=\"11\" style=\"fill:white;\" /><circle cx=\"190\" cy=\"390\" r=\"11\" style=\"fill:white;\" /><circle cx=\"190\" cy=\"415\" r=\"11\" style=\"fill:black;\" /><circle cx=\"190\" cy=\"465\" r=\"11\" style=\"fill:black;\" /><circle cx=\"215\" cy=\"65\" r=\"11\" style=\"fill:white;\" /><circle cx=\"215\" cy=\"90\" r=\"11\" style=\"fill:white;\" /><circle cx=\"215\" cy=\"115\" r=\"11\" style=\"fill:black;\" /><circle cx=\"215\" cy=\"140\" r=\"11\" style=\"fill:black;\" /><circle cx=\"215\" cy=\"165\" r=\"11\" style=\"fill:black;\" /><circle cx=\"215\" cy=\"240\" r=\"11\" style=\"fill:white;\" /><circle cx=\"215\" cy=\"265\" r=\"11\" style=\"fill:white;\" /><circle cx=\"215\" cy=\"290\" r=\"11\" style=\"fill:white;\" /><circle cx=\"215\" cy=\"315\" r=\"11\" style=\"fill:black;\" /><circle cx=\"215\" cy=\"340\" r=\"11\" style=\"fill:white;\" /><circle cx=\"215\" cy=\"365\" r=\"11\" style=\"fill:white;\" /><circle cx=\"215\" cy=\"390\" r=\"11\" style=\"fill:black;\" /><circle cx=\"215\" cy=\"415\" r=\"11\" style=\"fill:white;\" /><circle cx=\"215\" cy=\"440\" r=\"11\" style=\"fill:black;\" /><circle cx=\"215\" cy=\"465\" r=\"11\" style=\"fill:black;\" /><circle cx=\"215\" cy=\"490\" r=\"11\" style=\"fill:black;\" /><circle cx=\"240\" cy=\"40\" r=\"11\" style=\"fill:white;\" /><circle cx=\"240\" cy=\"90\" r=\"11\" style=\"fill:white;\" /><circle cx=\"240\" cy=\"115\" r=\"11\" style=\"fill:black;\" /><circle cx=\"240\" cy=\"140\" r=\"11\" style=\"fill:black;\" /><circle cx=\"240\" cy=\"190\" r=\"11\" style=\"fill:black;\" /><circle cx=\"240\" cy=\"215\" r=\"11\" style=\"fill:black;\" /><circle cx=\"240\" cy=\"240\" r=\"11\" style=\"fill:black;\" /><circle cx=\"240\" cy=\"265\" r=\"11\" style=\"fill:black;\" /><circle cx=\"240\" cy=\"290\" r=\"11\" style=\"fill:white;\" /><circle cx=\"240\" cy=\"315\" r=\"11\" style=\"fill:white;\" /><circle cx=\"240\" cy=\"415\" r=\"11\" style=\"fill:white;\" /><circle cx=\"240\" cy=\"440\" r=\"11\" style=\"fill:white;\" /><circle cx=\"240\" cy=\"465\" r=\"11\" style=\"fill:white;\" /><circle cx=\"240\" cy=\"490\" r=\"11\" style=\"fill:black;\" /><circle cx=\"265\" cy=\"40\" r=\"11\" style=\"fill:white;\" /><circle cx=\"265\" cy=\"65\" r=\"11\" style=\"fill:white;\" /><circle cx=\"265\" cy=\"90\" r=\"11\" style=\"fill:black;\" /><circle cx=\"265\" cy=\"190\" r=\"11\" style=\"fill:black;\" /><circle cx=\"265\" cy=\"215\" r=\"11\" style=\"fill:white;\" /><circle cx=\"265\" cy=\"265\" r=\"11\" style=\"fill:black;\" /><circle cx=\"265\" cy=\"290\" r=\"11\" style=\"fill:white;\" /><circle cx=\"265\" cy=\"340\" r=\"11\" style=\"fill:white;\" /><circle cx=\"265\" cy=\"365\" r=\"11\" style=\"fill:white;\" /><circle cx=\"265\" cy=\"415\" r=\"11\" style=\"fill:white;\" /><circle cx=\"265\" cy=\"465\" r=\"11\" style=\"fill:white;\" /><circle cx=\"265\" cy=\"490\" r=\"11\" style=\"fill:white;\" /><circle cx=\"290\" cy=\"40\" r=\"11\" style=\"fill:black;\" /><circle cx=\"290\" cy=\"65\" r=\"11\" style=\"fill:black;\" /><circle cx=\"290\" cy=\"90\" r=\"11\" style=\"fill:black;\" /><circle cx=\"290\" cy=\"115\" r=\"11\" style=\"fill:black;\" /><circle cx=\"290\" cy=\"140\" r=\"11\" style=\"fill:black;\" /><circle cx=\"290\" cy=\"165\" r=\"11\" style=\"fill:black;\" /><circle cx=\"290\" cy=\"190\" r=\"11\" style=\"fill:white;\" /><circle cx=\"290\" cy=\"215\" r=\"11\" style=\"fill:white;\" /><circle cx=\"290\" cy=\"240\" r=\"11\" style=\"fill:black;\" /><circle cx=\"290\" cy=\"265\" r=\"11\" style=\"fill:black;\" /><circle cx=\"290\" cy=\"290\" r=\"11\" style=\"fill:white;\" /><circle cx=\"290\" cy=\"315\" r=\"11\" style=\"fill:white;\" /><circle cx=\"290\" cy=\"340\" r=\"11\" style=\"fill:black;\" /><circle cx=\"290\" cy=\"365\" r=\"11\" style=\"fill:black;\" /><circle cx=\"290\" cy=\"390\" r=\"11\" style=\"fill:white;\" /><circle cx=\"315\" cy=\"90\" r=\"11\" style=\"fill:white;\" /><circle cx=\"315\" cy=\"140\" r=\"11\" style=\"fill:black;\" /><circle cx=\"315\" cy=\"165\" r=\"11\" style=\"fill:white;\" /><circle cx=\"315\" cy=\"215\" r=\"11\" style=\"fill:white;\" /><circle cx=\"315\" cy=\"240\" r=\"11\" style=\"fill:white;\" /><circle cx=\"315\" cy=\"265\" r=\"11\" style=\"fill:black;\" /><circle cx=\"315\" cy=\"290\" r=\"11\" style=\"fill:black;\" /><circle cx=\"315\" cy=\"315\" r=\"11\" style=\"fill:black;\" /><circle cx=\"315\" cy=\"340\" r=\"11\" style=\"fill:black;\" /><circle cx=\"315\" cy=\"365\" r=\"11\" style=\"fill:black;\" /><circle cx=\"315\" cy=\"390\" r=\"11\" style=\"fill:black;\" /><circle cx=\"315\" cy=\"415\" r=\"11\" style=\"fill:white;\" /><circle cx=\"340\" cy=\"65\" r=\"11\" style=\"fill:black;\" /><circle cx=\"340\" cy=\"115\" r=\"11\" style=\"fill:white;\" /><circle cx=\"340\" cy=\"140\" r=\"11\" style=\"fill:white;\" /><circle cx=\"340\" cy=\"165\" r=\"11\" style=\"fill:white;\" /><circle cx=\"340\" cy=\"190\" r=\"11\" style=\"fill:white;\" /><circle cx=\"340\" cy=\"215\" r=\"11\" style=\"fill:white;\" /><circle cx=\"340\" cy=\"240\" r=\"11\" style=\"fill:black;\" /><circle cx=\"340\" cy=\"265\" r=\"11\" style=\"fill:white;\" /><circle cx=\"340\" cy=\"290\" r=\"11\" style=\"fill:white;\" /><circle cx=\"340\" cy=\"315\" r=\"11\" style=\"fill:white;\" /><circle cx=\"340\" cy=\"340\" r=\"11\" style=\"fill:white;\" /><circle cx=\"340\" cy=\"365\" r=\"11\" style=\"fill:white;\" /><circle cx=\"340\" cy=\"390\" r=\"11\" style=\"fill:white;\" /><circle cx=\"365\" cy=\"65\" r=\"11\" style=\"fill:black;\" /><circle cx=\"365\" cy=\"90\" r=\"11\" style=\"fill:white;\" /><circle cx=\"365\" cy=\"115\" r=\"11\" style=\"fill:white;\" /><circle cx=\"365\" cy=\"165\" r=\"11\" style=\"fill:white;\" /><circle cx=\"365\" cy=\"215\" r=\"11\" style=\"fill:black;\" /><circle cx=\"365\" cy=\"240\" r=\"11\" style=\"fill:black;\" /><circle cx=\"365\" cy=\"265\" r=\"11\" style=\"fill:white;\" /><circle cx=\"365\" cy=\"290\" r=\"11\" style=\"fill:white;\" /><circle cx=\"365\" cy=\"365\" r=\"11\" style=\"fill:white;\" /><circle cx=\"365\" cy=\"390\" r=\"11\" style=\"fill:black;\" /><circle cx=\"365\" cy=\"415\" r=\"11\" style=\"fill:white;\" /><circle cx=\"365\" cy=\"440\" r=\"11\" style=\"fill:white;\" /><circle cx=\"390\" cy=\"90\" r=\"11\" style=\"fill:black;\" /><circle cx=\"390\" cy=\"115\" r=\"11\" style=\"fill:white;\" /><circle cx=\"390\" cy=\"140\" r=\"11\" style=\"fill:white;\" /><circle cx=\"390\" cy=\"190\" r=\"11\" style=\"fill:white;\" /><circle cx=\"390\" cy=\"215\" r=\"11\" style=\"fill:white;\" /><circle cx=\"390\" cy=\"240\" r=\"11\" style=\"fill:black;\" /><circle cx=\"390\" cy=\"265\" r=\"11\" style=\"fill:black;\" /><circle cx=\"390\" cy=\"290\" r=\"11\" style=\"fill:black;\" /><circle cx=\"390\" cy=\"315\" r=\"11\" style=\"fill:white;\" /><circle cx=\"390\" cy=\"340\" r=\"11\" style=\"fill:white;\" /><circle cx=\"415\" cy=\"90\" r=\"11\" style=\"fill:black;\" /><circle cx=\"415\" cy=\"140\" r=\"11\" style=\"fill:white;\" /><circle cx=\"415\" cy=\"165\" r=\"11\" style=\"fill:black;\" /><circle cx=\"415\" cy=\"190\" r=\"11\" style=\"fill:black;\" /><circle cx=\"415\" cy=\"215\" r=\"11\" style=\"fill:black;\" /><circle cx=\"415\" cy=\"290\" r=\"11\" style=\"fill:black;\" /><circle cx=\"415\" cy=\"315\" r=\"11\" style=\"fill:black;\" /><circle cx=\"415\" cy=\"340\" r=\"11\" style=\"fill:white;\" /><circle cx=\"415\" cy=\"365\" r=\"11\" style=\"fill:white;\" /><circle cx=\"440\" cy=\"115\" r=\"11\" style=\"fill:black;\" /><circle cx=\"440\" cy=\"140\" r=\"11\" style=\"fill:black;\" /><circle cx=\"440\" cy=\"265\" r=\"11\" style=\"fill:black;\" /><circle cx=\"440\" cy=\"290\" r=\"11\" style=\"fill:black;\" /><circle cx=\"440\" cy=\"315\" r=\"11\" style=\"fill:white;\" /><circle cx=\"440\" cy=\"340\" r=\"11\" style=\"fill:white;\" /><circle cx=\"440\" cy=\"365\" r=\"11\" style=\"fill:black;\" /><circle cx=\"440\" cy=\"390\" r=\"11\" style=\"fill:white;\" /><circle cx=\"440\" cy=\"415\" r=\"11\" style=\"fill:white;\" /><circle cx=\"465\" cy=\"240\" r=\"11\" style=\"fill:black;\" /><circle cx=\"465\" cy=\"265\" r=\"11\" style=\"fill:white;\" /><circle cx=\"465\" cy=\"290\" r=\"11\" style=\"fill:black;\" /><circle cx=\"465\" cy=\"315\" r=\"11\" style=\"fill:white;\" /><circle cx=\"465\" cy=\"340\" r=\"11\" style=\"fill:black;\" /><circle cx=\"465\" cy=\"365\" r=\"11\" style=\"fill:black;\" /><circle cx=\"465\" cy=\"390\" r=\"11\" style=\"fill:white;\" /><circle cx=\"465\" cy=\"440\" r=\"11\" style=\"fill:white;\" /><circle cx=\"490\" cy=\"290\" r=\"11\" style=\"fill:black;\" /><circle cx=\"490\" cy=\"315\" r=\"11\" style=\"fill:black;\" /><circle cx=\"490\" cy=\"340\" r=\"11\" style=\"fill:black;\" /><circle cx=\"490\" cy=\"390\" r=\"11\" style=\"fill:black;\" /><circle cx=\"490\" cy=\"415\" r=\"11\" style=\"fill:black;\" /><circle cx=\"490\" cy=\"440\" r=\"11\" style=\"fill:white;\" /></g></svg>'"
      ],
      "text/plain": [
       "<visualization.SvgGoBoard at 0x7f5cf02f6630>"
      ]
     },
     "execution_count": 132,
     "metadata": {},
     "output_type": "execute_result"
    }
   ],
   "source": [
    "bb = RenderRealExample()\n",
    "bb"
   ]
  },
  {
   "cell_type": "code",
   "execution_count": null,
   "metadata": {},
   "outputs": [],
   "source": []
  },
  {
   "cell_type": "markdown",
   "metadata": {
    "slideshow": {
     "slide_type": "slide"
    }
   },
   "source": [
    "### Exhaustive Search\n",
    "\n",
    "* A natual tree structure\n",
    "\n",
    "* Width: the number of possible moves\n",
    "\n",
    "* Depth: the number of moves of a complete game\n",
    "\n",
    "* $O(2^{170})$ nodes for a Go game on the standard board"
   ]
  },
  {
   "cell_type": "markdown",
   "metadata": {
    "slideshow": {
     "slide_type": "slide"
    }
   },
   "source": [
    "### Reducing Search Width\n",
    "\n",
    "* Normally 200~300 legal candidate moves at each step;\n",
    "\n",
    "* Human players consider only 5-10 candidates for the first step;\n",
    "\n",
    "* Trained human players have good intuition:\n",
    "\n",
    "    * senstitive on shapes\n",
    "    \n",
    "    * think locally\n",
    "    \n",
    "    * remember hundreds of Josekis(定式)"
   ]
  },
  {
   "cell_type": "code",
   "execution_count": 133,
   "metadata": {
    "slideshow": {
     "slide_type": "notes"
    }
   },
   "outputs": [],
   "source": [
    "def RenderEfficiencyExample():\n",
    "    bb = SvgGoBoard(19, 19, coord_style='A1')\n",
    "    bb.AddStone(3, 16, -1)\n",
    "    bb.AddStone(2, 14, -1)\n",
    "    bb.AddStone(9, 16, -1)\n",
    "    bb.AddStone(9, 14, -1)\n",
    "    bb.AddStone(10, 3, 1)\n",
    "    bb.AddStone(10, 4, 1)\n",
    "    bb.AddStone(11, 3, 1)\n",
    "    bb.AddStone(11, 4, 1)\n",
    "    return bb"
   ]
  },
  {
   "cell_type": "code",
   "execution_count": 134,
   "metadata": {
    "slideshow": {
     "slide_type": "subslide"
    }
   },
   "outputs": [
    {
     "data": {
      "image/svg+xml": [
       "b'<svg height=\"530\" version=\"1.1\" width=\"530\" xmlns=\"http://www.w3.org/2000/svg\"><g style=\"fill-opacity:1.0; stroke:black; stroke-width:1;\"><rect height=\"530\" style=\"fill:wheat;\" width=\"530\" x=\"0\" y=\"0\" /><line x1=\"40\" x2=\"40\" y1=\"40\" y2=\"490\" /><line x1=\"65\" x2=\"65\" y1=\"40\" y2=\"490\" /><line x1=\"90\" x2=\"90\" y1=\"40\" y2=\"490\" /><line x1=\"115\" x2=\"115\" y1=\"40\" y2=\"490\" /><line x1=\"140\" x2=\"140\" y1=\"40\" y2=\"490\" /><line x1=\"165\" x2=\"165\" y1=\"40\" y2=\"490\" /><line x1=\"190\" x2=\"190\" y1=\"40\" y2=\"490\" /><line x1=\"215\" x2=\"215\" y1=\"40\" y2=\"490\" /><line x1=\"240\" x2=\"240\" y1=\"40\" y2=\"490\" /><line x1=\"265\" x2=\"265\" y1=\"40\" y2=\"490\" /><line x1=\"290\" x2=\"290\" y1=\"40\" y2=\"490\" /><line x1=\"315\" x2=\"315\" y1=\"40\" y2=\"490\" /><line x1=\"340\" x2=\"340\" y1=\"40\" y2=\"490\" /><line x1=\"365\" x2=\"365\" y1=\"40\" y2=\"490\" /><line x1=\"390\" x2=\"390\" y1=\"40\" y2=\"490\" /><line x1=\"415\" x2=\"415\" y1=\"40\" y2=\"490\" /><line x1=\"440\" x2=\"440\" y1=\"40\" y2=\"490\" /><line x1=\"465\" x2=\"465\" y1=\"40\" y2=\"490\" /><line x1=\"490\" x2=\"490\" y1=\"40\" y2=\"490\" /><line x1=\"40\" x2=\"490\" y1=\"40\" y2=\"40\" /><line x1=\"40\" x2=\"490\" y1=\"65\" y2=\"65\" /><line x1=\"40\" x2=\"490\" y1=\"90\" y2=\"90\" /><line x1=\"40\" x2=\"490\" y1=\"115\" y2=\"115\" /><line x1=\"40\" x2=\"490\" y1=\"140\" y2=\"140\" /><line x1=\"40\" x2=\"490\" y1=\"165\" y2=\"165\" /><line x1=\"40\" x2=\"490\" y1=\"190\" y2=\"190\" /><line x1=\"40\" x2=\"490\" y1=\"215\" y2=\"215\" /><line x1=\"40\" x2=\"490\" y1=\"240\" y2=\"240\" /><line x1=\"40\" x2=\"490\" y1=\"265\" y2=\"265\" /><line x1=\"40\" x2=\"490\" y1=\"290\" y2=\"290\" /><line x1=\"40\" x2=\"490\" y1=\"315\" y2=\"315\" /><line x1=\"40\" x2=\"490\" y1=\"340\" y2=\"340\" /><line x1=\"40\" x2=\"490\" y1=\"365\" y2=\"365\" /><line x1=\"40\" x2=\"490\" y1=\"390\" y2=\"390\" /><line x1=\"40\" x2=\"490\" y1=\"415\" y2=\"415\" /><line x1=\"40\" x2=\"490\" y1=\"440\" y2=\"440\" /><line x1=\"40\" x2=\"490\" y1=\"465\" y2=\"465\" /><line x1=\"40\" x2=\"490\" y1=\"490\" y2=\"490\" /><text font-size=\"15\" font-weight=\"lighter\" x=\"36\" y=\"18\">A</text><text font-size=\"15\" font-weight=\"lighter\" x=\"36\" y=\"520\">A</text><text font-size=\"15\" font-weight=\"lighter\" x=\"61\" y=\"18\">B</text><text font-size=\"15\" font-weight=\"lighter\" x=\"61\" y=\"520\">B</text><text font-size=\"15\" font-weight=\"lighter\" x=\"86\" y=\"18\">C</text><text font-size=\"15\" font-weight=\"lighter\" x=\"86\" y=\"520\">C</text><text font-size=\"15\" font-weight=\"lighter\" x=\"111\" y=\"18\">D</text><text font-size=\"15\" font-weight=\"lighter\" x=\"111\" y=\"520\">D</text><text font-size=\"15\" font-weight=\"lighter\" x=\"136\" y=\"18\">E</text><text font-size=\"15\" font-weight=\"lighter\" x=\"136\" y=\"520\">E</text><text font-size=\"15\" font-weight=\"lighter\" x=\"161\" y=\"18\">F</text><text font-size=\"15\" font-weight=\"lighter\" x=\"161\" y=\"520\">F</text><text font-size=\"15\" font-weight=\"lighter\" x=\"186\" y=\"18\">G</text><text font-size=\"15\" font-weight=\"lighter\" x=\"186\" y=\"520\">G</text><text font-size=\"15\" font-weight=\"lighter\" x=\"211\" y=\"18\">H</text><text font-size=\"15\" font-weight=\"lighter\" x=\"211\" y=\"520\">H</text><text font-size=\"15\" font-weight=\"lighter\" x=\"236\" y=\"18\">J</text><text font-size=\"15\" font-weight=\"lighter\" x=\"236\" y=\"520\">J</text><text font-size=\"15\" font-weight=\"lighter\" x=\"261\" y=\"18\">K</text><text font-size=\"15\" font-weight=\"lighter\" x=\"261\" y=\"520\">K</text><text font-size=\"15\" font-weight=\"lighter\" x=\"286\" y=\"18\">L</text><text font-size=\"15\" font-weight=\"lighter\" x=\"286\" y=\"520\">L</text><text font-size=\"15\" font-weight=\"lighter\" x=\"311\" y=\"18\">M</text><text font-size=\"15\" font-weight=\"lighter\" x=\"311\" y=\"520\">M</text><text font-size=\"15\" font-weight=\"lighter\" x=\"336\" y=\"18\">N</text><text font-size=\"15\" font-weight=\"lighter\" x=\"336\" y=\"520\">N</text><text font-size=\"15\" font-weight=\"lighter\" x=\"361\" y=\"18\">O</text><text font-size=\"15\" font-weight=\"lighter\" x=\"361\" y=\"520\">O</text><text font-size=\"15\" font-weight=\"lighter\" x=\"386\" y=\"18\">P</text><text font-size=\"15\" font-weight=\"lighter\" x=\"386\" y=\"520\">P</text><text font-size=\"15\" font-weight=\"lighter\" x=\"411\" y=\"18\">Q</text><text font-size=\"15\" font-weight=\"lighter\" x=\"411\" y=\"520\">Q</text><text font-size=\"15\" font-weight=\"lighter\" x=\"436\" y=\"18\">R</text><text font-size=\"15\" font-weight=\"lighter\" x=\"436\" y=\"520\">R</text><text font-size=\"15\" font-weight=\"lighter\" x=\"461\" y=\"18\">S</text><text font-size=\"15\" font-weight=\"lighter\" x=\"461\" y=\"520\">S</text><text font-size=\"15\" font-weight=\"lighter\" x=\"486\" y=\"18\">T</text><text font-size=\"15\" font-weight=\"lighter\" x=\"486\" y=\"520\">T</text><text font-size=\"15\" font-weight=\"lighter\" x=\"7\" y=\"46\">1</text><text font-size=\"15\" font-weight=\"lighter\" x=\"508\" y=\"46\">1</text><text font-size=\"15\" font-weight=\"lighter\" x=\"7\" y=\"71\">2</text><text font-size=\"15\" font-weight=\"lighter\" x=\"508\" y=\"71\">2</text><text font-size=\"15\" font-weight=\"lighter\" x=\"7\" y=\"96\">3</text><text font-size=\"15\" font-weight=\"lighter\" x=\"508\" y=\"96\">3</text><text font-size=\"15\" font-weight=\"lighter\" x=\"7\" y=\"121\">4</text><text font-size=\"15\" font-weight=\"lighter\" x=\"508\" y=\"121\">4</text><text font-size=\"15\" font-weight=\"lighter\" x=\"7\" y=\"146\">5</text><text font-size=\"15\" font-weight=\"lighter\" x=\"508\" y=\"146\">5</text><text font-size=\"15\" font-weight=\"lighter\" x=\"7\" y=\"171\">6</text><text font-size=\"15\" font-weight=\"lighter\" x=\"508\" y=\"171\">6</text><text font-size=\"15\" font-weight=\"lighter\" x=\"7\" y=\"196\">7</text><text font-size=\"15\" font-weight=\"lighter\" x=\"508\" y=\"196\">7</text><text font-size=\"15\" font-weight=\"lighter\" x=\"7\" y=\"221\">8</text><text font-size=\"15\" font-weight=\"lighter\" x=\"508\" y=\"221\">8</text><text font-size=\"15\" font-weight=\"lighter\" x=\"7\" y=\"246\">9</text><text font-size=\"15\" font-weight=\"lighter\" x=\"508\" y=\"246\">9</text><text font-size=\"15\" font-weight=\"lighter\" x=\"7\" y=\"271\">10</text><text font-size=\"15\" font-weight=\"lighter\" x=\"508\" y=\"271\">10</text><text font-size=\"15\" font-weight=\"lighter\" x=\"7\" y=\"296\">11</text><text font-size=\"15\" font-weight=\"lighter\" x=\"508\" y=\"296\">11</text><text font-size=\"15\" font-weight=\"lighter\" x=\"7\" y=\"321\">12</text><text font-size=\"15\" font-weight=\"lighter\" x=\"508\" y=\"321\">12</text><text font-size=\"15\" font-weight=\"lighter\" x=\"7\" y=\"346\">13</text><text font-size=\"15\" font-weight=\"lighter\" x=\"508\" y=\"346\">13</text><text font-size=\"15\" font-weight=\"lighter\" x=\"7\" y=\"371\">14</text><text font-size=\"15\" font-weight=\"lighter\" x=\"508\" y=\"371\">14</text><text font-size=\"15\" font-weight=\"lighter\" x=\"7\" y=\"396\">15</text><text font-size=\"15\" font-weight=\"lighter\" x=\"508\" y=\"396\">15</text><text font-size=\"15\" font-weight=\"lighter\" x=\"7\" y=\"421\">16</text><text font-size=\"15\" font-weight=\"lighter\" x=\"508\" y=\"421\">16</text><text font-size=\"15\" font-weight=\"lighter\" x=\"7\" y=\"446\">17</text><text font-size=\"15\" font-weight=\"lighter\" x=\"508\" y=\"446\">17</text><text font-size=\"15\" font-weight=\"lighter\" x=\"7\" y=\"471\">18</text><text font-size=\"15\" font-weight=\"lighter\" x=\"508\" y=\"471\">18</text><text font-size=\"15\" font-weight=\"lighter\" x=\"7\" y=\"496\">19</text><text font-size=\"15\" font-weight=\"lighter\" x=\"508\" y=\"496\">19</text><circle cx=\"115\" cy=\"415\" r=\"2\" style=\"fill:black;\" /><circle cx=\"265\" cy=\"415\" r=\"2\" style=\"fill:black;\" /><circle cx=\"390\" cy=\"415\" r=\"2\" style=\"fill:black;\" /><circle cx=\"115\" cy=\"265\" r=\"2\" style=\"fill:black;\" /><circle cx=\"115\" cy=\"140\" r=\"2\" style=\"fill:black;\" /><circle cx=\"265\" cy=\"415\" r=\"2\" style=\"fill:black;\" /><circle cx=\"265\" cy=\"140\" r=\"2\" style=\"fill:black;\" /><circle cx=\"390\" cy=\"415\" r=\"2\" style=\"fill:black;\" /><circle cx=\"390\" cy=\"140\" r=\"2\" style=\"fill:black;\" /><circle cx=\"265.0\" cy=\"265.0\" r=\"2\" style=\"fill:black;\" /><circle cx=\"115\" cy=\"440\" r=\"11\" style=\"fill:white;\" /><circle cx=\"90\" cy=\"390\" r=\"11\" style=\"fill:white;\" /><circle cx=\"265\" cy=\"440\" r=\"11\" style=\"fill:white;\" /><circle cx=\"265\" cy=\"390\" r=\"11\" style=\"fill:white;\" /><circle cx=\"290\" cy=\"115\" r=\"11\" style=\"fill:black;\" /><circle cx=\"290\" cy=\"140\" r=\"11\" style=\"fill:black;\" /><circle cx=\"315\" cy=\"115\" r=\"11\" style=\"fill:black;\" /><circle cx=\"315\" cy=\"140\" r=\"11\" style=\"fill:black;\" /></g></svg>'"
      ],
      "text/plain": [
       "<visualization.SvgGoBoard at 0x7f5cf0334e80>"
      ]
     },
     "execution_count": 134,
     "metadata": {},
     "output_type": "execute_result"
    }
   ],
   "source": [
    "bb = RenderEfficiencyExample()\n",
    "bb"
   ]
  },
  {
   "cell_type": "code",
   "execution_count": 135,
   "metadata": {
    "slideshow": {
     "slide_type": "notes"
    }
   },
   "outputs": [],
   "source": [
    "def RenderRelevanceExample():\n",
    "    planes, label = ParseForPolicy(shusai_game[33])\n",
    "    orig = planes.numpy()[:,:,0]\n",
    "    bb = DrawGoBoard(orig)\n",
    "    bb.AddSquare(2, 6, 0)\n",
    "    bb.AddSquare(2, 7, 0)\n",
    "    bb.AddSquare(3, 5, 0)\n",
    "    bb.AddSquare(16, 9, -1)\n",
    "    bb.AddSquare(15, 9, -1)    \n",
    "    bb.AddSquare(9, 15, -1)\n",
    "    return bb\n"
   ]
  },
  {
   "cell_type": "code",
   "execution_count": 136,
   "metadata": {
    "slideshow": {
     "slide_type": "subslide"
    }
   },
   "outputs": [
    {
     "data": {
      "image/svg+xml": [
       "b'<svg height=\"530\" version=\"1.1\" width=\"530\" xmlns=\"http://www.w3.org/2000/svg\"><g style=\"fill-opacity:1.0; stroke:black; stroke-width:1;\"><rect height=\"530\" style=\"fill:wheat;\" width=\"530\" x=\"0\" y=\"0\" /><line x1=\"40\" x2=\"40\" y1=\"40\" y2=\"490\" /><line x1=\"65\" x2=\"65\" y1=\"40\" y2=\"490\" /><line x1=\"90\" x2=\"90\" y1=\"40\" y2=\"490\" /><line x1=\"115\" x2=\"115\" y1=\"40\" y2=\"490\" /><line x1=\"140\" x2=\"140\" y1=\"40\" y2=\"490\" /><line x1=\"165\" x2=\"165\" y1=\"40\" y2=\"490\" /><line x1=\"190\" x2=\"190\" y1=\"40\" y2=\"490\" /><line x1=\"215\" x2=\"215\" y1=\"40\" y2=\"490\" /><line x1=\"240\" x2=\"240\" y1=\"40\" y2=\"490\" /><line x1=\"265\" x2=\"265\" y1=\"40\" y2=\"490\" /><line x1=\"290\" x2=\"290\" y1=\"40\" y2=\"490\" /><line x1=\"315\" x2=\"315\" y1=\"40\" y2=\"490\" /><line x1=\"340\" x2=\"340\" y1=\"40\" y2=\"490\" /><line x1=\"365\" x2=\"365\" y1=\"40\" y2=\"490\" /><line x1=\"390\" x2=\"390\" y1=\"40\" y2=\"490\" /><line x1=\"415\" x2=\"415\" y1=\"40\" y2=\"490\" /><line x1=\"440\" x2=\"440\" y1=\"40\" y2=\"490\" /><line x1=\"465\" x2=\"465\" y1=\"40\" y2=\"490\" /><line x1=\"490\" x2=\"490\" y1=\"40\" y2=\"490\" /><line x1=\"40\" x2=\"490\" y1=\"40\" y2=\"40\" /><line x1=\"40\" x2=\"490\" y1=\"65\" y2=\"65\" /><line x1=\"40\" x2=\"490\" y1=\"90\" y2=\"90\" /><line x1=\"40\" x2=\"490\" y1=\"115\" y2=\"115\" /><line x1=\"40\" x2=\"490\" y1=\"140\" y2=\"140\" /><line x1=\"40\" x2=\"490\" y1=\"165\" y2=\"165\" /><line x1=\"40\" x2=\"490\" y1=\"190\" y2=\"190\" /><line x1=\"40\" x2=\"490\" y1=\"215\" y2=\"215\" /><line x1=\"40\" x2=\"490\" y1=\"240\" y2=\"240\" /><line x1=\"40\" x2=\"490\" y1=\"265\" y2=\"265\" /><line x1=\"40\" x2=\"490\" y1=\"290\" y2=\"290\" /><line x1=\"40\" x2=\"490\" y1=\"315\" y2=\"315\" /><line x1=\"40\" x2=\"490\" y1=\"340\" y2=\"340\" /><line x1=\"40\" x2=\"490\" y1=\"365\" y2=\"365\" /><line x1=\"40\" x2=\"490\" y1=\"390\" y2=\"390\" /><line x1=\"40\" x2=\"490\" y1=\"415\" y2=\"415\" /><line x1=\"40\" x2=\"490\" y1=\"440\" y2=\"440\" /><line x1=\"40\" x2=\"490\" y1=\"465\" y2=\"465\" /><line x1=\"40\" x2=\"490\" y1=\"490\" y2=\"490\" /><text font-size=\"15\" font-weight=\"lighter\" x=\"36\" y=\"18\">0</text><text font-size=\"15\" font-weight=\"lighter\" x=\"36\" y=\"520\">0</text><text font-size=\"15\" font-weight=\"lighter\" x=\"61\" y=\"18\">1</text><text font-size=\"15\" font-weight=\"lighter\" x=\"61\" y=\"520\">1</text><text font-size=\"15\" font-weight=\"lighter\" x=\"86\" y=\"18\">2</text><text font-size=\"15\" font-weight=\"lighter\" x=\"86\" y=\"520\">2</text><text font-size=\"15\" font-weight=\"lighter\" x=\"111\" y=\"18\">3</text><text font-size=\"15\" font-weight=\"lighter\" x=\"111\" y=\"520\">3</text><text font-size=\"15\" font-weight=\"lighter\" x=\"136\" y=\"18\">4</text><text font-size=\"15\" font-weight=\"lighter\" x=\"136\" y=\"520\">4</text><text font-size=\"15\" font-weight=\"lighter\" x=\"161\" y=\"18\">5</text><text font-size=\"15\" font-weight=\"lighter\" x=\"161\" y=\"520\">5</text><text font-size=\"15\" font-weight=\"lighter\" x=\"186\" y=\"18\">6</text><text font-size=\"15\" font-weight=\"lighter\" x=\"186\" y=\"520\">6</text><text font-size=\"15\" font-weight=\"lighter\" x=\"211\" y=\"18\">7</text><text font-size=\"15\" font-weight=\"lighter\" x=\"211\" y=\"520\">7</text><text font-size=\"15\" font-weight=\"lighter\" x=\"236\" y=\"18\">8</text><text font-size=\"15\" font-weight=\"lighter\" x=\"236\" y=\"520\">8</text><text font-size=\"15\" font-weight=\"lighter\" x=\"261\" y=\"18\">9</text><text font-size=\"15\" font-weight=\"lighter\" x=\"261\" y=\"520\">9</text><text font-size=\"15\" font-weight=\"lighter\" x=\"286\" y=\"18\">10</text><text font-size=\"15\" font-weight=\"lighter\" x=\"286\" y=\"520\">10</text><text font-size=\"15\" font-weight=\"lighter\" x=\"311\" y=\"18\">11</text><text font-size=\"15\" font-weight=\"lighter\" x=\"311\" y=\"520\">11</text><text font-size=\"15\" font-weight=\"lighter\" x=\"336\" y=\"18\">12</text><text font-size=\"15\" font-weight=\"lighter\" x=\"336\" y=\"520\">12</text><text font-size=\"15\" font-weight=\"lighter\" x=\"361\" y=\"18\">13</text><text font-size=\"15\" font-weight=\"lighter\" x=\"361\" y=\"520\">13</text><text font-size=\"15\" font-weight=\"lighter\" x=\"386\" y=\"18\">14</text><text font-size=\"15\" font-weight=\"lighter\" x=\"386\" y=\"520\">14</text><text font-size=\"15\" font-weight=\"lighter\" x=\"411\" y=\"18\">15</text><text font-size=\"15\" font-weight=\"lighter\" x=\"411\" y=\"520\">15</text><text font-size=\"15\" font-weight=\"lighter\" x=\"436\" y=\"18\">16</text><text font-size=\"15\" font-weight=\"lighter\" x=\"436\" y=\"520\">16</text><text font-size=\"15\" font-weight=\"lighter\" x=\"461\" y=\"18\">17</text><text font-size=\"15\" font-weight=\"lighter\" x=\"461\" y=\"520\">17</text><text font-size=\"15\" font-weight=\"lighter\" x=\"486\" y=\"18\">18</text><text font-size=\"15\" font-weight=\"lighter\" x=\"486\" y=\"520\">18</text><text font-size=\"15\" font-weight=\"lighter\" x=\"7\" y=\"46\">0</text><text font-size=\"15\" font-weight=\"lighter\" x=\"508\" y=\"46\">0</text><text font-size=\"15\" font-weight=\"lighter\" x=\"7\" y=\"71\">1</text><text font-size=\"15\" font-weight=\"lighter\" x=\"508\" y=\"71\">1</text><text font-size=\"15\" font-weight=\"lighter\" x=\"7\" y=\"96\">2</text><text font-size=\"15\" font-weight=\"lighter\" x=\"508\" y=\"96\">2</text><text font-size=\"15\" font-weight=\"lighter\" x=\"7\" y=\"121\">3</text><text font-size=\"15\" font-weight=\"lighter\" x=\"508\" y=\"121\">3</text><text font-size=\"15\" font-weight=\"lighter\" x=\"7\" y=\"146\">4</text><text font-size=\"15\" font-weight=\"lighter\" x=\"508\" y=\"146\">4</text><text font-size=\"15\" font-weight=\"lighter\" x=\"7\" y=\"171\">5</text><text font-size=\"15\" font-weight=\"lighter\" x=\"508\" y=\"171\">5</text><text font-size=\"15\" font-weight=\"lighter\" x=\"7\" y=\"196\">6</text><text font-size=\"15\" font-weight=\"lighter\" x=\"508\" y=\"196\">6</text><text font-size=\"15\" font-weight=\"lighter\" x=\"7\" y=\"221\">7</text><text font-size=\"15\" font-weight=\"lighter\" x=\"508\" y=\"221\">7</text><text font-size=\"15\" font-weight=\"lighter\" x=\"7\" y=\"246\">8</text><text font-size=\"15\" font-weight=\"lighter\" x=\"508\" y=\"246\">8</text><text font-size=\"15\" font-weight=\"lighter\" x=\"7\" y=\"271\">9</text><text font-size=\"15\" font-weight=\"lighter\" x=\"508\" y=\"271\">9</text><text font-size=\"15\" font-weight=\"lighter\" x=\"7\" y=\"296\">10</text><text font-size=\"15\" font-weight=\"lighter\" x=\"508\" y=\"296\">10</text><text font-size=\"15\" font-weight=\"lighter\" x=\"7\" y=\"321\">11</text><text font-size=\"15\" font-weight=\"lighter\" x=\"508\" y=\"321\">11</text><text font-size=\"15\" font-weight=\"lighter\" x=\"7\" y=\"346\">12</text><text font-size=\"15\" font-weight=\"lighter\" x=\"508\" y=\"346\">12</text><text font-size=\"15\" font-weight=\"lighter\" x=\"7\" y=\"371\">13</text><text font-size=\"15\" font-weight=\"lighter\" x=\"508\" y=\"371\">13</text><text font-size=\"15\" font-weight=\"lighter\" x=\"7\" y=\"396\">14</text><text font-size=\"15\" font-weight=\"lighter\" x=\"508\" y=\"396\">14</text><text font-size=\"15\" font-weight=\"lighter\" x=\"7\" y=\"421\">15</text><text font-size=\"15\" font-weight=\"lighter\" x=\"508\" y=\"421\">15</text><text font-size=\"15\" font-weight=\"lighter\" x=\"7\" y=\"446\">16</text><text font-size=\"15\" font-weight=\"lighter\" x=\"508\" y=\"446\">16</text><text font-size=\"15\" font-weight=\"lighter\" x=\"7\" y=\"471\">17</text><text font-size=\"15\" font-weight=\"lighter\" x=\"508\" y=\"471\">17</text><text font-size=\"15\" font-weight=\"lighter\" x=\"7\" y=\"496\">18</text><text font-size=\"15\" font-weight=\"lighter\" x=\"508\" y=\"496\">18</text><circle cx=\"115\" cy=\"415\" r=\"2\" style=\"fill:black;\" /><circle cx=\"265\" cy=\"415\" r=\"2\" style=\"fill:black;\" /><circle cx=\"390\" cy=\"415\" r=\"2\" style=\"fill:black;\" /><circle cx=\"115\" cy=\"265\" r=\"2\" style=\"fill:black;\" /><circle cx=\"115\" cy=\"140\" r=\"2\" style=\"fill:black;\" /><circle cx=\"265\" cy=\"415\" r=\"2\" style=\"fill:black;\" /><circle cx=\"265\" cy=\"140\" r=\"2\" style=\"fill:black;\" /><circle cx=\"390\" cy=\"415\" r=\"2\" style=\"fill:black;\" /><circle cx=\"390\" cy=\"140\" r=\"2\" style=\"fill:black;\" /><circle cx=\"265.0\" cy=\"265.0\" r=\"2\" style=\"fill:black;\" /><circle cx=\"65\" cy=\"90\" r=\"11\" style=\"fill:white;\" /><circle cx=\"90\" cy=\"90\" r=\"11\" style=\"fill:white;\" /><circle cx=\"90\" cy=\"115\" r=\"11\" style=\"fill:black;\" /><circle cx=\"90\" cy=\"140\" r=\"11\" style=\"fill:black;\" /><circle cx=\"90\" cy=\"390\" r=\"11\" style=\"fill:black;\" /><circle cx=\"115\" cy=\"440\" r=\"11\" style=\"fill:white;\" /><circle cx=\"140\" cy=\"65\" r=\"11\" style=\"fill:white;\" /><circle cx=\"140\" cy=\"90\" r=\"11\" style=\"fill:white;\" /><circle cx=\"140\" cy=\"115\" r=\"11\" style=\"fill:black;\" /><circle cx=\"140\" cy=\"140\" r=\"11\" style=\"fill:black;\" /><circle cx=\"140\" cy=\"165\" r=\"11\" style=\"fill:white;\" /><circle cx=\"140\" cy=\"415\" r=\"11\" style=\"fill:white;\" /><circle cx=\"165\" cy=\"65\" r=\"11\" style=\"fill:black;\" /><circle cx=\"165\" cy=\"90\" r=\"11\" style=\"fill:black;\" /><circle cx=\"165\" cy=\"115\" r=\"11\" style=\"fill:white;\" /><circle cx=\"165\" cy=\"140\" r=\"11\" style=\"fill:white;\" /><circle cx=\"165\" cy=\"165\" r=\"11\" style=\"fill:white;\" /><circle cx=\"190\" cy=\"65\" r=\"11\" style=\"fill:black;\" /><circle cx=\"190\" cy=\"115\" r=\"11\" style=\"fill:black;\" /><circle cx=\"215\" cy=\"90\" r=\"11\" style=\"fill:black;\" /><circle cx=\"340\" cy=\"65\" r=\"11\" style=\"fill:white;\" /><circle cx=\"340\" cy=\"115\" r=\"11\" style=\"fill:black;\" /><circle cx=\"365\" cy=\"65\" r=\"11\" style=\"fill:white;\" /><circle cx=\"365\" cy=\"90\" r=\"11\" style=\"fill:black;\" /><circle cx=\"365\" cy=\"140\" r=\"11\" style=\"fill:white;\" /><circle cx=\"365\" cy=\"165\" r=\"11\" style=\"fill:black;\" /><circle cx=\"365\" cy=\"440\" r=\"11\" style=\"fill:black;\" /><circle cx=\"390\" cy=\"90\" r=\"11\" style=\"fill:white;\" /><circle cx=\"390\" cy=\"115\" r=\"11\" style=\"fill:black;\" /><circle cx=\"390\" cy=\"140\" r=\"11\" style=\"fill:black;\" /><circle cx=\"415\" cy=\"90\" r=\"11\" style=\"fill:white;\" /><circle cx=\"415\" cy=\"165\" r=\"11\" style=\"fill:white;\" /><circle cx=\"440\" cy=\"115\" r=\"11\" style=\"fill:white;\" /><circle cx=\"440\" cy=\"415\" r=\"11\" style=\"fill:black;\" /><rect fill=\"yellow\" height=\"16\" width=\"16\" x=\"82\" y=\"182\" /><text font-size=\"15\" font-weight=\"lighter\" x=\"85\" y=\"195\">0</text><rect fill=\"yellow\" height=\"16\" width=\"16\" x=\"82\" y=\"207\" /><text font-size=\"15\" font-weight=\"lighter\" x=\"85\" y=\"220\">0</text><rect fill=\"yellow\" height=\"16\" width=\"16\" x=\"107\" y=\"157\" /><text font-size=\"15\" font-weight=\"lighter\" x=\"110\" y=\"170\">0</text><rect fill=\"pink\" height=\"16\" width=\"16\" x=\"432\" y=\"257\" /><text font-size=\"15\" font-weight=\"lighter\" x=\"435\" y=\"270\">G</text><rect fill=\"pink\" height=\"16\" width=\"16\" x=\"407\" y=\"257\" /><text font-size=\"15\" font-weight=\"lighter\" x=\"410\" y=\"270\">G</text><rect fill=\"pink\" height=\"16\" width=\"16\" x=\"257\" y=\"407\" /><text font-size=\"15\" font-weight=\"lighter\" x=\"260\" y=\"420\">G</text></g></svg>'"
      ],
      "text/plain": [
       "<visualization.SvgGoBoard at 0x7f5cf02d5240>"
      ]
     },
     "execution_count": 136,
     "metadata": {},
     "output_type": "execute_result"
    }
   ],
   "source": [
    "bb = RenderRelevanceExample()\n",
    "bb"
   ]
  },
  {
   "cell_type": "code",
   "execution_count": 137,
   "metadata": {
    "slideshow": {
     "slide_type": "notes"
    }
   },
   "outputs": [],
   "source": [
    "def RenderJosekiExample():\n",
    "    bb = SvgGoBoard(19, 19, coord_style='A1')\n",
    "    bb.AddStone(3, 15, -1)\n",
    "    bb.AddSquare(3, 15, 1)\n",
    "    bb.AddStone(2, 13, 1)\n",
    "    bb.AddSquare(2, 13, 2)\n",
    "    bb.AddStone(5, 16, -1)\n",
    "    bb.AddSquare(5, 16, 3)\n",
    "    bb.AddStone(1, 15, 1)\n",
    "    bb.AddSquare(1, 15, 4)\n",
    "    bb.AddStone(2, 16, -1)\n",
    "    bb.AddSquare(2, 16, 5)\n",
    "    bb.AddStone(2, 10, 1)\n",
    "    bb.AddSquare(2, 10, 6)\n",
    "    return bb"
   ]
  },
  {
   "cell_type": "code",
   "execution_count": 138,
   "metadata": {
    "slideshow": {
     "slide_type": "subslide"
    }
   },
   "outputs": [
    {
     "data": {
      "image/svg+xml": [
       "b'<svg height=\"530\" version=\"1.1\" width=\"530\" xmlns=\"http://www.w3.org/2000/svg\"><g style=\"fill-opacity:1.0; stroke:black; stroke-width:1;\"><rect height=\"530\" style=\"fill:wheat;\" width=\"530\" x=\"0\" y=\"0\" /><line x1=\"40\" x2=\"40\" y1=\"40\" y2=\"490\" /><line x1=\"65\" x2=\"65\" y1=\"40\" y2=\"490\" /><line x1=\"90\" x2=\"90\" y1=\"40\" y2=\"490\" /><line x1=\"115\" x2=\"115\" y1=\"40\" y2=\"490\" /><line x1=\"140\" x2=\"140\" y1=\"40\" y2=\"490\" /><line x1=\"165\" x2=\"165\" y1=\"40\" y2=\"490\" /><line x1=\"190\" x2=\"190\" y1=\"40\" y2=\"490\" /><line x1=\"215\" x2=\"215\" y1=\"40\" y2=\"490\" /><line x1=\"240\" x2=\"240\" y1=\"40\" y2=\"490\" /><line x1=\"265\" x2=\"265\" y1=\"40\" y2=\"490\" /><line x1=\"290\" x2=\"290\" y1=\"40\" y2=\"490\" /><line x1=\"315\" x2=\"315\" y1=\"40\" y2=\"490\" /><line x1=\"340\" x2=\"340\" y1=\"40\" y2=\"490\" /><line x1=\"365\" x2=\"365\" y1=\"40\" y2=\"490\" /><line x1=\"390\" x2=\"390\" y1=\"40\" y2=\"490\" /><line x1=\"415\" x2=\"415\" y1=\"40\" y2=\"490\" /><line x1=\"440\" x2=\"440\" y1=\"40\" y2=\"490\" /><line x1=\"465\" x2=\"465\" y1=\"40\" y2=\"490\" /><line x1=\"490\" x2=\"490\" y1=\"40\" y2=\"490\" /><line x1=\"40\" x2=\"490\" y1=\"40\" y2=\"40\" /><line x1=\"40\" x2=\"490\" y1=\"65\" y2=\"65\" /><line x1=\"40\" x2=\"490\" y1=\"90\" y2=\"90\" /><line x1=\"40\" x2=\"490\" y1=\"115\" y2=\"115\" /><line x1=\"40\" x2=\"490\" y1=\"140\" y2=\"140\" /><line x1=\"40\" x2=\"490\" y1=\"165\" y2=\"165\" /><line x1=\"40\" x2=\"490\" y1=\"190\" y2=\"190\" /><line x1=\"40\" x2=\"490\" y1=\"215\" y2=\"215\" /><line x1=\"40\" x2=\"490\" y1=\"240\" y2=\"240\" /><line x1=\"40\" x2=\"490\" y1=\"265\" y2=\"265\" /><line x1=\"40\" x2=\"490\" y1=\"290\" y2=\"290\" /><line x1=\"40\" x2=\"490\" y1=\"315\" y2=\"315\" /><line x1=\"40\" x2=\"490\" y1=\"340\" y2=\"340\" /><line x1=\"40\" x2=\"490\" y1=\"365\" y2=\"365\" /><line x1=\"40\" x2=\"490\" y1=\"390\" y2=\"390\" /><line x1=\"40\" x2=\"490\" y1=\"415\" y2=\"415\" /><line x1=\"40\" x2=\"490\" y1=\"440\" y2=\"440\" /><line x1=\"40\" x2=\"490\" y1=\"465\" y2=\"465\" /><line x1=\"40\" x2=\"490\" y1=\"490\" y2=\"490\" /><text font-size=\"15\" font-weight=\"lighter\" x=\"36\" y=\"18\">A</text><text font-size=\"15\" font-weight=\"lighter\" x=\"36\" y=\"520\">A</text><text font-size=\"15\" font-weight=\"lighter\" x=\"61\" y=\"18\">B</text><text font-size=\"15\" font-weight=\"lighter\" x=\"61\" y=\"520\">B</text><text font-size=\"15\" font-weight=\"lighter\" x=\"86\" y=\"18\">C</text><text font-size=\"15\" font-weight=\"lighter\" x=\"86\" y=\"520\">C</text><text font-size=\"15\" font-weight=\"lighter\" x=\"111\" y=\"18\">D</text><text font-size=\"15\" font-weight=\"lighter\" x=\"111\" y=\"520\">D</text><text font-size=\"15\" font-weight=\"lighter\" x=\"136\" y=\"18\">E</text><text font-size=\"15\" font-weight=\"lighter\" x=\"136\" y=\"520\">E</text><text font-size=\"15\" font-weight=\"lighter\" x=\"161\" y=\"18\">F</text><text font-size=\"15\" font-weight=\"lighter\" x=\"161\" y=\"520\">F</text><text font-size=\"15\" font-weight=\"lighter\" x=\"186\" y=\"18\">G</text><text font-size=\"15\" font-weight=\"lighter\" x=\"186\" y=\"520\">G</text><text font-size=\"15\" font-weight=\"lighter\" x=\"211\" y=\"18\">H</text><text font-size=\"15\" font-weight=\"lighter\" x=\"211\" y=\"520\">H</text><text font-size=\"15\" font-weight=\"lighter\" x=\"236\" y=\"18\">J</text><text font-size=\"15\" font-weight=\"lighter\" x=\"236\" y=\"520\">J</text><text font-size=\"15\" font-weight=\"lighter\" x=\"261\" y=\"18\">K</text><text font-size=\"15\" font-weight=\"lighter\" x=\"261\" y=\"520\">K</text><text font-size=\"15\" font-weight=\"lighter\" x=\"286\" y=\"18\">L</text><text font-size=\"15\" font-weight=\"lighter\" x=\"286\" y=\"520\">L</text><text font-size=\"15\" font-weight=\"lighter\" x=\"311\" y=\"18\">M</text><text font-size=\"15\" font-weight=\"lighter\" x=\"311\" y=\"520\">M</text><text font-size=\"15\" font-weight=\"lighter\" x=\"336\" y=\"18\">N</text><text font-size=\"15\" font-weight=\"lighter\" x=\"336\" y=\"520\">N</text><text font-size=\"15\" font-weight=\"lighter\" x=\"361\" y=\"18\">O</text><text font-size=\"15\" font-weight=\"lighter\" x=\"361\" y=\"520\">O</text><text font-size=\"15\" font-weight=\"lighter\" x=\"386\" y=\"18\">P</text><text font-size=\"15\" font-weight=\"lighter\" x=\"386\" y=\"520\">P</text><text font-size=\"15\" font-weight=\"lighter\" x=\"411\" y=\"18\">Q</text><text font-size=\"15\" font-weight=\"lighter\" x=\"411\" y=\"520\">Q</text><text font-size=\"15\" font-weight=\"lighter\" x=\"436\" y=\"18\">R</text><text font-size=\"15\" font-weight=\"lighter\" x=\"436\" y=\"520\">R</text><text font-size=\"15\" font-weight=\"lighter\" x=\"461\" y=\"18\">S</text><text font-size=\"15\" font-weight=\"lighter\" x=\"461\" y=\"520\">S</text><text font-size=\"15\" font-weight=\"lighter\" x=\"486\" y=\"18\">T</text><text font-size=\"15\" font-weight=\"lighter\" x=\"486\" y=\"520\">T</text><text font-size=\"15\" font-weight=\"lighter\" x=\"7\" y=\"46\">1</text><text font-size=\"15\" font-weight=\"lighter\" x=\"508\" y=\"46\">1</text><text font-size=\"15\" font-weight=\"lighter\" x=\"7\" y=\"71\">2</text><text font-size=\"15\" font-weight=\"lighter\" x=\"508\" y=\"71\">2</text><text font-size=\"15\" font-weight=\"lighter\" x=\"7\" y=\"96\">3</text><text font-size=\"15\" font-weight=\"lighter\" x=\"508\" y=\"96\">3</text><text font-size=\"15\" font-weight=\"lighter\" x=\"7\" y=\"121\">4</text><text font-size=\"15\" font-weight=\"lighter\" x=\"508\" y=\"121\">4</text><text font-size=\"15\" font-weight=\"lighter\" x=\"7\" y=\"146\">5</text><text font-size=\"15\" font-weight=\"lighter\" x=\"508\" y=\"146\">5</text><text font-size=\"15\" font-weight=\"lighter\" x=\"7\" y=\"171\">6</text><text font-size=\"15\" font-weight=\"lighter\" x=\"508\" y=\"171\">6</text><text font-size=\"15\" font-weight=\"lighter\" x=\"7\" y=\"196\">7</text><text font-size=\"15\" font-weight=\"lighter\" x=\"508\" y=\"196\">7</text><text font-size=\"15\" font-weight=\"lighter\" x=\"7\" y=\"221\">8</text><text font-size=\"15\" font-weight=\"lighter\" x=\"508\" y=\"221\">8</text><text font-size=\"15\" font-weight=\"lighter\" x=\"7\" y=\"246\">9</text><text font-size=\"15\" font-weight=\"lighter\" x=\"508\" y=\"246\">9</text><text font-size=\"15\" font-weight=\"lighter\" x=\"7\" y=\"271\">10</text><text font-size=\"15\" font-weight=\"lighter\" x=\"508\" y=\"271\">10</text><text font-size=\"15\" font-weight=\"lighter\" x=\"7\" y=\"296\">11</text><text font-size=\"15\" font-weight=\"lighter\" x=\"508\" y=\"296\">11</text><text font-size=\"15\" font-weight=\"lighter\" x=\"7\" y=\"321\">12</text><text font-size=\"15\" font-weight=\"lighter\" x=\"508\" y=\"321\">12</text><text font-size=\"15\" font-weight=\"lighter\" x=\"7\" y=\"346\">13</text><text font-size=\"15\" font-weight=\"lighter\" x=\"508\" y=\"346\">13</text><text font-size=\"15\" font-weight=\"lighter\" x=\"7\" y=\"371\">14</text><text font-size=\"15\" font-weight=\"lighter\" x=\"508\" y=\"371\">14</text><text font-size=\"15\" font-weight=\"lighter\" x=\"7\" y=\"396\">15</text><text font-size=\"15\" font-weight=\"lighter\" x=\"508\" y=\"396\">15</text><text font-size=\"15\" font-weight=\"lighter\" x=\"7\" y=\"421\">16</text><text font-size=\"15\" font-weight=\"lighter\" x=\"508\" y=\"421\">16</text><text font-size=\"15\" font-weight=\"lighter\" x=\"7\" y=\"446\">17</text><text font-size=\"15\" font-weight=\"lighter\" x=\"508\" y=\"446\">17</text><text font-size=\"15\" font-weight=\"lighter\" x=\"7\" y=\"471\">18</text><text font-size=\"15\" font-weight=\"lighter\" x=\"508\" y=\"471\">18</text><text font-size=\"15\" font-weight=\"lighter\" x=\"7\" y=\"496\">19</text><text font-size=\"15\" font-weight=\"lighter\" x=\"508\" y=\"496\">19</text><circle cx=\"115\" cy=\"415\" r=\"2\" style=\"fill:black;\" /><circle cx=\"265\" cy=\"415\" r=\"2\" style=\"fill:black;\" /><circle cx=\"390\" cy=\"415\" r=\"2\" style=\"fill:black;\" /><circle cx=\"115\" cy=\"265\" r=\"2\" style=\"fill:black;\" /><circle cx=\"115\" cy=\"140\" r=\"2\" style=\"fill:black;\" /><circle cx=\"265\" cy=\"415\" r=\"2\" style=\"fill:black;\" /><circle cx=\"265\" cy=\"140\" r=\"2\" style=\"fill:black;\" /><circle cx=\"390\" cy=\"415\" r=\"2\" style=\"fill:black;\" /><circle cx=\"390\" cy=\"140\" r=\"2\" style=\"fill:black;\" /><circle cx=\"265.0\" cy=\"265.0\" r=\"2\" style=\"fill:black;\" /><circle cx=\"115\" cy=\"415\" r=\"11\" style=\"fill:white;\" /><circle cx=\"90\" cy=\"365\" r=\"11\" style=\"fill:black;\" /><circle cx=\"165\" cy=\"440\" r=\"11\" style=\"fill:white;\" /><circle cx=\"65\" cy=\"415\" r=\"11\" style=\"fill:black;\" /><circle cx=\"90\" cy=\"440\" r=\"11\" style=\"fill:white;\" /><circle cx=\"90\" cy=\"290\" r=\"11\" style=\"fill:black;\" /><rect fill=\"yellow\" height=\"16\" width=\"16\" x=\"107\" y=\"407\" /><text font-size=\"15\" font-weight=\"lighter\" x=\"110\" y=\"420\">1</text><rect fill=\"yellow\" height=\"16\" width=\"16\" x=\"82\" y=\"357\" /><text font-size=\"15\" font-weight=\"lighter\" x=\"85\" y=\"370\">2</text><rect fill=\"yellow\" height=\"16\" width=\"16\" x=\"157\" y=\"432\" /><text font-size=\"15\" font-weight=\"lighter\" x=\"160\" y=\"445\">3</text><rect fill=\"yellow\" height=\"16\" width=\"16\" x=\"57\" y=\"407\" /><text font-size=\"15\" font-weight=\"lighter\" x=\"60\" y=\"420\">4</text><rect fill=\"yellow\" height=\"16\" width=\"16\" x=\"82\" y=\"432\" /><text font-size=\"15\" font-weight=\"lighter\" x=\"85\" y=\"445\">5</text><rect fill=\"yellow\" height=\"16\" width=\"16\" x=\"82\" y=\"282\" /><text font-size=\"15\" font-weight=\"lighter\" x=\"85\" y=\"295\">6</text></g></svg>'"
      ],
      "text/plain": [
       "<visualization.SvgGoBoard at 0x7f5cf0334240>"
      ]
     },
     "execution_count": 138,
     "metadata": {},
     "output_type": "execute_result"
    }
   ],
   "source": [
    "bb = RenderJosekiExample()\n",
    "bb"
   ]
  },
  {
   "cell_type": "markdown",
   "metadata": {
    "slideshow": {
     "slide_type": "slide"
    }
   },
   "source": [
    "### Reducing Search Depth\n",
    "\n",
    "* Humans can only search 20~40 steps;\n",
    "\n",
    "* A heuristic valuation function for leaf nodes (that are far from the end of a game);\n",
    "\n",
    "* Min-max rule: \n",
    "  * $score\\_of\\_node = 1 - max\\{score\\_of\\_children\\_nodes\\}$\n"
   ]
  },
  {
   "cell_type": "markdown",
   "metadata": {
    "slideshow": {
     "slide_type": "slide"
    }
   },
   "source": [
    "### Convolutional Neural Network\n",
    "\n",
    "* Proven to be successful on image recognition, classification etc.\n",
    "\n",
    "* A Go game state is a B/W image.\n",
    "\n",
    "![](Typical_cnn.png \"Typical CNN\")"
   ]
  },
  {
   "cell_type": "markdown",
   "metadata": {
    "slideshow": {
     "slide_type": "slide"
    }
   },
   "source": [
    "### Policy Network and Value Network\n",
    "\n",
    "* Supervised training.\n",
    "\n",
    "* Features:\n",
    "  * $19\\times 19\\times 7$: image with 7 channels\n",
    "  * Channel 1: the positions of black and white stones.\n",
    "  * Channel 2-4: the positions of black chains with 1,2,3 liberties.\n",
    "  * Channel 5-7: the positions of white chains with 1,2,3 liberties.\n",
    "  \n",
    "* Target:\n",
    "  * Policy network: human player's next move.\n",
    "  * Value network: final result of current player"
   ]
  },
  {
   "cell_type": "code",
   "execution_count": 139,
   "metadata": {
    "slideshow": {
     "slide_type": "notes"
    }
   },
   "outputs": [],
   "source": [
    "def RenderFeatureChannel(k):\n",
    "    planes, label = ParseForPolicy(shusai_game[123])\n",
    "    bb = DrawGoBoard(planes.numpy()[:,:,k])\n",
    "    return bb"
   ]
  },
  {
   "cell_type": "code",
   "execution_count": 140,
   "metadata": {
    "slideshow": {
     "slide_type": "subslide"
    }
   },
   "outputs": [
    {
     "data": {
      "image/svg+xml": [
       "b'<svg height=\"530\" version=\"1.1\" width=\"530\" xmlns=\"http://www.w3.org/2000/svg\"><g style=\"fill-opacity:1.0; stroke:black; stroke-width:1;\"><rect height=\"530\" style=\"fill:wheat;\" width=\"530\" x=\"0\" y=\"0\" /><line x1=\"40\" x2=\"40\" y1=\"40\" y2=\"490\" /><line x1=\"65\" x2=\"65\" y1=\"40\" y2=\"490\" /><line x1=\"90\" x2=\"90\" y1=\"40\" y2=\"490\" /><line x1=\"115\" x2=\"115\" y1=\"40\" y2=\"490\" /><line x1=\"140\" x2=\"140\" y1=\"40\" y2=\"490\" /><line x1=\"165\" x2=\"165\" y1=\"40\" y2=\"490\" /><line x1=\"190\" x2=\"190\" y1=\"40\" y2=\"490\" /><line x1=\"215\" x2=\"215\" y1=\"40\" y2=\"490\" /><line x1=\"240\" x2=\"240\" y1=\"40\" y2=\"490\" /><line x1=\"265\" x2=\"265\" y1=\"40\" y2=\"490\" /><line x1=\"290\" x2=\"290\" y1=\"40\" y2=\"490\" /><line x1=\"315\" x2=\"315\" y1=\"40\" y2=\"490\" /><line x1=\"340\" x2=\"340\" y1=\"40\" y2=\"490\" /><line x1=\"365\" x2=\"365\" y1=\"40\" y2=\"490\" /><line x1=\"390\" x2=\"390\" y1=\"40\" y2=\"490\" /><line x1=\"415\" x2=\"415\" y1=\"40\" y2=\"490\" /><line x1=\"440\" x2=\"440\" y1=\"40\" y2=\"490\" /><line x1=\"465\" x2=\"465\" y1=\"40\" y2=\"490\" /><line x1=\"490\" x2=\"490\" y1=\"40\" y2=\"490\" /><line x1=\"40\" x2=\"490\" y1=\"40\" y2=\"40\" /><line x1=\"40\" x2=\"490\" y1=\"65\" y2=\"65\" /><line x1=\"40\" x2=\"490\" y1=\"90\" y2=\"90\" /><line x1=\"40\" x2=\"490\" y1=\"115\" y2=\"115\" /><line x1=\"40\" x2=\"490\" y1=\"140\" y2=\"140\" /><line x1=\"40\" x2=\"490\" y1=\"165\" y2=\"165\" /><line x1=\"40\" x2=\"490\" y1=\"190\" y2=\"190\" /><line x1=\"40\" x2=\"490\" y1=\"215\" y2=\"215\" /><line x1=\"40\" x2=\"490\" y1=\"240\" y2=\"240\" /><line x1=\"40\" x2=\"490\" y1=\"265\" y2=\"265\" /><line x1=\"40\" x2=\"490\" y1=\"290\" y2=\"290\" /><line x1=\"40\" x2=\"490\" y1=\"315\" y2=\"315\" /><line x1=\"40\" x2=\"490\" y1=\"340\" y2=\"340\" /><line x1=\"40\" x2=\"490\" y1=\"365\" y2=\"365\" /><line x1=\"40\" x2=\"490\" y1=\"390\" y2=\"390\" /><line x1=\"40\" x2=\"490\" y1=\"415\" y2=\"415\" /><line x1=\"40\" x2=\"490\" y1=\"440\" y2=\"440\" /><line x1=\"40\" x2=\"490\" y1=\"465\" y2=\"465\" /><line x1=\"40\" x2=\"490\" y1=\"490\" y2=\"490\" /><text font-size=\"15\" font-weight=\"lighter\" x=\"36\" y=\"18\">0</text><text font-size=\"15\" font-weight=\"lighter\" x=\"36\" y=\"520\">0</text><text font-size=\"15\" font-weight=\"lighter\" x=\"61\" y=\"18\">1</text><text font-size=\"15\" font-weight=\"lighter\" x=\"61\" y=\"520\">1</text><text font-size=\"15\" font-weight=\"lighter\" x=\"86\" y=\"18\">2</text><text font-size=\"15\" font-weight=\"lighter\" x=\"86\" y=\"520\">2</text><text font-size=\"15\" font-weight=\"lighter\" x=\"111\" y=\"18\">3</text><text font-size=\"15\" font-weight=\"lighter\" x=\"111\" y=\"520\">3</text><text font-size=\"15\" font-weight=\"lighter\" x=\"136\" y=\"18\">4</text><text font-size=\"15\" font-weight=\"lighter\" x=\"136\" y=\"520\">4</text><text font-size=\"15\" font-weight=\"lighter\" x=\"161\" y=\"18\">5</text><text font-size=\"15\" font-weight=\"lighter\" x=\"161\" y=\"520\">5</text><text font-size=\"15\" font-weight=\"lighter\" x=\"186\" y=\"18\">6</text><text font-size=\"15\" font-weight=\"lighter\" x=\"186\" y=\"520\">6</text><text font-size=\"15\" font-weight=\"lighter\" x=\"211\" y=\"18\">7</text><text font-size=\"15\" font-weight=\"lighter\" x=\"211\" y=\"520\">7</text><text font-size=\"15\" font-weight=\"lighter\" x=\"236\" y=\"18\">8</text><text font-size=\"15\" font-weight=\"lighter\" x=\"236\" y=\"520\">8</text><text font-size=\"15\" font-weight=\"lighter\" x=\"261\" y=\"18\">9</text><text font-size=\"15\" font-weight=\"lighter\" x=\"261\" y=\"520\">9</text><text font-size=\"15\" font-weight=\"lighter\" x=\"286\" y=\"18\">10</text><text font-size=\"15\" font-weight=\"lighter\" x=\"286\" y=\"520\">10</text><text font-size=\"15\" font-weight=\"lighter\" x=\"311\" y=\"18\">11</text><text font-size=\"15\" font-weight=\"lighter\" x=\"311\" y=\"520\">11</text><text font-size=\"15\" font-weight=\"lighter\" x=\"336\" y=\"18\">12</text><text font-size=\"15\" font-weight=\"lighter\" x=\"336\" y=\"520\">12</text><text font-size=\"15\" font-weight=\"lighter\" x=\"361\" y=\"18\">13</text><text font-size=\"15\" font-weight=\"lighter\" x=\"361\" y=\"520\">13</text><text font-size=\"15\" font-weight=\"lighter\" x=\"386\" y=\"18\">14</text><text font-size=\"15\" font-weight=\"lighter\" x=\"386\" y=\"520\">14</text><text font-size=\"15\" font-weight=\"lighter\" x=\"411\" y=\"18\">15</text><text font-size=\"15\" font-weight=\"lighter\" x=\"411\" y=\"520\">15</text><text font-size=\"15\" font-weight=\"lighter\" x=\"436\" y=\"18\">16</text><text font-size=\"15\" font-weight=\"lighter\" x=\"436\" y=\"520\">16</text><text font-size=\"15\" font-weight=\"lighter\" x=\"461\" y=\"18\">17</text><text font-size=\"15\" font-weight=\"lighter\" x=\"461\" y=\"520\">17</text><text font-size=\"15\" font-weight=\"lighter\" x=\"486\" y=\"18\">18</text><text font-size=\"15\" font-weight=\"lighter\" x=\"486\" y=\"520\">18</text><text font-size=\"15\" font-weight=\"lighter\" x=\"7\" y=\"46\">0</text><text font-size=\"15\" font-weight=\"lighter\" x=\"508\" y=\"46\">0</text><text font-size=\"15\" font-weight=\"lighter\" x=\"7\" y=\"71\">1</text><text font-size=\"15\" font-weight=\"lighter\" x=\"508\" y=\"71\">1</text><text font-size=\"15\" font-weight=\"lighter\" x=\"7\" y=\"96\">2</text><text font-size=\"15\" font-weight=\"lighter\" x=\"508\" y=\"96\">2</text><text font-size=\"15\" font-weight=\"lighter\" x=\"7\" y=\"121\">3</text><text font-size=\"15\" font-weight=\"lighter\" x=\"508\" y=\"121\">3</text><text font-size=\"15\" font-weight=\"lighter\" x=\"7\" y=\"146\">4</text><text font-size=\"15\" font-weight=\"lighter\" x=\"508\" y=\"146\">4</text><text font-size=\"15\" font-weight=\"lighter\" x=\"7\" y=\"171\">5</text><text font-size=\"15\" font-weight=\"lighter\" x=\"508\" y=\"171\">5</text><text font-size=\"15\" font-weight=\"lighter\" x=\"7\" y=\"196\">6</text><text font-size=\"15\" font-weight=\"lighter\" x=\"508\" y=\"196\">6</text><text font-size=\"15\" font-weight=\"lighter\" x=\"7\" y=\"221\">7</text><text font-size=\"15\" font-weight=\"lighter\" x=\"508\" y=\"221\">7</text><text font-size=\"15\" font-weight=\"lighter\" x=\"7\" y=\"246\">8</text><text font-size=\"15\" font-weight=\"lighter\" x=\"508\" y=\"246\">8</text><text font-size=\"15\" font-weight=\"lighter\" x=\"7\" y=\"271\">9</text><text font-size=\"15\" font-weight=\"lighter\" x=\"508\" y=\"271\">9</text><text font-size=\"15\" font-weight=\"lighter\" x=\"7\" y=\"296\">10</text><text font-size=\"15\" font-weight=\"lighter\" x=\"508\" y=\"296\">10</text><text font-size=\"15\" font-weight=\"lighter\" x=\"7\" y=\"321\">11</text><text font-size=\"15\" font-weight=\"lighter\" x=\"508\" y=\"321\">11</text><text font-size=\"15\" font-weight=\"lighter\" x=\"7\" y=\"346\">12</text><text font-size=\"15\" font-weight=\"lighter\" x=\"508\" y=\"346\">12</text><text font-size=\"15\" font-weight=\"lighter\" x=\"7\" y=\"371\">13</text><text font-size=\"15\" font-weight=\"lighter\" x=\"508\" y=\"371\">13</text><text font-size=\"15\" font-weight=\"lighter\" x=\"7\" y=\"396\">14</text><text font-size=\"15\" font-weight=\"lighter\" x=\"508\" y=\"396\">14</text><text font-size=\"15\" font-weight=\"lighter\" x=\"7\" y=\"421\">15</text><text font-size=\"15\" font-weight=\"lighter\" x=\"508\" y=\"421\">15</text><text font-size=\"15\" font-weight=\"lighter\" x=\"7\" y=\"446\">16</text><text font-size=\"15\" font-weight=\"lighter\" x=\"508\" y=\"446\">16</text><text font-size=\"15\" font-weight=\"lighter\" x=\"7\" y=\"471\">17</text><text font-size=\"15\" font-weight=\"lighter\" x=\"508\" y=\"471\">17</text><text font-size=\"15\" font-weight=\"lighter\" x=\"7\" y=\"496\">18</text><text font-size=\"15\" font-weight=\"lighter\" x=\"508\" y=\"496\">18</text><circle cx=\"115\" cy=\"415\" r=\"2\" style=\"fill:black;\" /><circle cx=\"265\" cy=\"415\" r=\"2\" style=\"fill:black;\" /><circle cx=\"390\" cy=\"415\" r=\"2\" style=\"fill:black;\" /><circle cx=\"115\" cy=\"265\" r=\"2\" style=\"fill:black;\" /><circle cx=\"115\" cy=\"140\" r=\"2\" style=\"fill:black;\" /><circle cx=\"265\" cy=\"415\" r=\"2\" style=\"fill:black;\" /><circle cx=\"265\" cy=\"140\" r=\"2\" style=\"fill:black;\" /><circle cx=\"390\" cy=\"415\" r=\"2\" style=\"fill:black;\" /><circle cx=\"390\" cy=\"140\" r=\"2\" style=\"fill:black;\" /><circle cx=\"265.0\" cy=\"265.0\" r=\"2\" style=\"fill:black;\" /><circle cx=\"65\" cy=\"90\" r=\"11\" style=\"fill:white;\" /><circle cx=\"65\" cy=\"115\" r=\"11\" style=\"fill:white;\" /><circle cx=\"65\" cy=\"140\" r=\"11\" style=\"fill:black;\" /><circle cx=\"65\" cy=\"415\" r=\"11\" style=\"fill:white;\" /><circle cx=\"90\" cy=\"90\" r=\"11\" style=\"fill:white;\" /><circle cx=\"90\" cy=\"115\" r=\"11\" style=\"fill:black;\" /><circle cx=\"90\" cy=\"140\" r=\"11\" style=\"fill:black;\" /><circle cx=\"90\" cy=\"215\" r=\"11\" style=\"fill:black;\" /><circle cx=\"90\" cy=\"240\" r=\"11\" style=\"fill:black;\" /><circle cx=\"90\" cy=\"265\" r=\"11\" style=\"fill:black;\" /><circle cx=\"90\" cy=\"290\" r=\"11\" style=\"fill:black;\" /><circle cx=\"90\" cy=\"340\" r=\"11\" style=\"fill:black;\" /><circle cx=\"90\" cy=\"365\" r=\"11\" style=\"fill:black;\" /><circle cx=\"90\" cy=\"390\" r=\"11\" style=\"fill:black;\" /><circle cx=\"115\" cy=\"90\" r=\"11\" style=\"fill:white;\" /><circle cx=\"115\" cy=\"190\" r=\"11\" style=\"fill:black;\" /><circle cx=\"115\" cy=\"240\" r=\"11\" style=\"fill:white;\" /><circle cx=\"115\" cy=\"265\" r=\"11\" style=\"fill:white;\" /><circle cx=\"115\" cy=\"290\" r=\"11\" style=\"fill:white;\" /><circle cx=\"115\" cy=\"315\" r=\"11\" style=\"fill:white;\" /><circle cx=\"115\" cy=\"340\" r=\"11\" style=\"fill:white;\" /><circle cx=\"115\" cy=\"365\" r=\"11\" style=\"fill:white;\" /><circle cx=\"115\" cy=\"440\" r=\"11\" style=\"fill:white;\" /><circle cx=\"140\" cy=\"65\" r=\"11\" style=\"fill:white;\" /><circle cx=\"140\" cy=\"90\" r=\"11\" style=\"fill:white;\" /><circle cx=\"140\" cy=\"115\" r=\"11\" style=\"fill:black;\" /><circle cx=\"140\" cy=\"140\" r=\"11\" style=\"fill:black;\" /><circle cx=\"140\" cy=\"165\" r=\"11\" style=\"fill:white;\" /><circle cx=\"140\" cy=\"415\" r=\"11\" style=\"fill:white;\" /><circle cx=\"165\" cy=\"65\" r=\"11\" style=\"fill:black;\" /><circle cx=\"165\" cy=\"90\" r=\"11\" style=\"fill:black;\" /><circle cx=\"165\" cy=\"115\" r=\"11\" style=\"fill:white;\" /><circle cx=\"165\" cy=\"140\" r=\"11\" style=\"fill:white;\" /><circle cx=\"165\" cy=\"165\" r=\"11\" style=\"fill:white;\" /><circle cx=\"165\" cy=\"440\" r=\"11\" style=\"fill:white;\" /><circle cx=\"190\" cy=\"65\" r=\"11\" style=\"fill:black;\" /><circle cx=\"190\" cy=\"115\" r=\"11\" style=\"fill:black;\" /><circle cx=\"190\" cy=\"390\" r=\"11\" style=\"fill:black;\" /><circle cx=\"190\" cy=\"415\" r=\"11\" style=\"fill:white;\" /><circle cx=\"190\" cy=\"465\" r=\"11\" style=\"fill:white;\" /><circle cx=\"215\" cy=\"65\" r=\"11\" style=\"fill:black;\" /><circle cx=\"215\" cy=\"90\" r=\"11\" style=\"fill:black;\" /><circle cx=\"215\" cy=\"115\" r=\"11\" style=\"fill:white;\" /><circle cx=\"215\" cy=\"140\" r=\"11\" style=\"fill:white;\" /><circle cx=\"215\" cy=\"165\" r=\"11\" style=\"fill:white;\" /><circle cx=\"215\" cy=\"365\" r=\"11\" style=\"fill:black;\" /><circle cx=\"215\" cy=\"390\" r=\"11\" style=\"fill:white;\" /><circle cx=\"215\" cy=\"415\" r=\"11\" style=\"fill:black;\" /><circle cx=\"215\" cy=\"440\" r=\"11\" style=\"fill:white;\" /><circle cx=\"215\" cy=\"465\" r=\"11\" style=\"fill:white;\" /><circle cx=\"240\" cy=\"40\" r=\"11\" style=\"fill:black;\" /><circle cx=\"240\" cy=\"90\" r=\"11\" style=\"fill:black;\" /><circle cx=\"240\" cy=\"115\" r=\"11\" style=\"fill:white;\" /><circle cx=\"240\" cy=\"140\" r=\"11\" style=\"fill:white;\" /><circle cx=\"240\" cy=\"190\" r=\"11\" style=\"fill:white;\" /><circle cx=\"240\" cy=\"415\" r=\"11\" style=\"fill:black;\" /><circle cx=\"240\" cy=\"440\" r=\"11\" style=\"fill:black;\" /><circle cx=\"265\" cy=\"65\" r=\"11\" style=\"fill:black;\" /><circle cx=\"265\" cy=\"90\" r=\"11\" style=\"fill:white;\" /><circle cx=\"265\" cy=\"190\" r=\"11\" style=\"fill:white;\" /><circle cx=\"265\" cy=\"215\" r=\"11\" style=\"fill:black;\" /><circle cx=\"265\" cy=\"415\" r=\"11\" style=\"fill:black;\" /><circle cx=\"290\" cy=\"65\" r=\"11\" style=\"fill:white;\" /><circle cx=\"290\" cy=\"90\" r=\"11\" style=\"fill:white;\" /><circle cx=\"290\" cy=\"115\" r=\"11\" style=\"fill:white;\" /><circle cx=\"290\" cy=\"140\" r=\"11\" style=\"fill:white;\" /><circle cx=\"290\" cy=\"165\" r=\"11\" style=\"fill:white;\" /><circle cx=\"290\" cy=\"190\" r=\"11\" style=\"fill:black;\" /><circle cx=\"290\" cy=\"215\" r=\"11\" style=\"fill:black;\" /><circle cx=\"290\" cy=\"240\" r=\"11\" style=\"fill:white;\" /><circle cx=\"290\" cy=\"315\" r=\"11\" style=\"fill:black;\" /><circle cx=\"290\" cy=\"390\" r=\"11\" style=\"fill:black;\" /><circle cx=\"315\" cy=\"140\" r=\"11\" style=\"fill:white;\" /><circle cx=\"315\" cy=\"165\" r=\"11\" style=\"fill:black;\" /><circle cx=\"315\" cy=\"215\" r=\"11\" style=\"fill:black;\" /><circle cx=\"315\" cy=\"390\" r=\"11\" style=\"fill:white;\" /><circle cx=\"315\" cy=\"415\" r=\"11\" style=\"fill:black;\" /><circle cx=\"340\" cy=\"65\" r=\"11\" style=\"fill:white;\" /><circle cx=\"340\" cy=\"115\" r=\"11\" style=\"fill:black;\" /><circle cx=\"340\" cy=\"140\" r=\"11\" style=\"fill:black;\" /><circle cx=\"340\" cy=\"165\" r=\"11\" style=\"fill:black;\" /><circle cx=\"340\" cy=\"190\" r=\"11\" style=\"fill:black;\" /><circle cx=\"340\" cy=\"265\" r=\"11\" style=\"fill:black;\" /><circle cx=\"365\" cy=\"65\" r=\"11\" style=\"fill:white;\" /><circle cx=\"365\" cy=\"90\" r=\"11\" style=\"fill:black;\" /><circle cx=\"365\" cy=\"140\" r=\"11\" style=\"fill:white;\" /><circle cx=\"365\" cy=\"165\" r=\"11\" style=\"fill:black;\" /><circle cx=\"365\" cy=\"240\" r=\"11\" style=\"fill:white;\" /><circle cx=\"365\" cy=\"265\" r=\"11\" style=\"fill:black;\" /><circle cx=\"365\" cy=\"290\" r=\"11\" style=\"fill:black;\" /><circle cx=\"365\" cy=\"390\" r=\"11\" style=\"fill:white;\" /><circle cx=\"365\" cy=\"415\" r=\"11\" style=\"fill:black;\" /><circle cx=\"365\" cy=\"440\" r=\"11\" style=\"fill:black;\" /><circle cx=\"390\" cy=\"90\" r=\"11\" style=\"fill:white;\" /><circle cx=\"390\" cy=\"115\" r=\"11\" style=\"fill:black;\" /><circle cx=\"390\" cy=\"140\" r=\"11\" style=\"fill:black;\" /><circle cx=\"390\" cy=\"265\" r=\"11\" style=\"fill:white;\" /><circle cx=\"390\" cy=\"290\" r=\"11\" style=\"fill:white;\" /><circle cx=\"390\" cy=\"315\" r=\"11\" style=\"fill:black;\" /><circle cx=\"415\" cy=\"90\" r=\"11\" style=\"fill:white;\" /><circle cx=\"415\" cy=\"165\" r=\"11\" style=\"fill:white;\" /><circle cx=\"415\" cy=\"215\" r=\"11\" style=\"fill:white;\" /><circle cx=\"415\" cy=\"365\" r=\"11\" style=\"fill:black;\" /><circle cx=\"440\" cy=\"115\" r=\"11\" style=\"fill:white;\" /><circle cx=\"440\" cy=\"265\" r=\"11\" style=\"fill:white;\" /><circle cx=\"440\" cy=\"315\" r=\"11\" style=\"fill:black;\" /><circle cx=\"440\" cy=\"340\" r=\"11\" style=\"fill:black;\" /><circle cx=\"440\" cy=\"365\" r=\"11\" style=\"fill:white;\" /><circle cx=\"440\" cy=\"390\" r=\"11\" style=\"fill:black;\" /><circle cx=\"440\" cy=\"415\" r=\"11\" style=\"fill:black;\" /><circle cx=\"465\" cy=\"240\" r=\"11\" style=\"fill:white;\" /><circle cx=\"465\" cy=\"265\" r=\"11\" style=\"fill:black;\" /><circle cx=\"465\" cy=\"290\" r=\"11\" style=\"fill:white;\" /><circle cx=\"465\" cy=\"315\" r=\"11\" style=\"fill:black;\" /><circle cx=\"465\" cy=\"340\" r=\"11\" style=\"fill:white;\" /><circle cx=\"465\" cy=\"365\" r=\"11\" style=\"fill:white;\" /><circle cx=\"490\" cy=\"315\" r=\"11\" style=\"fill:white;\" /><circle cx=\"490\" cy=\"415\" r=\"11\" style=\"fill:white;\" /></g></svg>'"
      ],
      "text/plain": [
       "<visualization.SvgGoBoard at 0x7f5d4db737b8>"
      ]
     },
     "execution_count": 140,
     "metadata": {},
     "output_type": "execute_result"
    }
   ],
   "source": [
    "bb = RenderFeatureChannel(0)\n",
    "bb"
   ]
  },
  {
   "cell_type": "code",
   "execution_count": 141,
   "metadata": {
    "slideshow": {
     "slide_type": "subslide"
    }
   },
   "outputs": [
    {
     "data": {
      "image/svg+xml": [
       "b'<svg height=\"530\" version=\"1.1\" width=\"530\" xmlns=\"http://www.w3.org/2000/svg\"><g style=\"fill-opacity:1.0; stroke:black; stroke-width:1;\"><rect height=\"530\" style=\"fill:wheat;\" width=\"530\" x=\"0\" y=\"0\" /><line x1=\"40\" x2=\"40\" y1=\"40\" y2=\"490\" /><line x1=\"65\" x2=\"65\" y1=\"40\" y2=\"490\" /><line x1=\"90\" x2=\"90\" y1=\"40\" y2=\"490\" /><line x1=\"115\" x2=\"115\" y1=\"40\" y2=\"490\" /><line x1=\"140\" x2=\"140\" y1=\"40\" y2=\"490\" /><line x1=\"165\" x2=\"165\" y1=\"40\" y2=\"490\" /><line x1=\"190\" x2=\"190\" y1=\"40\" y2=\"490\" /><line x1=\"215\" x2=\"215\" y1=\"40\" y2=\"490\" /><line x1=\"240\" x2=\"240\" y1=\"40\" y2=\"490\" /><line x1=\"265\" x2=\"265\" y1=\"40\" y2=\"490\" /><line x1=\"290\" x2=\"290\" y1=\"40\" y2=\"490\" /><line x1=\"315\" x2=\"315\" y1=\"40\" y2=\"490\" /><line x1=\"340\" x2=\"340\" y1=\"40\" y2=\"490\" /><line x1=\"365\" x2=\"365\" y1=\"40\" y2=\"490\" /><line x1=\"390\" x2=\"390\" y1=\"40\" y2=\"490\" /><line x1=\"415\" x2=\"415\" y1=\"40\" y2=\"490\" /><line x1=\"440\" x2=\"440\" y1=\"40\" y2=\"490\" /><line x1=\"465\" x2=\"465\" y1=\"40\" y2=\"490\" /><line x1=\"490\" x2=\"490\" y1=\"40\" y2=\"490\" /><line x1=\"40\" x2=\"490\" y1=\"40\" y2=\"40\" /><line x1=\"40\" x2=\"490\" y1=\"65\" y2=\"65\" /><line x1=\"40\" x2=\"490\" y1=\"90\" y2=\"90\" /><line x1=\"40\" x2=\"490\" y1=\"115\" y2=\"115\" /><line x1=\"40\" x2=\"490\" y1=\"140\" y2=\"140\" /><line x1=\"40\" x2=\"490\" y1=\"165\" y2=\"165\" /><line x1=\"40\" x2=\"490\" y1=\"190\" y2=\"190\" /><line x1=\"40\" x2=\"490\" y1=\"215\" y2=\"215\" /><line x1=\"40\" x2=\"490\" y1=\"240\" y2=\"240\" /><line x1=\"40\" x2=\"490\" y1=\"265\" y2=\"265\" /><line x1=\"40\" x2=\"490\" y1=\"290\" y2=\"290\" /><line x1=\"40\" x2=\"490\" y1=\"315\" y2=\"315\" /><line x1=\"40\" x2=\"490\" y1=\"340\" y2=\"340\" /><line x1=\"40\" x2=\"490\" y1=\"365\" y2=\"365\" /><line x1=\"40\" x2=\"490\" y1=\"390\" y2=\"390\" /><line x1=\"40\" x2=\"490\" y1=\"415\" y2=\"415\" /><line x1=\"40\" x2=\"490\" y1=\"440\" y2=\"440\" /><line x1=\"40\" x2=\"490\" y1=\"465\" y2=\"465\" /><line x1=\"40\" x2=\"490\" y1=\"490\" y2=\"490\" /><text font-size=\"15\" font-weight=\"lighter\" x=\"36\" y=\"18\">0</text><text font-size=\"15\" font-weight=\"lighter\" x=\"36\" y=\"520\">0</text><text font-size=\"15\" font-weight=\"lighter\" x=\"61\" y=\"18\">1</text><text font-size=\"15\" font-weight=\"lighter\" x=\"61\" y=\"520\">1</text><text font-size=\"15\" font-weight=\"lighter\" x=\"86\" y=\"18\">2</text><text font-size=\"15\" font-weight=\"lighter\" x=\"86\" y=\"520\">2</text><text font-size=\"15\" font-weight=\"lighter\" x=\"111\" y=\"18\">3</text><text font-size=\"15\" font-weight=\"lighter\" x=\"111\" y=\"520\">3</text><text font-size=\"15\" font-weight=\"lighter\" x=\"136\" y=\"18\">4</text><text font-size=\"15\" font-weight=\"lighter\" x=\"136\" y=\"520\">4</text><text font-size=\"15\" font-weight=\"lighter\" x=\"161\" y=\"18\">5</text><text font-size=\"15\" font-weight=\"lighter\" x=\"161\" y=\"520\">5</text><text font-size=\"15\" font-weight=\"lighter\" x=\"186\" y=\"18\">6</text><text font-size=\"15\" font-weight=\"lighter\" x=\"186\" y=\"520\">6</text><text font-size=\"15\" font-weight=\"lighter\" x=\"211\" y=\"18\">7</text><text font-size=\"15\" font-weight=\"lighter\" x=\"211\" y=\"520\">7</text><text font-size=\"15\" font-weight=\"lighter\" x=\"236\" y=\"18\">8</text><text font-size=\"15\" font-weight=\"lighter\" x=\"236\" y=\"520\">8</text><text font-size=\"15\" font-weight=\"lighter\" x=\"261\" y=\"18\">9</text><text font-size=\"15\" font-weight=\"lighter\" x=\"261\" y=\"520\">9</text><text font-size=\"15\" font-weight=\"lighter\" x=\"286\" y=\"18\">10</text><text font-size=\"15\" font-weight=\"lighter\" x=\"286\" y=\"520\">10</text><text font-size=\"15\" font-weight=\"lighter\" x=\"311\" y=\"18\">11</text><text font-size=\"15\" font-weight=\"lighter\" x=\"311\" y=\"520\">11</text><text font-size=\"15\" font-weight=\"lighter\" x=\"336\" y=\"18\">12</text><text font-size=\"15\" font-weight=\"lighter\" x=\"336\" y=\"520\">12</text><text font-size=\"15\" font-weight=\"lighter\" x=\"361\" y=\"18\">13</text><text font-size=\"15\" font-weight=\"lighter\" x=\"361\" y=\"520\">13</text><text font-size=\"15\" font-weight=\"lighter\" x=\"386\" y=\"18\">14</text><text font-size=\"15\" font-weight=\"lighter\" x=\"386\" y=\"520\">14</text><text font-size=\"15\" font-weight=\"lighter\" x=\"411\" y=\"18\">15</text><text font-size=\"15\" font-weight=\"lighter\" x=\"411\" y=\"520\">15</text><text font-size=\"15\" font-weight=\"lighter\" x=\"436\" y=\"18\">16</text><text font-size=\"15\" font-weight=\"lighter\" x=\"436\" y=\"520\">16</text><text font-size=\"15\" font-weight=\"lighter\" x=\"461\" y=\"18\">17</text><text font-size=\"15\" font-weight=\"lighter\" x=\"461\" y=\"520\">17</text><text font-size=\"15\" font-weight=\"lighter\" x=\"486\" y=\"18\">18</text><text font-size=\"15\" font-weight=\"lighter\" x=\"486\" y=\"520\">18</text><text font-size=\"15\" font-weight=\"lighter\" x=\"7\" y=\"46\">0</text><text font-size=\"15\" font-weight=\"lighter\" x=\"508\" y=\"46\">0</text><text font-size=\"15\" font-weight=\"lighter\" x=\"7\" y=\"71\">1</text><text font-size=\"15\" font-weight=\"lighter\" x=\"508\" y=\"71\">1</text><text font-size=\"15\" font-weight=\"lighter\" x=\"7\" y=\"96\">2</text><text font-size=\"15\" font-weight=\"lighter\" x=\"508\" y=\"96\">2</text><text font-size=\"15\" font-weight=\"lighter\" x=\"7\" y=\"121\">3</text><text font-size=\"15\" font-weight=\"lighter\" x=\"508\" y=\"121\">3</text><text font-size=\"15\" font-weight=\"lighter\" x=\"7\" y=\"146\">4</text><text font-size=\"15\" font-weight=\"lighter\" x=\"508\" y=\"146\">4</text><text font-size=\"15\" font-weight=\"lighter\" x=\"7\" y=\"171\">5</text><text font-size=\"15\" font-weight=\"lighter\" x=\"508\" y=\"171\">5</text><text font-size=\"15\" font-weight=\"lighter\" x=\"7\" y=\"196\">6</text><text font-size=\"15\" font-weight=\"lighter\" x=\"508\" y=\"196\">6</text><text font-size=\"15\" font-weight=\"lighter\" x=\"7\" y=\"221\">7</text><text font-size=\"15\" font-weight=\"lighter\" x=\"508\" y=\"221\">7</text><text font-size=\"15\" font-weight=\"lighter\" x=\"7\" y=\"246\">8</text><text font-size=\"15\" font-weight=\"lighter\" x=\"508\" y=\"246\">8</text><text font-size=\"15\" font-weight=\"lighter\" x=\"7\" y=\"271\">9</text><text font-size=\"15\" font-weight=\"lighter\" x=\"508\" y=\"271\">9</text><text font-size=\"15\" font-weight=\"lighter\" x=\"7\" y=\"296\">10</text><text font-size=\"15\" font-weight=\"lighter\" x=\"508\" y=\"296\">10</text><text font-size=\"15\" font-weight=\"lighter\" x=\"7\" y=\"321\">11</text><text font-size=\"15\" font-weight=\"lighter\" x=\"508\" y=\"321\">11</text><text font-size=\"15\" font-weight=\"lighter\" x=\"7\" y=\"346\">12</text><text font-size=\"15\" font-weight=\"lighter\" x=\"508\" y=\"346\">12</text><text font-size=\"15\" font-weight=\"lighter\" x=\"7\" y=\"371\">13</text><text font-size=\"15\" font-weight=\"lighter\" x=\"508\" y=\"371\">13</text><text font-size=\"15\" font-weight=\"lighter\" x=\"7\" y=\"396\">14</text><text font-size=\"15\" font-weight=\"lighter\" x=\"508\" y=\"396\">14</text><text font-size=\"15\" font-weight=\"lighter\" x=\"7\" y=\"421\">15</text><text font-size=\"15\" font-weight=\"lighter\" x=\"508\" y=\"421\">15</text><text font-size=\"15\" font-weight=\"lighter\" x=\"7\" y=\"446\">16</text><text font-size=\"15\" font-weight=\"lighter\" x=\"508\" y=\"446\">16</text><text font-size=\"15\" font-weight=\"lighter\" x=\"7\" y=\"471\">17</text><text font-size=\"15\" font-weight=\"lighter\" x=\"508\" y=\"471\">17</text><text font-size=\"15\" font-weight=\"lighter\" x=\"7\" y=\"496\">18</text><text font-size=\"15\" font-weight=\"lighter\" x=\"508\" y=\"496\">18</text><circle cx=\"115\" cy=\"415\" r=\"2\" style=\"fill:black;\" /><circle cx=\"265\" cy=\"415\" r=\"2\" style=\"fill:black;\" /><circle cx=\"390\" cy=\"415\" r=\"2\" style=\"fill:black;\" /><circle cx=\"115\" cy=\"265\" r=\"2\" style=\"fill:black;\" /><circle cx=\"115\" cy=\"140\" r=\"2\" style=\"fill:black;\" /><circle cx=\"265\" cy=\"415\" r=\"2\" style=\"fill:black;\" /><circle cx=\"265\" cy=\"140\" r=\"2\" style=\"fill:black;\" /><circle cx=\"390\" cy=\"415\" r=\"2\" style=\"fill:black;\" /><circle cx=\"390\" cy=\"140\" r=\"2\" style=\"fill:black;\" /><circle cx=\"265.0\" cy=\"265.0\" r=\"2\" style=\"fill:black;\" /><circle cx=\"465\" cy=\"265\" r=\"11\" style=\"fill:black;\" /></g></svg>'"
      ],
      "text/plain": [
       "<visualization.SvgGoBoard at 0x7f5cf0334f98>"
      ]
     },
     "execution_count": 141,
     "metadata": {},
     "output_type": "execute_result"
    }
   ],
   "source": [
    "bb = RenderFeatureChannel(1)\n",
    "bb"
   ]
  },
  {
   "cell_type": "code",
   "execution_count": 142,
   "metadata": {
    "slideshow": {
     "slide_type": "subslide"
    }
   },
   "outputs": [
    {
     "data": {
      "image/svg+xml": [
       "b'<svg height=\"530\" version=\"1.1\" width=\"530\" xmlns=\"http://www.w3.org/2000/svg\"><g style=\"fill-opacity:1.0; stroke:black; stroke-width:1;\"><rect height=\"530\" style=\"fill:wheat;\" width=\"530\" x=\"0\" y=\"0\" /><line x1=\"40\" x2=\"40\" y1=\"40\" y2=\"490\" /><line x1=\"65\" x2=\"65\" y1=\"40\" y2=\"490\" /><line x1=\"90\" x2=\"90\" y1=\"40\" y2=\"490\" /><line x1=\"115\" x2=\"115\" y1=\"40\" y2=\"490\" /><line x1=\"140\" x2=\"140\" y1=\"40\" y2=\"490\" /><line x1=\"165\" x2=\"165\" y1=\"40\" y2=\"490\" /><line x1=\"190\" x2=\"190\" y1=\"40\" y2=\"490\" /><line x1=\"215\" x2=\"215\" y1=\"40\" y2=\"490\" /><line x1=\"240\" x2=\"240\" y1=\"40\" y2=\"490\" /><line x1=\"265\" x2=\"265\" y1=\"40\" y2=\"490\" /><line x1=\"290\" x2=\"290\" y1=\"40\" y2=\"490\" /><line x1=\"315\" x2=\"315\" y1=\"40\" y2=\"490\" /><line x1=\"340\" x2=\"340\" y1=\"40\" y2=\"490\" /><line x1=\"365\" x2=\"365\" y1=\"40\" y2=\"490\" /><line x1=\"390\" x2=\"390\" y1=\"40\" y2=\"490\" /><line x1=\"415\" x2=\"415\" y1=\"40\" y2=\"490\" /><line x1=\"440\" x2=\"440\" y1=\"40\" y2=\"490\" /><line x1=\"465\" x2=\"465\" y1=\"40\" y2=\"490\" /><line x1=\"490\" x2=\"490\" y1=\"40\" y2=\"490\" /><line x1=\"40\" x2=\"490\" y1=\"40\" y2=\"40\" /><line x1=\"40\" x2=\"490\" y1=\"65\" y2=\"65\" /><line x1=\"40\" x2=\"490\" y1=\"90\" y2=\"90\" /><line x1=\"40\" x2=\"490\" y1=\"115\" y2=\"115\" /><line x1=\"40\" x2=\"490\" y1=\"140\" y2=\"140\" /><line x1=\"40\" x2=\"490\" y1=\"165\" y2=\"165\" /><line x1=\"40\" x2=\"490\" y1=\"190\" y2=\"190\" /><line x1=\"40\" x2=\"490\" y1=\"215\" y2=\"215\" /><line x1=\"40\" x2=\"490\" y1=\"240\" y2=\"240\" /><line x1=\"40\" x2=\"490\" y1=\"265\" y2=\"265\" /><line x1=\"40\" x2=\"490\" y1=\"290\" y2=\"290\" /><line x1=\"40\" x2=\"490\" y1=\"315\" y2=\"315\" /><line x1=\"40\" x2=\"490\" y1=\"340\" y2=\"340\" /><line x1=\"40\" x2=\"490\" y1=\"365\" y2=\"365\" /><line x1=\"40\" x2=\"490\" y1=\"390\" y2=\"390\" /><line x1=\"40\" x2=\"490\" y1=\"415\" y2=\"415\" /><line x1=\"40\" x2=\"490\" y1=\"440\" y2=\"440\" /><line x1=\"40\" x2=\"490\" y1=\"465\" y2=\"465\" /><line x1=\"40\" x2=\"490\" y1=\"490\" y2=\"490\" /><text font-size=\"15\" font-weight=\"lighter\" x=\"36\" y=\"18\">0</text><text font-size=\"15\" font-weight=\"lighter\" x=\"36\" y=\"520\">0</text><text font-size=\"15\" font-weight=\"lighter\" x=\"61\" y=\"18\">1</text><text font-size=\"15\" font-weight=\"lighter\" x=\"61\" y=\"520\">1</text><text font-size=\"15\" font-weight=\"lighter\" x=\"86\" y=\"18\">2</text><text font-size=\"15\" font-weight=\"lighter\" x=\"86\" y=\"520\">2</text><text font-size=\"15\" font-weight=\"lighter\" x=\"111\" y=\"18\">3</text><text font-size=\"15\" font-weight=\"lighter\" x=\"111\" y=\"520\">3</text><text font-size=\"15\" font-weight=\"lighter\" x=\"136\" y=\"18\">4</text><text font-size=\"15\" font-weight=\"lighter\" x=\"136\" y=\"520\">4</text><text font-size=\"15\" font-weight=\"lighter\" x=\"161\" y=\"18\">5</text><text font-size=\"15\" font-weight=\"lighter\" x=\"161\" y=\"520\">5</text><text font-size=\"15\" font-weight=\"lighter\" x=\"186\" y=\"18\">6</text><text font-size=\"15\" font-weight=\"lighter\" x=\"186\" y=\"520\">6</text><text font-size=\"15\" font-weight=\"lighter\" x=\"211\" y=\"18\">7</text><text font-size=\"15\" font-weight=\"lighter\" x=\"211\" y=\"520\">7</text><text font-size=\"15\" font-weight=\"lighter\" x=\"236\" y=\"18\">8</text><text font-size=\"15\" font-weight=\"lighter\" x=\"236\" y=\"520\">8</text><text font-size=\"15\" font-weight=\"lighter\" x=\"261\" y=\"18\">9</text><text font-size=\"15\" font-weight=\"lighter\" x=\"261\" y=\"520\">9</text><text font-size=\"15\" font-weight=\"lighter\" x=\"286\" y=\"18\">10</text><text font-size=\"15\" font-weight=\"lighter\" x=\"286\" y=\"520\">10</text><text font-size=\"15\" font-weight=\"lighter\" x=\"311\" y=\"18\">11</text><text font-size=\"15\" font-weight=\"lighter\" x=\"311\" y=\"520\">11</text><text font-size=\"15\" font-weight=\"lighter\" x=\"336\" y=\"18\">12</text><text font-size=\"15\" font-weight=\"lighter\" x=\"336\" y=\"520\">12</text><text font-size=\"15\" font-weight=\"lighter\" x=\"361\" y=\"18\">13</text><text font-size=\"15\" font-weight=\"lighter\" x=\"361\" y=\"520\">13</text><text font-size=\"15\" font-weight=\"lighter\" x=\"386\" y=\"18\">14</text><text font-size=\"15\" font-weight=\"lighter\" x=\"386\" y=\"520\">14</text><text font-size=\"15\" font-weight=\"lighter\" x=\"411\" y=\"18\">15</text><text font-size=\"15\" font-weight=\"lighter\" x=\"411\" y=\"520\">15</text><text font-size=\"15\" font-weight=\"lighter\" x=\"436\" y=\"18\">16</text><text font-size=\"15\" font-weight=\"lighter\" x=\"436\" y=\"520\">16</text><text font-size=\"15\" font-weight=\"lighter\" x=\"461\" y=\"18\">17</text><text font-size=\"15\" font-weight=\"lighter\" x=\"461\" y=\"520\">17</text><text font-size=\"15\" font-weight=\"lighter\" x=\"486\" y=\"18\">18</text><text font-size=\"15\" font-weight=\"lighter\" x=\"486\" y=\"520\">18</text><text font-size=\"15\" font-weight=\"lighter\" x=\"7\" y=\"46\">0</text><text font-size=\"15\" font-weight=\"lighter\" x=\"508\" y=\"46\">0</text><text font-size=\"15\" font-weight=\"lighter\" x=\"7\" y=\"71\">1</text><text font-size=\"15\" font-weight=\"lighter\" x=\"508\" y=\"71\">1</text><text font-size=\"15\" font-weight=\"lighter\" x=\"7\" y=\"96\">2</text><text font-size=\"15\" font-weight=\"lighter\" x=\"508\" y=\"96\">2</text><text font-size=\"15\" font-weight=\"lighter\" x=\"7\" y=\"121\">3</text><text font-size=\"15\" font-weight=\"lighter\" x=\"508\" y=\"121\">3</text><text font-size=\"15\" font-weight=\"lighter\" x=\"7\" y=\"146\">4</text><text font-size=\"15\" font-weight=\"lighter\" x=\"508\" y=\"146\">4</text><text font-size=\"15\" font-weight=\"lighter\" x=\"7\" y=\"171\">5</text><text font-size=\"15\" font-weight=\"lighter\" x=\"508\" y=\"171\">5</text><text font-size=\"15\" font-weight=\"lighter\" x=\"7\" y=\"196\">6</text><text font-size=\"15\" font-weight=\"lighter\" x=\"508\" y=\"196\">6</text><text font-size=\"15\" font-weight=\"lighter\" x=\"7\" y=\"221\">7</text><text font-size=\"15\" font-weight=\"lighter\" x=\"508\" y=\"221\">7</text><text font-size=\"15\" font-weight=\"lighter\" x=\"7\" y=\"246\">8</text><text font-size=\"15\" font-weight=\"lighter\" x=\"508\" y=\"246\">8</text><text font-size=\"15\" font-weight=\"lighter\" x=\"7\" y=\"271\">9</text><text font-size=\"15\" font-weight=\"lighter\" x=\"508\" y=\"271\">9</text><text font-size=\"15\" font-weight=\"lighter\" x=\"7\" y=\"296\">10</text><text font-size=\"15\" font-weight=\"lighter\" x=\"508\" y=\"296\">10</text><text font-size=\"15\" font-weight=\"lighter\" x=\"7\" y=\"321\">11</text><text font-size=\"15\" font-weight=\"lighter\" x=\"508\" y=\"321\">11</text><text font-size=\"15\" font-weight=\"lighter\" x=\"7\" y=\"346\">12</text><text font-size=\"15\" font-weight=\"lighter\" x=\"508\" y=\"346\">12</text><text font-size=\"15\" font-weight=\"lighter\" x=\"7\" y=\"371\">13</text><text font-size=\"15\" font-weight=\"lighter\" x=\"508\" y=\"371\">13</text><text font-size=\"15\" font-weight=\"lighter\" x=\"7\" y=\"396\">14</text><text font-size=\"15\" font-weight=\"lighter\" x=\"508\" y=\"396\">14</text><text font-size=\"15\" font-weight=\"lighter\" x=\"7\" y=\"421\">15</text><text font-size=\"15\" font-weight=\"lighter\" x=\"508\" y=\"421\">15</text><text font-size=\"15\" font-weight=\"lighter\" x=\"7\" y=\"446\">16</text><text font-size=\"15\" font-weight=\"lighter\" x=\"508\" y=\"446\">16</text><text font-size=\"15\" font-weight=\"lighter\" x=\"7\" y=\"471\">17</text><text font-size=\"15\" font-weight=\"lighter\" x=\"508\" y=\"471\">17</text><text font-size=\"15\" font-weight=\"lighter\" x=\"7\" y=\"496\">18</text><text font-size=\"15\" font-weight=\"lighter\" x=\"508\" y=\"496\">18</text><circle cx=\"115\" cy=\"415\" r=\"2\" style=\"fill:black;\" /><circle cx=\"265\" cy=\"415\" r=\"2\" style=\"fill:black;\" /><circle cx=\"390\" cy=\"415\" r=\"2\" style=\"fill:black;\" /><circle cx=\"115\" cy=\"265\" r=\"2\" style=\"fill:black;\" /><circle cx=\"115\" cy=\"140\" r=\"2\" style=\"fill:black;\" /><circle cx=\"265\" cy=\"415\" r=\"2\" style=\"fill:black;\" /><circle cx=\"265\" cy=\"140\" r=\"2\" style=\"fill:black;\" /><circle cx=\"390\" cy=\"415\" r=\"2\" style=\"fill:black;\" /><circle cx=\"390\" cy=\"140\" r=\"2\" style=\"fill:black;\" /><circle cx=\"265.0\" cy=\"265.0\" r=\"2\" style=\"fill:black;\" /><circle cx=\"140\" cy=\"115\" r=\"11\" style=\"fill:black;\" /><circle cx=\"140\" cy=\"140\" r=\"11\" style=\"fill:black;\" /><circle cx=\"190\" cy=\"115\" r=\"11\" style=\"fill:black;\" /><circle cx=\"190\" cy=\"390\" r=\"11\" style=\"fill:black;\" /><circle cx=\"265\" cy=\"65\" r=\"11\" style=\"fill:black;\" /><circle cx=\"365\" cy=\"90\" r=\"11\" style=\"fill:black;\" /></g></svg>'"
      ],
      "text/plain": [
       "<visualization.SvgGoBoard at 0x7f5cf02cb278>"
      ]
     },
     "execution_count": 142,
     "metadata": {},
     "output_type": "execute_result"
    }
   ],
   "source": [
    "bb = RenderFeatureChannel(2)\n",
    "bb"
   ]
  },
  {
   "cell_type": "code",
   "execution_count": 143,
   "metadata": {
    "slideshow": {
     "slide_type": "subslide"
    }
   },
   "outputs": [
    {
     "data": {
      "image/svg+xml": [
       "b'<svg height=\"530\" version=\"1.1\" width=\"530\" xmlns=\"http://www.w3.org/2000/svg\"><g style=\"fill-opacity:1.0; stroke:black; stroke-width:1;\"><rect height=\"530\" style=\"fill:wheat;\" width=\"530\" x=\"0\" y=\"0\" /><line x1=\"40\" x2=\"40\" y1=\"40\" y2=\"490\" /><line x1=\"65\" x2=\"65\" y1=\"40\" y2=\"490\" /><line x1=\"90\" x2=\"90\" y1=\"40\" y2=\"490\" /><line x1=\"115\" x2=\"115\" y1=\"40\" y2=\"490\" /><line x1=\"140\" x2=\"140\" y1=\"40\" y2=\"490\" /><line x1=\"165\" x2=\"165\" y1=\"40\" y2=\"490\" /><line x1=\"190\" x2=\"190\" y1=\"40\" y2=\"490\" /><line x1=\"215\" x2=\"215\" y1=\"40\" y2=\"490\" /><line x1=\"240\" x2=\"240\" y1=\"40\" y2=\"490\" /><line x1=\"265\" x2=\"265\" y1=\"40\" y2=\"490\" /><line x1=\"290\" x2=\"290\" y1=\"40\" y2=\"490\" /><line x1=\"315\" x2=\"315\" y1=\"40\" y2=\"490\" /><line x1=\"340\" x2=\"340\" y1=\"40\" y2=\"490\" /><line x1=\"365\" x2=\"365\" y1=\"40\" y2=\"490\" /><line x1=\"390\" x2=\"390\" y1=\"40\" y2=\"490\" /><line x1=\"415\" x2=\"415\" y1=\"40\" y2=\"490\" /><line x1=\"440\" x2=\"440\" y1=\"40\" y2=\"490\" /><line x1=\"465\" x2=\"465\" y1=\"40\" y2=\"490\" /><line x1=\"490\" x2=\"490\" y1=\"40\" y2=\"490\" /><line x1=\"40\" x2=\"490\" y1=\"40\" y2=\"40\" /><line x1=\"40\" x2=\"490\" y1=\"65\" y2=\"65\" /><line x1=\"40\" x2=\"490\" y1=\"90\" y2=\"90\" /><line x1=\"40\" x2=\"490\" y1=\"115\" y2=\"115\" /><line x1=\"40\" x2=\"490\" y1=\"140\" y2=\"140\" /><line x1=\"40\" x2=\"490\" y1=\"165\" y2=\"165\" /><line x1=\"40\" x2=\"490\" y1=\"190\" y2=\"190\" /><line x1=\"40\" x2=\"490\" y1=\"215\" y2=\"215\" /><line x1=\"40\" x2=\"490\" y1=\"240\" y2=\"240\" /><line x1=\"40\" x2=\"490\" y1=\"265\" y2=\"265\" /><line x1=\"40\" x2=\"490\" y1=\"290\" y2=\"290\" /><line x1=\"40\" x2=\"490\" y1=\"315\" y2=\"315\" /><line x1=\"40\" x2=\"490\" y1=\"340\" y2=\"340\" /><line x1=\"40\" x2=\"490\" y1=\"365\" y2=\"365\" /><line x1=\"40\" x2=\"490\" y1=\"390\" y2=\"390\" /><line x1=\"40\" x2=\"490\" y1=\"415\" y2=\"415\" /><line x1=\"40\" x2=\"490\" y1=\"440\" y2=\"440\" /><line x1=\"40\" x2=\"490\" y1=\"465\" y2=\"465\" /><line x1=\"40\" x2=\"490\" y1=\"490\" y2=\"490\" /><text font-size=\"15\" font-weight=\"lighter\" x=\"36\" y=\"18\">0</text><text font-size=\"15\" font-weight=\"lighter\" x=\"36\" y=\"520\">0</text><text font-size=\"15\" font-weight=\"lighter\" x=\"61\" y=\"18\">1</text><text font-size=\"15\" font-weight=\"lighter\" x=\"61\" y=\"520\">1</text><text font-size=\"15\" font-weight=\"lighter\" x=\"86\" y=\"18\">2</text><text font-size=\"15\" font-weight=\"lighter\" x=\"86\" y=\"520\">2</text><text font-size=\"15\" font-weight=\"lighter\" x=\"111\" y=\"18\">3</text><text font-size=\"15\" font-weight=\"lighter\" x=\"111\" y=\"520\">3</text><text font-size=\"15\" font-weight=\"lighter\" x=\"136\" y=\"18\">4</text><text font-size=\"15\" font-weight=\"lighter\" x=\"136\" y=\"520\">4</text><text font-size=\"15\" font-weight=\"lighter\" x=\"161\" y=\"18\">5</text><text font-size=\"15\" font-weight=\"lighter\" x=\"161\" y=\"520\">5</text><text font-size=\"15\" font-weight=\"lighter\" x=\"186\" y=\"18\">6</text><text font-size=\"15\" font-weight=\"lighter\" x=\"186\" y=\"520\">6</text><text font-size=\"15\" font-weight=\"lighter\" x=\"211\" y=\"18\">7</text><text font-size=\"15\" font-weight=\"lighter\" x=\"211\" y=\"520\">7</text><text font-size=\"15\" font-weight=\"lighter\" x=\"236\" y=\"18\">8</text><text font-size=\"15\" font-weight=\"lighter\" x=\"236\" y=\"520\">8</text><text font-size=\"15\" font-weight=\"lighter\" x=\"261\" y=\"18\">9</text><text font-size=\"15\" font-weight=\"lighter\" x=\"261\" y=\"520\">9</text><text font-size=\"15\" font-weight=\"lighter\" x=\"286\" y=\"18\">10</text><text font-size=\"15\" font-weight=\"lighter\" x=\"286\" y=\"520\">10</text><text font-size=\"15\" font-weight=\"lighter\" x=\"311\" y=\"18\">11</text><text font-size=\"15\" font-weight=\"lighter\" x=\"311\" y=\"520\">11</text><text font-size=\"15\" font-weight=\"lighter\" x=\"336\" y=\"18\">12</text><text font-size=\"15\" font-weight=\"lighter\" x=\"336\" y=\"520\">12</text><text font-size=\"15\" font-weight=\"lighter\" x=\"361\" y=\"18\">13</text><text font-size=\"15\" font-weight=\"lighter\" x=\"361\" y=\"520\">13</text><text font-size=\"15\" font-weight=\"lighter\" x=\"386\" y=\"18\">14</text><text font-size=\"15\" font-weight=\"lighter\" x=\"386\" y=\"520\">14</text><text font-size=\"15\" font-weight=\"lighter\" x=\"411\" y=\"18\">15</text><text font-size=\"15\" font-weight=\"lighter\" x=\"411\" y=\"520\">15</text><text font-size=\"15\" font-weight=\"lighter\" x=\"436\" y=\"18\">16</text><text font-size=\"15\" font-weight=\"lighter\" x=\"436\" y=\"520\">16</text><text font-size=\"15\" font-weight=\"lighter\" x=\"461\" y=\"18\">17</text><text font-size=\"15\" font-weight=\"lighter\" x=\"461\" y=\"520\">17</text><text font-size=\"15\" font-weight=\"lighter\" x=\"486\" y=\"18\">18</text><text font-size=\"15\" font-weight=\"lighter\" x=\"486\" y=\"520\">18</text><text font-size=\"15\" font-weight=\"lighter\" x=\"7\" y=\"46\">0</text><text font-size=\"15\" font-weight=\"lighter\" x=\"508\" y=\"46\">0</text><text font-size=\"15\" font-weight=\"lighter\" x=\"7\" y=\"71\">1</text><text font-size=\"15\" font-weight=\"lighter\" x=\"508\" y=\"71\">1</text><text font-size=\"15\" font-weight=\"lighter\" x=\"7\" y=\"96\">2</text><text font-size=\"15\" font-weight=\"lighter\" x=\"508\" y=\"96\">2</text><text font-size=\"15\" font-weight=\"lighter\" x=\"7\" y=\"121\">3</text><text font-size=\"15\" font-weight=\"lighter\" x=\"508\" y=\"121\">3</text><text font-size=\"15\" font-weight=\"lighter\" x=\"7\" y=\"146\">4</text><text font-size=\"15\" font-weight=\"lighter\" x=\"508\" y=\"146\">4</text><text font-size=\"15\" font-weight=\"lighter\" x=\"7\" y=\"171\">5</text><text font-size=\"15\" font-weight=\"lighter\" x=\"508\" y=\"171\">5</text><text font-size=\"15\" font-weight=\"lighter\" x=\"7\" y=\"196\">6</text><text font-size=\"15\" font-weight=\"lighter\" x=\"508\" y=\"196\">6</text><text font-size=\"15\" font-weight=\"lighter\" x=\"7\" y=\"221\">7</text><text font-size=\"15\" font-weight=\"lighter\" x=\"508\" y=\"221\">7</text><text font-size=\"15\" font-weight=\"lighter\" x=\"7\" y=\"246\">8</text><text font-size=\"15\" font-weight=\"lighter\" x=\"508\" y=\"246\">8</text><text font-size=\"15\" font-weight=\"lighter\" x=\"7\" y=\"271\">9</text><text font-size=\"15\" font-weight=\"lighter\" x=\"508\" y=\"271\">9</text><text font-size=\"15\" font-weight=\"lighter\" x=\"7\" y=\"296\">10</text><text font-size=\"15\" font-weight=\"lighter\" x=\"508\" y=\"296\">10</text><text font-size=\"15\" font-weight=\"lighter\" x=\"7\" y=\"321\">11</text><text font-size=\"15\" font-weight=\"lighter\" x=\"508\" y=\"321\">11</text><text font-size=\"15\" font-weight=\"lighter\" x=\"7\" y=\"346\">12</text><text font-size=\"15\" font-weight=\"lighter\" x=\"508\" y=\"346\">12</text><text font-size=\"15\" font-weight=\"lighter\" x=\"7\" y=\"371\">13</text><text font-size=\"15\" font-weight=\"lighter\" x=\"508\" y=\"371\">13</text><text font-size=\"15\" font-weight=\"lighter\" x=\"7\" y=\"396\">14</text><text font-size=\"15\" font-weight=\"lighter\" x=\"508\" y=\"396\">14</text><text font-size=\"15\" font-weight=\"lighter\" x=\"7\" y=\"421\">15</text><text font-size=\"15\" font-weight=\"lighter\" x=\"508\" y=\"421\">15</text><text font-size=\"15\" font-weight=\"lighter\" x=\"7\" y=\"446\">16</text><text font-size=\"15\" font-weight=\"lighter\" x=\"508\" y=\"446\">16</text><text font-size=\"15\" font-weight=\"lighter\" x=\"7\" y=\"471\">17</text><text font-size=\"15\" font-weight=\"lighter\" x=\"508\" y=\"471\">17</text><text font-size=\"15\" font-weight=\"lighter\" x=\"7\" y=\"496\">18</text><text font-size=\"15\" font-weight=\"lighter\" x=\"508\" y=\"496\">18</text><circle cx=\"115\" cy=\"415\" r=\"2\" style=\"fill:black;\" /><circle cx=\"265\" cy=\"415\" r=\"2\" style=\"fill:black;\" /><circle cx=\"390\" cy=\"415\" r=\"2\" style=\"fill:black;\" /><circle cx=\"115\" cy=\"265\" r=\"2\" style=\"fill:black;\" /><circle cx=\"115\" cy=\"140\" r=\"2\" style=\"fill:black;\" /><circle cx=\"265\" cy=\"415\" r=\"2\" style=\"fill:black;\" /><circle cx=\"265\" cy=\"140\" r=\"2\" style=\"fill:black;\" /><circle cx=\"390\" cy=\"415\" r=\"2\" style=\"fill:black;\" /><circle cx=\"390\" cy=\"140\" r=\"2\" style=\"fill:black;\" /><circle cx=\"265.0\" cy=\"265.0\" r=\"2\" style=\"fill:black;\" /><circle cx=\"215\" cy=\"365\" r=\"11\" style=\"fill:black;\" /><circle cx=\"240\" cy=\"40\" r=\"11\" style=\"fill:black;\" /><circle cx=\"290\" cy=\"390\" r=\"11\" style=\"fill:black;\" /><circle cx=\"315\" cy=\"415\" r=\"11\" style=\"fill:black;\" /><circle cx=\"390\" cy=\"315\" r=\"11\" style=\"fill:black;\" /><circle cx=\"415\" cy=\"365\" r=\"11\" style=\"fill:black;\" /><circle cx=\"440\" cy=\"315\" r=\"11\" style=\"fill:black;\" /><circle cx=\"440\" cy=\"340\" r=\"11\" style=\"fill:black;\" /><circle cx=\"465\" cy=\"315\" r=\"11\" style=\"fill:black;\" /></g></svg>'"
      ],
      "text/plain": [
       "<visualization.SvgGoBoard at 0x7f5d4da37d68>"
      ]
     },
     "execution_count": 143,
     "metadata": {},
     "output_type": "execute_result"
    }
   ],
   "source": [
    "bb = RenderFeatureChannel(3)\n",
    "bb"
   ]
  },
  {
   "cell_type": "markdown",
   "metadata": {
    "slideshow": {
     "slide_type": "slide"
    }
   },
   "source": [
    "### Model Structure\n"
   ]
  },
  {
   "cell_type": "code",
   "execution_count": 144,
   "metadata": {
    "slideshow": {
     "slide_type": "notes"
    }
   },
   "outputs": [
    {
     "name": "stdout",
     "output_type": "stream",
     "text": [
      "_________________________________________________________________\n",
      "Layer (type)                 Output Shape              Param #   \n",
      "=================================================================\n",
      "go_input (InputLayer)        (None, 19, 19, 7)         0         \n",
      "_________________________________________________________________\n",
      "conv2d_21 (Conv2D)           (None, 19, 19, 64)        22016     \n",
      "_________________________________________________________________\n",
      "conv2d_22 (Conv2D)           (None, 19, 19, 64)        200768    \n",
      "_________________________________________________________________\n",
      "conv2d_23 (Conv2D)           (None, 19, 19, 32)        51232     \n",
      "_________________________________________________________________\n",
      "conv2d_24 (Conv2D)           (None, 19, 19, 32)        25632     \n",
      "_________________________________________________________________\n",
      "dropout_8 (Dropout)          (None, 19, 19, 32)        0         \n",
      "_________________________________________________________________\n",
      "conv2d_25 (Conv2D)           (None, 19, 19, 32)        25632     \n",
      "_________________________________________________________________\n",
      "flatten_4 (Flatten)          (None, 11552)             0         \n",
      "_________________________________________________________________\n",
      "dropout_9 (Dropout)          (None, 11552)             0         \n",
      "_________________________________________________________________\n",
      "dense_8 (Dense)              (None, 512)               5915136   \n",
      "_________________________________________________________________\n",
      "dense_9 (Dense)              (None, 361)               185193    \n",
      "_________________________________________________________________\n",
      "policy_output (Activation)   (None, 361)               0         \n",
      "=================================================================\n",
      "Total params: 6,425,609\n",
      "Trainable params: 6,425,609\n",
      "Non-trainable params: 0\n",
      "_________________________________________________________________\n",
      "None\n"
     ]
    }
   ],
   "source": [
    "def BuildCommonLayers(input):\n",
    "    x = Conv2D(filters=64, kernel_size=(7,7), activation=\"relu\", padding=\"same\",\n",
    "               data_format='channels_last')(input)\n",
    "    x = Conv2D(filters=64, kernel_size=(7,7), activation=\"relu\", padding=\"same\",\n",
    "               data_format='channels_last')(x)\n",
    "    x = Conv2D(filters=32, kernel_size=(5,5), activation=\"relu\", padding=\"same\",\n",
    "               data_format='channels_last')(x)\n",
    "    x = Conv2D(filters=32, kernel_size=(5,5), activation=\"relu\", padding=\"same\",\n",
    "               data_format='channels_last')(x)\n",
    "    x = Dropout(0.5)(x)\n",
    "    x = Conv2D(filters=32, kernel_size=(5,5), activation=\"relu\", padding=\"same\",\n",
    "               data_format='channels_last')(x)\n",
    "    x = Flatten()(x)\n",
    "    x = Dropout(0.5)(x)\n",
    "    x = Dense(512)(x)\n",
    "    return x\n",
    "\n",
    "\n",
    "def CompileModel(model):\n",
    "    model.compile(optimizer=\"sgd\", loss=\"sparse_categorical_crossentropy\", metrics=[\"accuracy\"])\n",
    "    print(model.summary())\n",
    "    return model\n",
    "\n",
    "\n",
    "input = Input(shape=(19, 19, 7), name=\"go_input\")\n",
    "x = BuildCommonLayers(input)\n",
    "x = Dense(19*19)(x)\n",
    "policy_output = Activation(\"softmax\", name=\"policy_output\")(x)\n",
    "model = keras.models.Model(inputs=input, outputs=[policy_output])\n",
    "model = CompileModel(model)"
   ]
  },
  {
   "cell_type": "code",
   "execution_count": 145,
   "metadata": {},
   "outputs": [
    {
     "name": "stdout",
     "output_type": "stream",
     "text": [
      "_________________________________________________________________\n",
      "Layer (type)                 Output Shape              Param #   \n",
      "=================================================================\n",
      "go_input (InputLayer)        (None, 19, 19, 7)         0         \n",
      "_________________________________________________________________\n",
      "conv2d_21 (Conv2D)           (None, 19, 19, 64)        22016     \n",
      "_________________________________________________________________\n",
      "conv2d_22 (Conv2D)           (None, 19, 19, 64)        200768    \n",
      "_________________________________________________________________\n",
      "conv2d_23 (Conv2D)           (None, 19, 19, 32)        51232     \n",
      "_________________________________________________________________\n",
      "conv2d_24 (Conv2D)           (None, 19, 19, 32)        25632     \n",
      "_________________________________________________________________\n",
      "dropout_8 (Dropout)          (None, 19, 19, 32)        0         \n",
      "_________________________________________________________________\n",
      "conv2d_25 (Conv2D)           (None, 19, 19, 32)        25632     \n",
      "_________________________________________________________________\n",
      "flatten_4 (Flatten)          (None, 11552)             0         \n",
      "_________________________________________________________________\n",
      "dropout_9 (Dropout)          (None, 11552)             0         \n",
      "_________________________________________________________________\n",
      "dense_8 (Dense)              (None, 512)               5915136   \n",
      "_________________________________________________________________\n",
      "dense_9 (Dense)              (None, 361)               185193    \n",
      "_________________________________________________________________\n",
      "policy_output (Activation)   (None, 361)               0         \n",
      "=================================================================\n",
      "Total params: 6,425,609\n",
      "Trainable params: 6,425,609\n",
      "Non-trainable params: 0\n",
      "_________________________________________________________________\n",
      "None\n"
     ]
    }
   ],
   "source": [
    "print(model.summary())"
   ]
  },
  {
   "cell_type": "markdown",
   "metadata": {
    "slideshow": {
     "slide_type": "slide"
    }
   },
   "source": [
    "### Example of Policy Network's output\n",
    "\n",
    "* Trained with 20M training examples extracted from 90k pro games\n",
    "\n",
    "* Accuracy (of top 10 candidates): 85%\n",
    "\n",
    "* Observation:\n",
    "  * Good intuition\n",
    "  * Remember many Josekis"
   ]
  },
  {
   "cell_type": "markdown",
   "metadata": {
    "slideshow": {
     "slide_type": "subslide"
    }
   },
   "source": [
    "<img src=\"policy_output.png\" width=\"600\">"
   ]
  },
  {
   "cell_type": "markdown",
   "metadata": {
    "slideshow": {
     "slide_type": "slide"
    }
   },
   "source": [
    "### Search With Policy Network\n",
    "\n",
    "* Reducing search width by focusing on top 20 candidates.\n",
    "\n",
    "* Search only 2 steps deeper.\n"
   ]
  },
  {
   "cell_type": "markdown",
   "metadata": {
    "slideshow": {
     "slide_type": "slide"
    }
   },
   "source": [
    "### Evaluation of Leafs: MCTS with CNN\n",
    "\n",
    "* Monte Carlo Tree Search: start from a leaf node, randomly play $N$ games (rollouts)\n",
    "\n",
    "* Score of a leaf node: winning probability of current player.\n",
    "\n",
    "* Value network: help terminate a rollout early"
   ]
  }
 ],
 "metadata": {
  "celltoolbar": "Slideshow",
  "kernelspec": {
   "display_name": "Python 3",
   "language": "python",
   "name": "python3"
  },
  "language_info": {
   "codemirror_mode": {
    "name": "ipython",
    "version": 3
   },
   "file_extension": ".py",
   "mimetype": "text/x-python",
   "name": "python",
   "nbconvert_exporter": "python",
   "pygments_lexer": "ipython3",
   "version": "3.6.7"
  }
 },
 "nbformat": 4,
 "nbformat_minor": 2
}
